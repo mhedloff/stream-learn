{
 "cells": [
  {
   "cell_type": "code",
   "execution_count": 67,
   "metadata": {
    "collapsed": true,
    "ExecuteTime": {
     "start_time": "2023-04-04T08:40:25.352181Z",
     "end_time": "2023-04-04T08:40:25.370473Z"
    }
   },
   "outputs": [],
   "source": [
    "import itertools\n",
    "import os\n",
    "\n",
    "import numpy as np\n",
    "from scipy.stats import ttest_ind"
   ]
  },
  {
   "cell_type": "code",
   "execution_count": 68,
   "outputs": [],
   "source": [
    "\n",
    "DDI_SCORES_PATH = \"D:\\\\JavaTraining\\\\mgr\\\\ensemble_size\\\\ddi\"\n",
    "columns = [3, 5, 10, 20, 30, 40, 50, 75, 100]"
   ],
   "metadata": {
    "collapsed": false,
    "ExecuteTime": {
     "start_time": "2023-04-04T08:40:25.360081Z",
     "end_time": "2023-04-04T08:40:25.370473Z"
    }
   }
  },
  {
   "cell_type": "code",
   "execution_count": 69,
   "outputs": [],
   "source": [
    "ALPHA = .1\n",
    "\n",
    "\n",
    "def calculate_tables(_data, _alpha):\n",
    "    _size = _data.shape[0]\n",
    "    _table_shape = (_size, _size)\n",
    "    _tt = np.zeros(_table_shape)\n",
    "    _p_val = np.zeros(_table_shape)\n",
    "    _alpha_p = np.zeros(_table_shape)\n",
    "    for _i in range(_size):\n",
    "        for _j in range(_size):\n",
    "            _tt[_i, _j], _p_val[_i, _j] = ttest_ind(_data[_i], _data[_j])\n",
    "    _alpha_p = _p_val <= _alpha\n",
    "    return _tt, _p_val, _alpha_p\n"
   ],
   "metadata": {
    "collapsed": false,
    "ExecuteTime": {
     "start_time": "2023-04-04T08:40:25.369080Z",
     "end_time": "2023-04-04T08:40:25.436365Z"
    }
   }
  },
  {
   "cell_type": "code",
   "execution_count": 70,
   "outputs": [],
   "source": [
    "def join(_x, _delim=''):\n",
    "    if _x is np.ndarray:\n",
    "        return _delim.join(_x.tolist())\n",
    "    return _delim.join([str(__x) for __x in _x])\n",
    "\n",
    "\n",
    "def print_formatted_tbl(tbl, row_headers=None, conditional_fmt=None, col_headers=None):\n",
    "    _rows = tbl.shape[0]\n",
    "    _columns = tbl.shape[1]\n",
    "    if conditional_fmt is None:\n",
    "        conditional_fmt = []\n",
    "    _result = ''\n",
    "    if col_headers is not None:\n",
    "        if row_headers is not None:\n",
    "            _result += '\\\\cline{2-' + str(_columns + 1) + '} \\n \\\\multicolumn{1}{c|}{ } & '\n",
    "        else:\n",
    "            _result += '\\\\hline \\\\\\\\ \\n'\n",
    "        _result += join(col_headers, ' & ') + ' \\\\\\\\ \\\\hline \\n'\n",
    "\n",
    "    for _i in range(_rows):\n",
    "        if row_headers is not None:\n",
    "            _result += str(row_headers[_i]) + ' & '\n",
    "        _row_col = tbl[_i].copy()\n",
    "        for _fmt in conditional_fmt:\n",
    "            _row_col = np.vectorize(_fmt)(_row_col)\n",
    "        _result += join(_row_col, ' & ') + ' \\\\\\\\ \\\\hline \\n'\n",
    "\n",
    "    return _result\n",
    "\n",
    "\n",
    "formatters = [\n",
    "    lambda x: '\\\\cellcolor{green!25}{' + '{:.3f}'.format(x) + '}'\n",
    "        if x <= ALPHA\n",
    "        else '\\\\cellcolor{red!25}{' + '{:.3f}'.format(x) + '}'\n",
    "]\n"
   ],
   "metadata": {
    "collapsed": false,
    "ExecuteTime": {
     "start_time": "2023-04-04T08:40:25.382468Z",
     "end_time": "2023-04-04T08:40:25.439395Z"
    }
   }
  },
  {
   "cell_type": "code",
   "execution_count": 71,
   "outputs": [],
   "source": [
    "from sklearn.neural_network import MLPClassifier\n",
    "from sklearn.naive_bayes import GaussianNB\n",
    "import os\n",
    "\n",
    "RANDOM_STATES = [1000, 100000, 101010,\n",
    "                 10110, 101101, 1001,\n",
    "                 10101010, 101, 110, 1337]\n",
    "ENSEMBLE_SIZE = [3, 5, 10, 20, 30, 40, 50, 75, 100]\n",
    "CLFS = [GaussianNB, MLPClassifier]\n",
    "\n",
    "def process_data_for_clf(_clf):\n",
    "    _result = { n: np.array([]) for n in ENSEMBLE_SIZE }\n",
    "    for file in os.listdir('D:\\\\projects\\\\mgr\\\\ensemble_size\\\\ddi\\\\'):\n",
    "        if file.startswith(str(_clf)):\n",
    "            filepath = os.path.join('D:\\\\projects\\\\mgr\\\\ensemble_size\\\\ddi\\\\', file)\n",
    "            if os.path.isfile(filepath):\n",
    "                _data = np.load(filepath)\n",
    "                _n = np.int32(file.split('_')[1])\n",
    "                _result[_n] = np.append(_result[_n], np.mean(_data, axis=1))\n",
    "    return _result\n",
    "\n",
    "def calculate_tables_more_data(_data, _alpha):\n",
    "    _size = len(ENSEMBLE_SIZE)\n",
    "    _table_shape = (_size, _size)\n",
    "    _tt = np.zeros(_table_shape)\n",
    "    _p_val = np.zeros(_table_shape)\n",
    "    _alpha_p = np.zeros(_table_shape)\n",
    "    for _i, _n in enumerate(ENSEMBLE_SIZE):\n",
    "        for _j, __n in enumerate(ENSEMBLE_SIZE):\n",
    "            _tt[_i, _j], _p_val[_i, _j] = ttest_ind(_data[_n], _data[__n])\n",
    "    _alpha_p = _p_val <= _alpha\n",
    "    return _tt, _p_val, _alpha_p\n",
    "\n",
    "tt_gnb, p_val_gnb, alpha_p_gnb = calculate_tables_more_data(process_data_for_clf(GaussianNB()), ALPHA)\n",
    "tt_mlp, p_val_mlp, alpha_p_mlp = calculate_tables_more_data(process_data_for_clf(MLPClassifier()), ALPHA)"
   ],
   "metadata": {
    "collapsed": false,
    "ExecuteTime": {
     "start_time": "2023-04-04T08:40:25.397361Z",
     "end_time": "2023-04-04T08:40:25.645045Z"
    }
   }
  },
  {
   "cell_type": "code",
   "execution_count": 72,
   "outputs": [
    {
     "name": "stdout",
     "output_type": "stream",
     "text": [
      "\\cline{2-10} \n",
      " \\multicolumn{1}{c|}{ } & 3 & 5 & 10 & 20 & 30 & 40 & 50 & 75 & 100 \\\\ \\hline \n",
      "3 & \\cellcolor{red!25}{1.000} & \\cellcolor{red!25}{0.747} & \\cellcolor{red!25}{0.951} & \\cellcolor{red!25}{0.860} & \\cellcolor{red!25}{0.518} & \\cellcolor{red!25}{0.302} & \\cellcolor{red!25}{0.223} & \\cellcolor{red!25}{0.137} & \\cellcolor{green!25}{0.092} \\\\ \\hline \n",
      "5 & \\cellcolor{red!25}{0.747} & \\cellcolor{red!25}{1.000} & \\cellcolor{red!25}{0.785} & \\cellcolor{red!25}{0.592} & \\cellcolor{red!25}{0.306} & \\cellcolor{red!25}{0.163} & \\cellcolor{red!25}{0.113} & \\cellcolor{green!25}{0.063} & \\cellcolor{green!25}{0.043} \\\\ \\hline \n",
      "10 & \\cellcolor{red!25}{0.951} & \\cellcolor{red!25}{0.785} & \\cellcolor{red!25}{1.000} & \\cellcolor{red!25}{0.802} & \\cellcolor{red!25}{0.460} & \\cellcolor{red!25}{0.259} & \\cellcolor{red!25}{0.186} & \\cellcolor{red!25}{0.110} & \\cellcolor{green!25}{0.074} \\\\ \\hline \n",
      "20 & \\cellcolor{red!25}{0.860} & \\cellcolor{red!25}{0.592} & \\cellcolor{red!25}{0.802} & \\cellcolor{red!25}{1.000} & \\cellcolor{red!25}{0.608} & \\cellcolor{red!25}{0.351} & \\cellcolor{red!25}{0.257} & \\cellcolor{red!25}{0.155} & \\cellcolor{red!25}{0.103} \\\\ \\hline \n",
      "30 & \\cellcolor{red!25}{0.518} & \\cellcolor{red!25}{0.306} & \\cellcolor{red!25}{0.460} & \\cellcolor{red!25}{0.608} & \\cellcolor{red!25}{1.000} & \\cellcolor{red!25}{0.652} & \\cellcolor{red!25}{0.513} & \\cellcolor{red!25}{0.344} & \\cellcolor{red!25}{0.233} \\\\ \\hline \n",
      "40 & \\cellcolor{red!25}{0.302} & \\cellcolor{red!25}{0.163} & \\cellcolor{red!25}{0.259} & \\cellcolor{red!25}{0.351} & \\cellcolor{red!25}{0.652} & \\cellcolor{red!25}{1.000} & \\cellcolor{red!25}{0.846} & \\cellcolor{red!25}{0.634} & \\cellcolor{red!25}{0.455} \\\\ \\hline \n",
      "50 & \\cellcolor{red!25}{0.223} & \\cellcolor{red!25}{0.113} & \\cellcolor{red!25}{0.186} & \\cellcolor{red!25}{0.257} & \\cellcolor{red!25}{0.513} & \\cellcolor{red!25}{0.846} & \\cellcolor{red!25}{1.000} & \\cellcolor{red!25}{0.777} & \\cellcolor{red!25}{0.570} \\\\ \\hline \n",
      "75 & \\cellcolor{red!25}{0.137} & \\cellcolor{green!25}{0.063} & \\cellcolor{red!25}{0.110} & \\cellcolor{red!25}{0.155} & \\cellcolor{red!25}{0.344} & \\cellcolor{red!25}{0.634} & \\cellcolor{red!25}{0.777} & \\cellcolor{red!25}{1.000} & \\cellcolor{red!25}{0.762} \\\\ \\hline \n",
      "100 & \\cellcolor{green!25}{0.092} & \\cellcolor{green!25}{0.043} & \\cellcolor{green!25}{0.074} & \\cellcolor{red!25}{0.103} & \\cellcolor{red!25}{0.233} & \\cellcolor{red!25}{0.455} & \\cellcolor{red!25}{0.570} & \\cellcolor{red!25}{0.762} & \\cellcolor{red!25}{1.000} \\\\ \\hline \n",
      "\n"
     ]
    }
   ],
   "source": [
    "formatted_tbl_gnb = print_formatted_tbl(\n",
    "    p_val_gnb,\n",
    "    row_headers=ENSEMBLE_SIZE,\n",
    "    col_headers=ENSEMBLE_SIZE,\n",
    "    conditional_fmt=formatters)\n",
    "print(formatted_tbl_gnb)"
   ],
   "metadata": {
    "collapsed": false,
    "ExecuteTime": {
     "start_time": "2023-04-04T08:40:25.648160Z",
     "end_time": "2023-04-04T08:40:25.654594Z"
    }
   }
  },
  {
   "cell_type": "code",
   "execution_count": 73,
   "outputs": [
    {
     "name": "stdout",
     "output_type": "stream",
     "text": [
      "\\cline{2-10} \n",
      " \\multicolumn{1}{c|}{ } & 3 & 5 & 10 & 20 & 30 & 40 & 50 & 75 & 100 \\\\ \\hline \n",
      "3 & \\cellcolor{red!25}{1.000} & \\cellcolor{red!25}{0.358} & \\cellcolor{red!25}{0.184} & \\cellcolor{red!25}{0.102} & \\cellcolor{green!25}{0.063} & \\cellcolor{green!25}{0.056} & \\cellcolor{green!25}{0.053} & \\cellcolor{green!25}{0.060} & \\cellcolor{green!25}{0.044} \\\\ \\hline \n",
      "5 & \\cellcolor{red!25}{0.358} & \\cellcolor{red!25}{1.000} & \\cellcolor{red!25}{0.666} & \\cellcolor{red!25}{0.433} & \\cellcolor{red!25}{0.302} & \\cellcolor{red!25}{0.285} & \\cellcolor{red!25}{0.269} & \\cellcolor{red!25}{0.296} & \\cellcolor{red!25}{0.234} \\\\ \\hline \n",
      "10 & \\cellcolor{red!25}{0.184} & \\cellcolor{red!25}{0.666} & \\cellcolor{red!25}{1.000} & \\cellcolor{red!25}{0.713} & \\cellcolor{red!25}{0.533} & \\cellcolor{red!25}{0.514} & \\cellcolor{red!25}{0.490} & \\cellcolor{red!25}{0.527} & \\cellcolor{red!25}{0.437} \\\\ \\hline \n",
      "20 & \\cellcolor{red!25}{0.102} & \\cellcolor{red!25}{0.433} & \\cellcolor{red!25}{0.713} & \\cellcolor{red!25}{1.000} & \\cellcolor{red!25}{0.802} & \\cellcolor{red!25}{0.785} & \\cellcolor{red!25}{0.755} & \\cellcolor{red!25}{0.797} & \\cellcolor{red!25}{0.693} \\\\ \\hline \n",
      "30 & \\cellcolor{green!25}{0.063} & \\cellcolor{red!25}{0.302} & \\cellcolor{red!25}{0.533} & \\cellcolor{red!25}{0.802} & \\cellcolor{red!25}{1.000} & \\cellcolor{red!25}{0.987} & \\cellcolor{red!25}{0.955} & \\cellcolor{red!25}{0.998} & \\cellcolor{red!25}{0.891} \\\\ \\hline \n",
      "40 & \\cellcolor{green!25}{0.056} & \\cellcolor{red!25}{0.285} & \\cellcolor{red!25}{0.514} & \\cellcolor{red!25}{0.785} & \\cellcolor{red!25}{0.987} & \\cellcolor{red!25}{1.000} & \\cellcolor{red!25}{0.968} & \\cellcolor{red!25}{0.989} & \\cellcolor{red!25}{0.901} \\\\ \\hline \n",
      "50 & \\cellcolor{green!25}{0.053} & \\cellcolor{red!25}{0.269} & \\cellcolor{red!25}{0.490} & \\cellcolor{red!25}{0.755} & \\cellcolor{red!25}{0.955} & \\cellcolor{red!25}{0.968} & \\cellcolor{red!25}{1.000} & \\cellcolor{red!25}{0.957} & \\cellcolor{red!25}{0.934} \\\\ \\hline \n",
      "75 & \\cellcolor{green!25}{0.060} & \\cellcolor{red!25}{0.296} & \\cellcolor{red!25}{0.527} & \\cellcolor{red!25}{0.797} & \\cellcolor{red!25}{0.998} & \\cellcolor{red!25}{0.989} & \\cellcolor{red!25}{0.957} & \\cellcolor{red!25}{1.000} & \\cellcolor{red!25}{0.892} \\\\ \\hline \n",
      "100 & \\cellcolor{green!25}{0.044} & \\cellcolor{red!25}{0.234} & \\cellcolor{red!25}{0.437} & \\cellcolor{red!25}{0.693} & \\cellcolor{red!25}{0.891} & \\cellcolor{red!25}{0.901} & \\cellcolor{red!25}{0.934} & \\cellcolor{red!25}{0.892} & \\cellcolor{red!25}{1.000} \\\\ \\hline \n",
      "\n"
     ]
    }
   ],
   "source": [
    "formatted_tbl_mlp = print_formatted_tbl(\n",
    "    p_val_mlp,\n",
    "    row_headers=ENSEMBLE_SIZE,\n",
    "    col_headers=ENSEMBLE_SIZE,\n",
    "    conditional_fmt=formatters)\n",
    "print(formatted_tbl_mlp)"
   ],
   "metadata": {
    "collapsed": false,
    "ExecuteTime": {
     "start_time": "2023-04-04T08:40:25.657119Z",
     "end_time": "2023-04-04T08:40:25.669630Z"
    }
   }
  }
 ],
 "metadata": {
  "kernelspec": {
   "display_name": "Python 3",
   "language": "python",
   "name": "python3"
  },
  "language_info": {
   "codemirror_mode": {
    "name": "ipython",
    "version": 2
   },
   "file_extension": ".py",
   "mimetype": "text/x-python",
   "name": "python",
   "nbconvert_exporter": "python",
   "pygments_lexer": "ipython2",
   "version": "2.7.6"
  }
 },
 "nbformat": 4,
 "nbformat_minor": 0
}
