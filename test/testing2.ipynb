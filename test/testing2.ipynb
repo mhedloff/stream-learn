{
 "cells": [
  {
   "cell_type": "code",
   "execution_count": 119,
   "metadata": {
    "collapsed": true
   },
   "outputs": [],
   "source": [
    "import pandas as pd\n",
    "import numpy as np\n",
    "\n",
    "from matplotlib import pyplot as plt\n",
    "from matplotlib import animation"
   ]
  },
  {
   "cell_type": "code",
   "execution_count": 120,
   "outputs": [],
   "source": [
    "\"D:\\\\JavaTraining\\\\naturaObrazki\\\\jsons\\\\2_camera1674489666.json\"\n",
    "results = pd.read_json(\"D:\\\\JavaTraining\\\\naturaObrazki\\\\jsons\\\\2_camera1674489666.json\").T\n",
    "results = results.sort_values(by='mean', ascending=False)\n",
    "results.reset_index(inplace=True)\n",
    "results = results.rename(columns = {'index':'experiment'})\n",
    "results['algorithm'] = results['experiment'].str.split('_', expand=True)[0].str.split('EvalC', expand=True)[0]\n",
    "results['rand'] = results['experiment'].str.split('\\(', expand=True)[0]\n",
    "results['max_eval'] = results['experiment'].str.split('EvalC\\(', expand=True)[1].str.split('\\)', expand=True)[0]\n",
    "results['experiment'] = results['experiment'].str.split('EvalC', expand=True)[0]\n",
    "results = results[['experiment', 'max_eval', 'min', 'mean', 'max', 'algorithm', 'rand']].sort_values(by='mean', ascending=True)\n",
    "\n",
    "results_200 = results[results['max_eval'] == '200']\n",
    "results_500 = results[results['max_eval'] == '500']\n",
    "results_2000 = results[results['max_eval'] == '2000']\n",
    "\n",
    "results_200_pso = results_200[results_200['algorithm'] == 'Pso']\n",
    "results_200_ea = results_200[results_200['algorithm'] == 'EA']\n",
    "\n",
    "results_500_pso = results_500[results_500['algorithm'] == 'Pso']\n",
    "results_500_ea = results_500[results_500['algorithm'] == 'EA']\n",
    "\n",
    "results_2000_pso = results_2000[results_2000['algorithm'] == 'Pso']\n",
    "results_2000_ea = results_2000[results_2000['algorithm'] == 'EA']\n",
    "\n",
    "results_rand = results[results['rand'] == 'Rand']"
   ],
   "metadata": {
    "collapsed": false
   }
  },
  {
   "cell_type": "code",
   "execution_count": 121,
   "outputs": [
    {
     "data": {
      "text/plain": "                                            experiment max_eval        min  \\\n461  Pso_{\\alpha_{1.0}\\beta_{1.0}w_{2}i_{\\left[0.1,...      200  10.184933   \n458  Pso_{\\alpha_{1.0}\\beta_{1.0}w_{3}i_{\\left[0.1,...      200  10.184933   \n350                  EA_{p_{25}px_{0.3}pm_{0.7}_n_{4}}      200  10.184933   \n318                  EA_{p_{25}px_{0.7}pm_{0.7}_n_{4}}      200  10.185227   \n578  Pso_{\\alpha_{1.0}\\beta_{1.0}w_{5}i_{\\left[0.1,...      500  10.184933   \n586  Pso_{\\alpha_{2.0}\\beta_{2.0}w_{2}i_{\\left[0.1,...      500  10.184933   \n506                  EA_{p_{25}px_{0.7}pm_{0.7}_n_{4}}      500  10.184933   \n482                 EA_{p_{25}px_{0.01}pm_{0.7}_n_{4}}      500  10.184933   \n675  Pso_{\\alpha_{2.0}\\beta_{2.0}w_{10}i_{\\left[0.1...     2000  10.184933   \n579  Pso_{\\alpha_{1.0}\\beta_{1.0}w_{3}i_{\\left[0.1,...     2000  10.184933   \n525               EA_{p_{100}px_{0.01}pm_{0.7}_n_{10}}     2000  10.184933   \n517                 EA_{p_{50}px_{0.01}pm_{0.7}_n_{4}}     2000  10.184933   \n\n          mean        max algorithm  \\\n461  10.187208  10.193651       Pso   \n458  10.187269  10.190301       Pso   \n350  10.198473  10.276960        EA   \n318  10.202598  10.244924        EA   \n578  10.184933  10.184933       Pso   \n586  10.184933  10.184933       Pso   \n506  10.185484  10.188018        EA   \n482  10.186567  10.189193        EA   \n675  10.184933  10.184933       Pso   \n579  10.184933  10.184933       Pso   \n525  10.185087  10.186475        EA   \n517  10.185242  10.186475        EA   \n\n                                                  rand  \n461  Pso_{\\alpha_{1.0}\\beta_{1.0}w_{2}i_{\\left[0.1,...  \n458  Pso_{\\alpha_{1.0}\\beta_{1.0}w_{3}i_{\\left[0.1,...  \n350             EA_{p_{25}px_{0.3}pm_{0.7}_n_{4}}EvalC  \n318             EA_{p_{25}px_{0.7}pm_{0.7}_n_{4}}EvalC  \n578  Pso_{\\alpha_{1.0}\\beta_{1.0}w_{5}i_{\\left[0.1,...  \n586  Pso_{\\alpha_{2.0}\\beta_{2.0}w_{2}i_{\\left[0.1,...  \n506             EA_{p_{25}px_{0.7}pm_{0.7}_n_{4}}EvalC  \n482            EA_{p_{25}px_{0.01}pm_{0.7}_n_{4}}EvalC  \n675  Pso_{\\alpha_{2.0}\\beta_{2.0}w_{10}i_{\\left[0.1...  \n579  Pso_{\\alpha_{1.0}\\beta_{1.0}w_{3}i_{\\left[0.1,...  \n525          EA_{p_{100}px_{0.01}pm_{0.7}_n_{10}}EvalC  \n517            EA_{p_{50}px_{0.01}pm_{0.7}_n_{4}}EvalC  ",
      "text/html": "<div>\n<style scoped>\n    .dataframe tbody tr th:only-of-type {\n        vertical-align: middle;\n    }\n\n    .dataframe tbody tr th {\n        vertical-align: top;\n    }\n\n    .dataframe thead th {\n        text-align: right;\n    }\n</style>\n<table border=\"1\" class=\"dataframe\">\n  <thead>\n    <tr style=\"text-align: right;\">\n      <th></th>\n      <th>experiment</th>\n      <th>max_eval</th>\n      <th>min</th>\n      <th>mean</th>\n      <th>max</th>\n      <th>algorithm</th>\n      <th>rand</th>\n    </tr>\n  </thead>\n  <tbody>\n    <tr>\n      <th>461</th>\n      <td>Pso_{\\alpha_{1.0}\\beta_{1.0}w_{2}i_{\\left[0.1,...</td>\n      <td>200</td>\n      <td>10.184933</td>\n      <td>10.187208</td>\n      <td>10.193651</td>\n      <td>Pso</td>\n      <td>Pso_{\\alpha_{1.0}\\beta_{1.0}w_{2}i_{\\left[0.1,...</td>\n    </tr>\n    <tr>\n      <th>458</th>\n      <td>Pso_{\\alpha_{1.0}\\beta_{1.0}w_{3}i_{\\left[0.1,...</td>\n      <td>200</td>\n      <td>10.184933</td>\n      <td>10.187269</td>\n      <td>10.190301</td>\n      <td>Pso</td>\n      <td>Pso_{\\alpha_{1.0}\\beta_{1.0}w_{3}i_{\\left[0.1,...</td>\n    </tr>\n    <tr>\n      <th>350</th>\n      <td>EA_{p_{25}px_{0.3}pm_{0.7}_n_{4}}</td>\n      <td>200</td>\n      <td>10.184933</td>\n      <td>10.198473</td>\n      <td>10.276960</td>\n      <td>EA</td>\n      <td>EA_{p_{25}px_{0.3}pm_{0.7}_n_{4}}EvalC</td>\n    </tr>\n    <tr>\n      <th>318</th>\n      <td>EA_{p_{25}px_{0.7}pm_{0.7}_n_{4}}</td>\n      <td>200</td>\n      <td>10.185227</td>\n      <td>10.202598</td>\n      <td>10.244924</td>\n      <td>EA</td>\n      <td>EA_{p_{25}px_{0.7}pm_{0.7}_n_{4}}EvalC</td>\n    </tr>\n    <tr>\n      <th>578</th>\n      <td>Pso_{\\alpha_{1.0}\\beta_{1.0}w_{5}i_{\\left[0.1,...</td>\n      <td>500</td>\n      <td>10.184933</td>\n      <td>10.184933</td>\n      <td>10.184933</td>\n      <td>Pso</td>\n      <td>Pso_{\\alpha_{1.0}\\beta_{1.0}w_{5}i_{\\left[0.1,...</td>\n    </tr>\n    <tr>\n      <th>586</th>\n      <td>Pso_{\\alpha_{2.0}\\beta_{2.0}w_{2}i_{\\left[0.1,...</td>\n      <td>500</td>\n      <td>10.184933</td>\n      <td>10.184933</td>\n      <td>10.184933</td>\n      <td>Pso</td>\n      <td>Pso_{\\alpha_{2.0}\\beta_{2.0}w_{2}i_{\\left[0.1,...</td>\n    </tr>\n    <tr>\n      <th>506</th>\n      <td>EA_{p_{25}px_{0.7}pm_{0.7}_n_{4}}</td>\n      <td>500</td>\n      <td>10.184933</td>\n      <td>10.185484</td>\n      <td>10.188018</td>\n      <td>EA</td>\n      <td>EA_{p_{25}px_{0.7}pm_{0.7}_n_{4}}EvalC</td>\n    </tr>\n    <tr>\n      <th>482</th>\n      <td>EA_{p_{25}px_{0.01}pm_{0.7}_n_{4}}</td>\n      <td>500</td>\n      <td>10.184933</td>\n      <td>10.186567</td>\n      <td>10.189193</td>\n      <td>EA</td>\n      <td>EA_{p_{25}px_{0.01}pm_{0.7}_n_{4}}EvalC</td>\n    </tr>\n    <tr>\n      <th>675</th>\n      <td>Pso_{\\alpha_{2.0}\\beta_{2.0}w_{10}i_{\\left[0.1...</td>\n      <td>2000</td>\n      <td>10.184933</td>\n      <td>10.184933</td>\n      <td>10.184933</td>\n      <td>Pso</td>\n      <td>Pso_{\\alpha_{2.0}\\beta_{2.0}w_{10}i_{\\left[0.1...</td>\n    </tr>\n    <tr>\n      <th>579</th>\n      <td>Pso_{\\alpha_{1.0}\\beta_{1.0}w_{3}i_{\\left[0.1,...</td>\n      <td>2000</td>\n      <td>10.184933</td>\n      <td>10.184933</td>\n      <td>10.184933</td>\n      <td>Pso</td>\n      <td>Pso_{\\alpha_{1.0}\\beta_{1.0}w_{3}i_{\\left[0.1,...</td>\n    </tr>\n    <tr>\n      <th>525</th>\n      <td>EA_{p_{100}px_{0.01}pm_{0.7}_n_{10}}</td>\n      <td>2000</td>\n      <td>10.184933</td>\n      <td>10.185087</td>\n      <td>10.186475</td>\n      <td>EA</td>\n      <td>EA_{p_{100}px_{0.01}pm_{0.7}_n_{10}}EvalC</td>\n    </tr>\n    <tr>\n      <th>517</th>\n      <td>EA_{p_{50}px_{0.01}pm_{0.7}_n_{4}}</td>\n      <td>2000</td>\n      <td>10.184933</td>\n      <td>10.185242</td>\n      <td>10.186475</td>\n      <td>EA</td>\n      <td>EA_{p_{50}px_{0.01}pm_{0.7}_n_{4}}EvalC</td>\n    </tr>\n  </tbody>\n</table>\n</div>"
     },
     "execution_count": 121,
     "metadata": {},
     "output_type": "execute_result"
    }
   ],
   "source": [
    "pd.concat([\n",
    "    pd.concat([results_200_ea.head(2), results_200_pso.head(2)]).sort_values(by='mean', ascending=True),\n",
    "    pd.concat([results_500_ea.head(2), results_500_pso.head(2)]).sort_values(by='mean', ascending=True),\n",
    "    pd.concat([results_2000_ea.head(2), results_2000_pso.head(2)]).sort_values(by='mean', ascending=True),\n",
    "])"
   ],
   "metadata": {
    "collapsed": false
   }
  },
  {
   "cell_type": "code",
   "execution_count": 122,
   "outputs": [
    {
     "data": {
      "text/plain": "    experiment max_eval        min       mean        max algorithm  rand\n495      Rand(    10000  10.185881  10.185881  10.185881     Rand(  Rand",
      "text/html": "<div>\n<style scoped>\n    .dataframe tbody tr th:only-of-type {\n        vertical-align: middle;\n    }\n\n    .dataframe tbody tr th {\n        vertical-align: top;\n    }\n\n    .dataframe thead th {\n        text-align: right;\n    }\n</style>\n<table border=\"1\" class=\"dataframe\">\n  <thead>\n    <tr style=\"text-align: right;\">\n      <th></th>\n      <th>experiment</th>\n      <th>max_eval</th>\n      <th>min</th>\n      <th>mean</th>\n      <th>max</th>\n      <th>algorithm</th>\n      <th>rand</th>\n    </tr>\n  </thead>\n  <tbody>\n    <tr>\n      <th>495</th>\n      <td>Rand(</td>\n      <td>10000</td>\n      <td>10.185881</td>\n      <td>10.185881</td>\n      <td>10.185881</td>\n      <td>Rand(</td>\n      <td>Rand</td>\n    </tr>\n  </tbody>\n</table>\n</div>"
     },
     "execution_count": 122,
     "metadata": {},
     "output_type": "execute_result"
    }
   ],
   "source": [
    "results_rand"
   ],
   "metadata": {
    "collapsed": false
   }
  }
 ],
 "metadata": {
  "kernelspec": {
   "display_name": "Python 3",
   "language": "python",
   "name": "python3"
  },
  "language_info": {
   "codemirror_mode": {
    "name": "ipython",
    "version": 2
   },
   "file_extension": ".py",
   "mimetype": "text/x-python",
   "name": "python",
   "nbconvert_exporter": "python",
   "pygments_lexer": "ipython2",
   "version": "2.7.6"
  }
 },
 "nbformat": 4,
 "nbformat_minor": 0
}
