{
 "cells": [
  {
   "cell_type": "code",
   "execution_count": 115,
   "metadata": {
    "collapsed": true
   },
   "outputs": [],
   "source": [
    "import os\n",
    "from os import path\n",
    "\n",
    "import numpy as np\n",
    "import pandas as pd\n",
    "from scipy.stats import ttest_ind"
   ]
  },
  {
   "cell_type": "code",
   "execution_count": 116,
   "outputs": [],
   "source": [
    "\n",
    "DDI_SCORES_PATH = \"D:\\\\JavaTraining\\\\mgr\\\\saved_scores\\\\ddi\"\n",
    "columns = [\n",
    "    \"ONSBoost(base_estimator=GaussianNB(), n_estimators={}, protection_period=50, update_period=50, window_size=10)\",\n",
    "    \"ONSBoost(base_estimator=MLPClassifier(), n_estimators={}, protection_period=50, update_period=50, window_size=10)\",\n",
    "    \"ONSBoost(base_estimator=GaussianNB(), n_estimators={}, protection_period=50, update_period=100, window_size=10)\",\n",
    "    \"ONSBoost(base_estimator=MLPClassifier(), n_estimators={}, protection_period=50, update_period=100, window_size=10)\",\n",
    "    \"ONSBoost(base_estimator=GaussianNB(), n_estimators={}, protection_period=50, update_period=200, window_size=10)\",\n",
    "    \"ONSBoost(base_estimator=MLPClassifier(), n_estimators={}, protection_period=50, update_period=200, window_size=10)\",\n",
    "    \"ONSBoost(base_estimator=GaussianNB(), n_estimators={}, protection_period=50, update_period=50, window_size=20)\",\n",
    "    \"ONSBoost(base_estimator=MLPClassifier(), n_estimators={}, protection_period=50, update_period=50, window_size=20)\",\n",
    "    \"ONSBoost(base_estimator=GaussianNB(), n_estimators={}, protection_period=50, update_period=100, window_size=20)\",\n",
    "    \"ONSBoost(base_estimator=MLPClassifier(), n_estimators={}, protection_period=50, update_period=100, window_size=20)\",\n",
    "    \"ONSBoost(base_estimator=GaussianNB(), n_estimators={}, protection_period=50, update_period=200, window_size=20)\",\n",
    "    \"ONSBoost(base_estimator=MLPClassifier(), n_estimators={}, protection_period=50, update_period=200, window_size=20)\",\n",
    "    \"ONSBoost(base_estimator=GaussianNB(), n_estimators={}, protection_period=50, update_period=50, window_size=40)\",\n",
    "    \"ONSBoost(base_estimator=MLPClassifier(), n_estimators={}, protection_period=50, update_period=50, window_size=40)\",\n",
    "    \"ONSBoost(base_estimator=GaussianNB(), n_estimators={}, protection_period=50, update_period=100, window_size=40)\",\n",
    "    \"ONSBoost(base_estimator=MLPClassifier(), n_estimators={}, protection_period=50, update_period=100, window_size=40)\",\n",
    "    \"ONSBoost(base_estimator=GaussianNB(), n_estimators={}, protection_period=50, update_period=200, window_size=40)\",\n",
    "    \"ONSBoost(base_estimator=MLPClassifier(), n_estimators={}, protection_period=50, update_period=200, window_size=40)\",\n",
    "    \"ONSBoost(base_estimator=GaussianNB(), n_estimators={}, protection_period=100, update_period=50, window_size=10)\",\n",
    "    \"ONSBoost(base_estimator=MLPClassifier(), n_estimators={}, protection_period=100, update_period=50, window_size=10)\",\n",
    "    \"ONSBoost(base_estimator=GaussianNB(), n_estimators={}, protection_period=100, update_period=100, window_size=10)\",\n",
    "    \"ONSBoost(base_estimator=MLPClassifier(), n_estimators={}, protection_period=100, update_period=100, window_size=10)\",\n",
    "    \"ONSBoost(base_estimator=GaussianNB(), n_estimators={}, protection_period=100, update_period=200, window_size=10)\",\n",
    "    \"ONSBoost(base_estimator=MLPClassifier(), n_estimators={}, protection_period=100, update_period=200, window_size=10)\",\n",
    "    \"ONSBoost(base_estimator=GaussianNB(), n_estimators={}, protection_period=100, update_period=50, window_size=20)\",\n",
    "    \"ONSBoost(base_estimator=MLPClassifier(), n_estimators={}, protection_period=100, update_period=50, window_size=20)\",\n",
    "    \"ONSBoost(base_estimator=GaussianNB(), n_estimators={}, protection_period=100, update_period=100, window_size=20)\",\n",
    "    \"ONSBoost(base_estimator=MLPClassifier(), n_estimators={}, protection_period=100, update_period=100, window_size=20)\",\n",
    "    \"ONSBoost(base_estimator=GaussianNB(), n_estimators={}, protection_period=100, update_period=200, window_size=20)\",\n",
    "    \"ONSBoost(base_estimator=MLPClassifier(), n_estimators={}, protection_period=100, update_period=200, window_size=20)\",\n",
    "    \"ONSBoost(base_estimator=GaussianNB(), n_estimators={}, protection_period=100, update_period=50, window_size=40)\",\n",
    "    \"ONSBoost(base_estimator=MLPClassifier(), n_estimators={}, protection_period=100, update_period=50, window_size=40)\",\n",
    "    \"ONSBoost(base_estimator=GaussianNB(), n_estimators={}, protection_period=100, update_period=100, window_size=40)\",\n",
    "    \"ONSBoost(base_estimator=MLPClassifier(), n_estimators={}, protection_period=100, update_period=100, window_size=40)\",\n",
    "    \"ONSBoost(base_estimator=GaussianNB(), n_estimators={}, protection_period=100, update_period=200, window_size=40)\",\n",
    "    \"ONSBoost(base_estimator=MLPClassifier(), n_estimators={}, protection_period=100, update_period=200, window_size=40)\",\n",
    "    \"ONSBoost(base_estimator=GaussianNB(), n_estimators={}, protection_period=200, update_period=50, window_size=10)\",\n",
    "    \"ONSBoost(base_estimator=MLPClassifier(), n_estimators={}, protection_period=200, update_period=50, window_size=10)\",\n",
    "    \"ONSBoost(base_estimator=GaussianNB(), n_estimators={}, protection_period=200, update_period=100, window_size=10)\",\n",
    "    \"ONSBoost(base_estimator=MLPClassifier(), n_estimators={}, protection_period=200, update_period=100, window_size=10)\",\n",
    "    \"ONSBoost(base_estimator=GaussianNB(), n_estimators={}, protection_period=200, update_period=200, window_size=10)\",\n",
    "    \"ONSBoost(base_estimator=MLPClassifier(), n_estimators={}, protection_period=200, update_period=200, window_size=10)\",\n",
    "    \"ONSBoost(base_estimator=GaussianNB(), n_estimators={}, protection_period=200, update_period=50, window_size=20)\",\n",
    "    \"ONSBoost(base_estimator=MLPClassifier(), n_estimators={}, protection_period=200, update_period=50, window_size=20)\",\n",
    "    \"ONSBoost(base_estimator=GaussianNB(), n_estimators={}, protection_period=200, update_period=100, window_size=20)\",\n",
    "    \"ONSBoost(base_estimator=MLPClassifier(), n_estimators={}, protection_period=200, update_period=100, window_size=20)\",\n",
    "    \"ONSBoost(base_estimator=GaussianNB(), n_estimators={}, protection_period=200, update_period=200, window_size=20)\",\n",
    "    \"ONSBoost(base_estimator=MLPClassifier(), n_estimators={}, protection_period=200, update_period=200, window_size=20)\",\n",
    "    \"ONSBoost(base_estimator=GaussianNB(), n_estimators={}, protection_period=200, update_period=50, window_size=40)\",\n",
    "    \"ONSBoost(base_estimator=MLPClassifier(), n_estimators={}, protection_period=200, update_period=50, window_size=40)\",\n",
    "    \"ONSBoost(base_estimator=GaussianNB(), n_estimators={}, protection_period=200, update_period=100, window_size=40)\",\n",
    "    \"ONSBoost(base_estimator=MLPClassifier(), n_estimators={}, protection_period=200, update_period=100, window_size=40)\",\n",
    "    \"ONSBoost(base_estimator=GaussianNB(), n_estimators={}, protection_period=200, update_period=200, window_size=40)\",\n",
    "    \"ONSBoost(base_estimator=MLPClassifier(), n_estimators={}, protection_period=200, update_period=200, window_size=40)\"\n",
    "]\n",
    "ddi_weights = [[.2, .8],\n",
    "               [.3, .6],\n",
    "               [.1, .9],\n",
    "               [.2, .9]]\n",
    "RANDOM_STATES = [1000, 100000, 101010,\n",
    "                 10110, 101101, 1001,\n",
    "                 10101010, 101, 110, 1337]\n",
    "ddi_1_9 = [str(w) + str(s) for w in ddi_weights for s in RANDOM_STATES]\n"
   ],
   "metadata": {
    "collapsed": false
   }
  },
  {
   "cell_type": "code",
   "execution_count": 117,
   "outputs": [],
   "source": [
    "def load_scores(directory_path: str, n: int):\n",
    "    saved_scores = [path.abspath(path.join(DDI_SCORES_PATH, file)) for file in os.listdir(directory_path) if\n",
    "                    file.startswith(str(n))]\n",
    "    formatted_columns = [col.format(str(n)) for col in columns]\n",
    "    all_data = pd.DataFrame()\n",
    "    for scores_path in saved_scores:\n",
    "        weights = scores_path.split('_w')[1].split('_')[0]\n",
    "        seed = scores_path.split(']_s')[1].split('_')[0]\n",
    "        mean_scores = np.load(scores_path).mean(axis=1)\n",
    "        new_frame = pd.DataFrame(columns=formatted_columns, data=mean_scores.T)\n",
    "        new_frame['stream'] = weights + \"_\" + seed\n",
    "        all_data = pd.concat([all_data, new_frame])\n",
    "    ensembles_parameters = [\n",
    "        {\n",
    "            'i': i,\n",
    "            'protection_period': int(clf.split('protection_period=')[1].split(',')[0]),\n",
    "            'update_period': int(clf.split('update_period=')[1].split(',')[0]),\n",
    "            'window_size': int(clf.split('window_size=')[1].split(')')[0]),\n",
    "        } for i, clf in enumerate(all_data.T.index.to_list()) if clf != 'stream'\n",
    "    ]\n",
    "    ensembles_parameters.sort(key=lambda parameters: (\n",
    "        parameters['protection_period'], parameters['update_period'], parameters['window_size']))\n",
    "    ordered_columns = [columns[ordered_v['i']].format(str(n)) for ordered_v in ensembles_parameters]\n",
    "    return all_data.set_index('stream').T.reindex(ordered_columns).T"
   ],
   "metadata": {
    "collapsed": false
   }
  },
  {
   "cell_type": "code",
   "execution_count": 118,
   "outputs": [],
   "source": [
    "pd_3_sorted = load_scores(DDI_SCORES_PATH, 3)\n",
    "pd_5_sorted = load_scores(DDI_SCORES_PATH, 5)\n",
    "pd_10_sorted = load_scores(DDI_SCORES_PATH, 10)"
   ],
   "metadata": {
    "collapsed": false
   }
  },
  {
   "cell_type": "code",
   "execution_count": 119,
   "outputs": [],
   "source": [
    "def filter_df(df: pd.DataFrame, predicates: list):\n",
    "    res = df\n",
    "    for p in predicates:\n",
    "        res = res[p(res)]\n",
    "    return res\n",
    "\n",
    "\n",
    "def split_name_to_params(df: pd.DataFrame):\n",
    "    df_noi = df.drop('stream', axis=1).T.reset_index()\n",
    "    df_noi['n'] = df_noi['index'].str.split('n_estimators=', expand=True)[1].str.split(',', expand=True)[0]\n",
    "    df_noi['protection'] = df_noi['index'].str.split('protection_period=', expand=True)[1].str.split(',', expand=True)[\n",
    "        0]\n",
    "    df_noi['update'] = df_noi['index'].str.split('update_period=', expand=True)[1].str.split(',', expand=True)[0]\n",
    "    df_noi['window'] = df_noi['index'].str.split('window_size=', expand=True)[1].str.split(')', expand=True)[0]\n",
    "    df_noi['base'] = df_noi['index'].str.split('base_estimator=', expand=True)[1].str.split('\\(\\),', expand=True)[0]\n",
    "    df_noi = df_noi.drop('index', axis=1)\n",
    "    df_noi['avg'] = df_noi.mean(numeric_only=True, axis=1)\n",
    "    return df_noi\n",
    "\n",
    "\n",
    "def find_max_for_two_params(df, clf, param_1, param_2):\n",
    "    v_1 = parameters[param_1]\n",
    "    v_2 = parameters[param_2]\n",
    "    local_df = df[df['base'] == clf]\n",
    "    resulting_df = pd.DataFrame()\n",
    "    for p1 in v_1:\n",
    "        for p2 in v_2:\n",
    "            resulting_df = pd.concat(\n",
    "                [resulting_df, local_df[(local_df[param_1] == p1) & (local_df[param_2] == p2)].head(1)])\n",
    "    return resulting_df\n",
    "\n",
    "\n",
    "def calc_table_for(df, param_1, param_2):\n",
    "    best = df.sort_values(by='avg', ascending=False).head(1)\n",
    "    best_p1 = best[param_1].values[0]\n",
    "    best_p2 = best[param_2].values[0]\n",
    "    best_scores = best[score_i].to_numpy()[0]\n",
    "    v_1 = parameters[param_1]\n",
    "    v_2 = parameters[param_2]\n",
    "    t_stats = np.zeros((len(v_1), len(v_2)))\n",
    "    for i, p1 in enumerate(v_1):\n",
    "        for j, p2 in enumerate(v_2):\n",
    "            if p1 == best_p1 and p2 == best_p2:\n",
    "                t_stats[i, j] = 1\n",
    "            else:\n",
    "                current = df[(df[param_1] == p1) & (df[param_2] == p2)][score_i].to_numpy()[0]\n",
    "                t_stats[i, j] = ttest_ind(best_scores, current)[1]\n",
    "\n",
    "    return t_stats\n",
    "\n",
    "\n",
    "def calc_pval_table_for(df, clf, param_1, param_2):\n",
    "    filtered_by_params = find_max_for_two_params(df, clf, param_1, param_2)\n",
    "    return calc_table_for(filtered_by_params, param_1, param_2)"
   ],
   "metadata": {
    "collapsed": false
   }
  },
  {
   "cell_type": "code",
   "execution_count": 120,
   "outputs": [
    {
     "data": {
      "text/plain": "            0         1         2         3         4         5         6  \\\n12   0.800004  0.806988  0.723342  0.789112  0.822717  0.761343  0.705488   \n66   0.824878  0.807371  0.723173  0.786853  0.822745  0.769626  0.715108   \n120  0.842999  0.810604  0.705703  0.796174  0.819466  0.767702  0.725038   \n30   0.799723  0.794689  0.718740  0.795746  0.827424  0.760006  0.714265   \n84   0.812107  0.813390  0.717696  0.786448  0.821690  0.766751  0.722322   \n138  0.840500  0.802767  0.714088  0.793993  0.817955  0.767322  0.725888   \n48   0.796825  0.819275  0.716087  0.798576  0.827082  0.763924  0.717588   \n102  0.817696  0.806435  0.709879  0.798743  0.825669  0.766066  0.718093   \n156  0.835735  0.801245  0.710024  0.784298  0.817061  0.764046  0.723536   \n\n            7         8         9   n protection update window        base  \\\n12   0.836826  0.848597  0.738203   3         50    200     10  GaussianNB   \n66   0.847623  0.857897  0.749677   5         50    200     10  GaussianNB   \n120  0.851981  0.871229  0.742408  10         50    200     10  GaussianNB   \n30   0.839883  0.840453  0.748039   3        100    200     10  GaussianNB   \n84   0.842890  0.861313  0.744192   5        100    200     10  GaussianNB   \n138  0.852817  0.871799  0.747188  10        100    200     10  GaussianNB   \n48   0.839987  0.850553  0.750129   3        200    200     10  GaussianNB   \n102  0.849178  0.855045  0.744978   5        200    200     10  GaussianNB   \n156  0.853656  0.865575  0.750846  10        200    200     10  GaussianNB   \n\n          avg  \n12   0.783262  \n66   0.790495  \n120  0.793330  \n30   0.783897  \n84   0.788880  \n138  0.793432  \n48   0.788003  \n102  0.789178  \n156  0.790602  ",
      "text/html": "<div>\n<style scoped>\n    .dataframe tbody tr th:only-of-type {\n        vertical-align: middle;\n    }\n\n    .dataframe tbody tr th {\n        vertical-align: top;\n    }\n\n    .dataframe thead th {\n        text-align: right;\n    }\n</style>\n<table border=\"1\" class=\"dataframe\">\n  <thead>\n    <tr style=\"text-align: right;\">\n      <th></th>\n      <th>0</th>\n      <th>1</th>\n      <th>2</th>\n      <th>3</th>\n      <th>4</th>\n      <th>5</th>\n      <th>6</th>\n      <th>7</th>\n      <th>8</th>\n      <th>9</th>\n      <th>n</th>\n      <th>protection</th>\n      <th>update</th>\n      <th>window</th>\n      <th>base</th>\n      <th>avg</th>\n    </tr>\n  </thead>\n  <tbody>\n    <tr>\n      <th>12</th>\n      <td>0.800004</td>\n      <td>0.806988</td>\n      <td>0.723342</td>\n      <td>0.789112</td>\n      <td>0.822717</td>\n      <td>0.761343</td>\n      <td>0.705488</td>\n      <td>0.836826</td>\n      <td>0.848597</td>\n      <td>0.738203</td>\n      <td>3</td>\n      <td>50</td>\n      <td>200</td>\n      <td>10</td>\n      <td>GaussianNB</td>\n      <td>0.783262</td>\n    </tr>\n    <tr>\n      <th>66</th>\n      <td>0.824878</td>\n      <td>0.807371</td>\n      <td>0.723173</td>\n      <td>0.786853</td>\n      <td>0.822745</td>\n      <td>0.769626</td>\n      <td>0.715108</td>\n      <td>0.847623</td>\n      <td>0.857897</td>\n      <td>0.749677</td>\n      <td>5</td>\n      <td>50</td>\n      <td>200</td>\n      <td>10</td>\n      <td>GaussianNB</td>\n      <td>0.790495</td>\n    </tr>\n    <tr>\n      <th>120</th>\n      <td>0.842999</td>\n      <td>0.810604</td>\n      <td>0.705703</td>\n      <td>0.796174</td>\n      <td>0.819466</td>\n      <td>0.767702</td>\n      <td>0.725038</td>\n      <td>0.851981</td>\n      <td>0.871229</td>\n      <td>0.742408</td>\n      <td>10</td>\n      <td>50</td>\n      <td>200</td>\n      <td>10</td>\n      <td>GaussianNB</td>\n      <td>0.793330</td>\n    </tr>\n    <tr>\n      <th>30</th>\n      <td>0.799723</td>\n      <td>0.794689</td>\n      <td>0.718740</td>\n      <td>0.795746</td>\n      <td>0.827424</td>\n      <td>0.760006</td>\n      <td>0.714265</td>\n      <td>0.839883</td>\n      <td>0.840453</td>\n      <td>0.748039</td>\n      <td>3</td>\n      <td>100</td>\n      <td>200</td>\n      <td>10</td>\n      <td>GaussianNB</td>\n      <td>0.783897</td>\n    </tr>\n    <tr>\n      <th>84</th>\n      <td>0.812107</td>\n      <td>0.813390</td>\n      <td>0.717696</td>\n      <td>0.786448</td>\n      <td>0.821690</td>\n      <td>0.766751</td>\n      <td>0.722322</td>\n      <td>0.842890</td>\n      <td>0.861313</td>\n      <td>0.744192</td>\n      <td>5</td>\n      <td>100</td>\n      <td>200</td>\n      <td>10</td>\n      <td>GaussianNB</td>\n      <td>0.788880</td>\n    </tr>\n    <tr>\n      <th>138</th>\n      <td>0.840500</td>\n      <td>0.802767</td>\n      <td>0.714088</td>\n      <td>0.793993</td>\n      <td>0.817955</td>\n      <td>0.767322</td>\n      <td>0.725888</td>\n      <td>0.852817</td>\n      <td>0.871799</td>\n      <td>0.747188</td>\n      <td>10</td>\n      <td>100</td>\n      <td>200</td>\n      <td>10</td>\n      <td>GaussianNB</td>\n      <td>0.793432</td>\n    </tr>\n    <tr>\n      <th>48</th>\n      <td>0.796825</td>\n      <td>0.819275</td>\n      <td>0.716087</td>\n      <td>0.798576</td>\n      <td>0.827082</td>\n      <td>0.763924</td>\n      <td>0.717588</td>\n      <td>0.839987</td>\n      <td>0.850553</td>\n      <td>0.750129</td>\n      <td>3</td>\n      <td>200</td>\n      <td>200</td>\n      <td>10</td>\n      <td>GaussianNB</td>\n      <td>0.788003</td>\n    </tr>\n    <tr>\n      <th>102</th>\n      <td>0.817696</td>\n      <td>0.806435</td>\n      <td>0.709879</td>\n      <td>0.798743</td>\n      <td>0.825669</td>\n      <td>0.766066</td>\n      <td>0.718093</td>\n      <td>0.849178</td>\n      <td>0.855045</td>\n      <td>0.744978</td>\n      <td>5</td>\n      <td>200</td>\n      <td>200</td>\n      <td>10</td>\n      <td>GaussianNB</td>\n      <td>0.789178</td>\n    </tr>\n    <tr>\n      <th>156</th>\n      <td>0.835735</td>\n      <td>0.801245</td>\n      <td>0.710024</td>\n      <td>0.784298</td>\n      <td>0.817061</td>\n      <td>0.764046</td>\n      <td>0.723536</td>\n      <td>0.853656</td>\n      <td>0.865575</td>\n      <td>0.750846</td>\n      <td>10</td>\n      <td>200</td>\n      <td>200</td>\n      <td>10</td>\n      <td>GaussianNB</td>\n      <td>0.790602</td>\n    </tr>\n  </tbody>\n</table>\n</div>"
     },
     "execution_count": 120,
     "metadata": {},
     "output_type": "execute_result"
    }
   ],
   "source": [
    "parameters = {\n",
    "    'protection': ['50', '100', '200'],\n",
    "    'n': ['3', '5', '10'],\n",
    "    'update': ['50', '100', '200'],\n",
    "    'window': ['10', '20', '40'],\n",
    "    'base': ['MLPClassifier', 'GaussianNB'],\n",
    "}\n",
    "\n",
    "all_data = pd.concat([pd_3_sorted, pd_5_sorted, pd_10_sorted], axis=1)\n",
    "all_data_noi = all_data.reset_index()\n",
    "data_0109 = all_data_noi[all_data_noi['stream'].str.startswith('[0.1, 0.9]')]\n",
    "pp = split_name_to_params(data_0109)\n",
    "score_i = list(range(10))\n",
    "ddf = pp.sort_values(by=['avg'], ascending=False)\n",
    "\n",
    "gnb_p_n = find_max_for_two_params(ddf, 'GaussianNB', 'protection', 'n')\n",
    "gnb_p_n"
   ],
   "metadata": {
    "collapsed": false
   }
  },
  {
   "cell_type": "code",
   "execution_count": 121,
   "outputs": [
    {
     "data": {
      "text/plain": "array([[0.09712994, 0.12824571, 0.31333353],\n       [0.32426757, 0.40172619, 0.58146804],\n       [0.81623371, 0.90113083, 1.        ]])"
     },
     "execution_count": 121,
     "metadata": {},
     "output_type": "execute_result"
    }
   ],
   "source": [
    "calc_pval_table_for(ddf, 'GaussianNB', 'protection', 'n')\n",
    "calc_pval_table_for(ddf, 'GaussianNB', 'update', 'n')"
   ],
   "metadata": {
    "collapsed": false
   }
  }
 ],
 "metadata": {
  "kernelspec": {
   "display_name": "Python 3",
   "language": "python",
   "name": "python3"
  },
  "language_info": {
   "codemirror_mode": {
    "name": "ipython",
    "version": 2
   },
   "file_extension": ".py",
   "mimetype": "text/x-python",
   "name": "python",
   "nbconvert_exporter": "python",
   "pygments_lexer": "ipython2",
   "version": "2.7.6"
  }
 },
 "nbformat": 4,
 "nbformat_minor": 0
}
