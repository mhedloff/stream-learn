{
 "cells": [
  {
   "cell_type": "code",
   "execution_count": 2,
   "metadata": {
    "collapsed": true
   },
   "outputs": [],
   "source": [
    "import numpy as np\n",
    "from sklearn.naive_bayes import GaussianNB"
   ]
  },
  {
   "cell_type": "code",
   "execution_count": 3,
   "outputs": [
    {
     "data": {
      "text/plain": "array([[2.55474280e-07, 9.99999745e-01, 0.00000000e+00],\n       [4.99314631e-03, 9.95006854e-01, 0.00000000e+00],\n       [9.99999922e-01, 7.83154499e-08, 0.00000000e+00],\n       [0.00000000e+00, 1.00000000e+00, 0.00000000e+00]])"
     },
     "execution_count": 3,
     "metadata": {},
     "output_type": "execute_result"
    }
   ],
   "source": [
    "clf = GaussianNB()\n",
    "clf.fit(np.asarray([[1, 2, 3], [1, 3, 2], [3, 3, 1], [3, 3, 2], [100, 100, -39812]]), np.asarray([1, 1, 0, 0, 2]))\n",
    "clf.predict_proba(np.asarray([[1, 1, 3], [1, 4, 1], [5, 5, 5], [1, 12313, -12312]]))"
   ],
   "metadata": {
    "collapsed": false
   }
  },
  {
   "cell_type": "code",
   "execution_count": 4,
   "outputs": [
    {
     "data": {
      "text/plain": "(array([ 3,  1,  4, 22]), array([1, 1, 0, 0], dtype=int64))"
     },
     "execution_count": 4,
     "metadata": {},
     "output_type": "execute_result"
    }
   ],
   "source": [
    "x = np.array([\n",
    "    [2, 3], # x1\n",
    "    [0, 1], # x2\n",
    "    [4, 1], # x3\n",
    "    [22, 1] # x4\n",
    "])\n",
    "\n",
    "np.max(x, axis=-1).reshape(-1), np.argmax(x, axis=-1).reshape(-1)"
   ],
   "metadata": {
    "collapsed": false
   }
  },
  {
   "cell_type": "code",
   "execution_count": 5,
   "outputs": [
    {
     "ename": "IndexError",
     "evalue": "too many indices for array: array is 2-dimensional, but 3 were indexed",
     "output_type": "error",
     "traceback": [
      "\u001B[1;31m---------------------------------------------------------------------------\u001B[0m",
      "\u001B[1;31mIndexError\u001B[0m                                Traceback (most recent call last)",
      "Cell \u001B[1;32mIn [5], line 1\u001B[0m\n\u001B[1;32m----> 1\u001B[0m np\u001B[38;5;241m.\u001B[39mmax(\u001B[43mx\u001B[49m\u001B[43m[\u001B[49m\u001B[43m:\u001B[49m\u001B[43m,\u001B[49m\u001B[43m:\u001B[49m\u001B[43m,\u001B[49m\u001B[38;5;241;43m1\u001B[39;49m\u001B[43m]\u001B[49m, axis\u001B[38;5;241m=\u001B[39m\u001B[38;5;241m2\u001B[39m)\n",
      "\u001B[1;31mIndexError\u001B[0m: too many indices for array: array is 2-dimensional, but 3 were indexed"
     ]
    }
   ],
   "source": [
    "np.max(x[:,:,1], axis=2)"
   ],
   "metadata": {
    "collapsed": false
   }
  },
  {
   "cell_type": "code",
   "execution_count": null,
   "outputs": [],
   "source": [
    "xx = np.array([[1, 2], [0, 0]])\n",
    "xx[0] += np.array([2, 1])\n",
    "xx"
   ],
   "metadata": {
    "collapsed": false
   }
  },
  {
   "cell_type": "code",
   "execution_count": 15,
   "outputs": [
    {
     "ename": "ZeroDivisionError",
     "evalue": "Weights sum to zero, can't be normalized",
     "output_type": "error",
     "traceback": [
      "\u001B[1;31m---------------------------------------------------------------------------\u001B[0m",
      "\u001B[1;31mZeroDivisionError\u001B[0m                         Traceback (most recent call last)",
      "Cell \u001B[1;32mIn [15], line 6\u001B[0m\n\u001B[0;32m      3\u001B[0m y \u001B[38;5;241m=\u001B[39m [\u001B[38;5;241m0\u001B[39m, \u001B[38;5;241m1\u001B[39m, \u001B[38;5;241m1\u001B[39m]\n\u001B[0;32m      5\u001B[0m clf\u001B[38;5;241m.\u001B[39mpartial_fit(np\u001B[38;5;241m.\u001B[39marray(x[\u001B[38;5;241m0\u001B[39m])\u001B[38;5;241m.\u001B[39mreshape(\u001B[38;5;241m1\u001B[39m, \u001B[38;5;241m-\u001B[39m\u001B[38;5;241m1\u001B[39m), [y[\u001B[38;5;241m0\u001B[39m]], classes\u001B[38;5;241m=\u001B[39m[\u001B[38;5;241m0\u001B[39m,\u001B[38;5;241m1\u001B[39m], sample_weight\u001B[38;5;241m=\u001B[39m\u001B[38;5;241m4\u001B[39m)\n\u001B[1;32m----> 6\u001B[0m \u001B[43mclf\u001B[49m\u001B[38;5;241;43m.\u001B[39;49m\u001B[43mpartial_fit\u001B[49m\u001B[43m(\u001B[49m\u001B[43mnp\u001B[49m\u001B[38;5;241;43m.\u001B[39;49m\u001B[43marray\u001B[49m\u001B[43m(\u001B[49m\u001B[43mx\u001B[49m\u001B[43m[\u001B[49m\u001B[38;5;241;43m1\u001B[39;49m\u001B[43m]\u001B[49m\u001B[43m)\u001B[49m\u001B[38;5;241;43m.\u001B[39;49m\u001B[43mreshape\u001B[49m\u001B[43m(\u001B[49m\u001B[38;5;241;43m1\u001B[39;49m\u001B[43m,\u001B[49m\u001B[43m \u001B[49m\u001B[38;5;241;43m-\u001B[39;49m\u001B[38;5;241;43m1\u001B[39;49m\u001B[43m)\u001B[49m\u001B[43m,\u001B[49m\u001B[43m \u001B[49m\u001B[43m[\u001B[49m\u001B[43my\u001B[49m\u001B[43m[\u001B[49m\u001B[38;5;241;43m1\u001B[39;49m\u001B[43m]\u001B[49m\u001B[43m]\u001B[49m\u001B[43m,\u001B[49m\u001B[43m \u001B[49m\u001B[43mclasses\u001B[49m\u001B[38;5;241;43m=\u001B[39;49m\u001B[43m[\u001B[49m\u001B[38;5;241;43m0\u001B[39;49m\u001B[43m,\u001B[49m\u001B[38;5;241;43m1\u001B[39;49m\u001B[43m]\u001B[49m\u001B[43m,\u001B[49m\u001B[43m \u001B[49m\u001B[43msample_weight\u001B[49m\u001B[38;5;241;43m=\u001B[39;49m\u001B[38;5;241;43m0\u001B[39;49m\u001B[43m)\u001B[49m\n",
      "File \u001B[1;32m~\\AppData\\Roaming\\Python\\Python310\\site-packages\\sklearn\\naive_bayes.py:365\u001B[0m, in \u001B[0;36mGaussianNB.partial_fit\u001B[1;34m(self, X, y, classes, sample_weight)\u001B[0m\n\u001B[0;32m    325\u001B[0m \u001B[38;5;28;01mdef\u001B[39;00m \u001B[38;5;21mpartial_fit\u001B[39m(\u001B[38;5;28mself\u001B[39m, X, y, classes\u001B[38;5;241m=\u001B[39m\u001B[38;5;28;01mNone\u001B[39;00m, sample_weight\u001B[38;5;241m=\u001B[39m\u001B[38;5;28;01mNone\u001B[39;00m):\n\u001B[0;32m    326\u001B[0m     \u001B[38;5;124;03m\"\"\"Incremental fit on a batch of samples.\u001B[39;00m\n\u001B[0;32m    327\u001B[0m \n\u001B[0;32m    328\u001B[0m \u001B[38;5;124;03m    This method is expected to be called several times consecutively\u001B[39;00m\n\u001B[1;32m   (...)\u001B[0m\n\u001B[0;32m    363\u001B[0m \u001B[38;5;124;03m        Returns the instance itself.\u001B[39;00m\n\u001B[0;32m    364\u001B[0m \u001B[38;5;124;03m    \"\"\"\u001B[39;00m\n\u001B[1;32m--> 365\u001B[0m     \u001B[38;5;28;01mreturn\u001B[39;00m \u001B[38;5;28;43mself\u001B[39;49m\u001B[38;5;241;43m.\u001B[39;49m\u001B[43m_partial_fit\u001B[49m\u001B[43m(\u001B[49m\n\u001B[0;32m    366\u001B[0m \u001B[43m        \u001B[49m\u001B[43mX\u001B[49m\u001B[43m,\u001B[49m\u001B[43m \u001B[49m\u001B[43my\u001B[49m\u001B[43m,\u001B[49m\u001B[43m \u001B[49m\u001B[43mclasses\u001B[49m\u001B[43m,\u001B[49m\u001B[43m \u001B[49m\u001B[43m_refit\u001B[49m\u001B[38;5;241;43m=\u001B[39;49m\u001B[38;5;28;43;01mFalse\u001B[39;49;00m\u001B[43m,\u001B[49m\u001B[43m \u001B[49m\u001B[43msample_weight\u001B[49m\u001B[38;5;241;43m=\u001B[39;49m\u001B[43msample_weight\u001B[49m\n\u001B[0;32m    367\u001B[0m \u001B[43m    \u001B[49m\u001B[43m)\u001B[49m\n",
      "File \u001B[1;32m~\\AppData\\Roaming\\Python\\Python310\\site-packages\\sklearn\\naive_bayes.py:468\u001B[0m, in \u001B[0;36mGaussianNB._partial_fit\u001B[1;34m(self, X, y, classes, _refit, sample_weight)\u001B[0m\n\u001B[0;32m    465\u001B[0m     sw_i \u001B[38;5;241m=\u001B[39m \u001B[38;5;28;01mNone\u001B[39;00m\n\u001B[0;32m    466\u001B[0m     N_i \u001B[38;5;241m=\u001B[39m X_i\u001B[38;5;241m.\u001B[39mshape[\u001B[38;5;241m0\u001B[39m]\n\u001B[1;32m--> 468\u001B[0m new_theta, new_sigma \u001B[38;5;241m=\u001B[39m \u001B[38;5;28;43mself\u001B[39;49m\u001B[38;5;241;43m.\u001B[39;49m\u001B[43m_update_mean_variance\u001B[49m\u001B[43m(\u001B[49m\n\u001B[0;32m    469\u001B[0m \u001B[43m    \u001B[49m\u001B[38;5;28;43mself\u001B[39;49m\u001B[38;5;241;43m.\u001B[39;49m\u001B[43mclass_count_\u001B[49m\u001B[43m[\u001B[49m\u001B[43mi\u001B[49m\u001B[43m]\u001B[49m\u001B[43m,\u001B[49m\u001B[43m \u001B[49m\u001B[38;5;28;43mself\u001B[39;49m\u001B[38;5;241;43m.\u001B[39;49m\u001B[43mtheta_\u001B[49m\u001B[43m[\u001B[49m\u001B[43mi\u001B[49m\u001B[43m,\u001B[49m\u001B[43m \u001B[49m\u001B[43m:\u001B[49m\u001B[43m]\u001B[49m\u001B[43m,\u001B[49m\u001B[43m \u001B[49m\u001B[38;5;28;43mself\u001B[39;49m\u001B[38;5;241;43m.\u001B[39;49m\u001B[43mvar_\u001B[49m\u001B[43m[\u001B[49m\u001B[43mi\u001B[49m\u001B[43m,\u001B[49m\u001B[43m \u001B[49m\u001B[43m:\u001B[49m\u001B[43m]\u001B[49m\u001B[43m,\u001B[49m\u001B[43m \u001B[49m\u001B[43mX_i\u001B[49m\u001B[43m,\u001B[49m\u001B[43m \u001B[49m\u001B[43msw_i\u001B[49m\n\u001B[0;32m    470\u001B[0m \u001B[43m\u001B[49m\u001B[43m)\u001B[49m\n\u001B[0;32m    472\u001B[0m \u001B[38;5;28mself\u001B[39m\u001B[38;5;241m.\u001B[39mtheta_[i, :] \u001B[38;5;241m=\u001B[39m new_theta\n\u001B[0;32m    473\u001B[0m \u001B[38;5;28mself\u001B[39m\u001B[38;5;241m.\u001B[39mvar_[i, :] \u001B[38;5;241m=\u001B[39m new_sigma\n",
      "File \u001B[1;32m~\\AppData\\Roaming\\Python\\Python310\\site-packages\\sklearn\\naive_bayes.py:299\u001B[0m, in \u001B[0;36mGaussianNB._update_mean_variance\u001B[1;34m(n_past, mu, var, X, sample_weight)\u001B[0m\n\u001B[0;32m    297\u001B[0m \u001B[38;5;28;01mif\u001B[39;00m sample_weight \u001B[38;5;129;01mis\u001B[39;00m \u001B[38;5;129;01mnot\u001B[39;00m \u001B[38;5;28;01mNone\u001B[39;00m:\n\u001B[0;32m    298\u001B[0m     n_new \u001B[38;5;241m=\u001B[39m \u001B[38;5;28mfloat\u001B[39m(sample_weight\u001B[38;5;241m.\u001B[39msum())\n\u001B[1;32m--> 299\u001B[0m     new_mu \u001B[38;5;241m=\u001B[39m \u001B[43mnp\u001B[49m\u001B[38;5;241;43m.\u001B[39;49m\u001B[43maverage\u001B[49m\u001B[43m(\u001B[49m\u001B[43mX\u001B[49m\u001B[43m,\u001B[49m\u001B[43m \u001B[49m\u001B[43maxis\u001B[49m\u001B[38;5;241;43m=\u001B[39;49m\u001B[38;5;241;43m0\u001B[39;49m\u001B[43m,\u001B[49m\u001B[43m \u001B[49m\u001B[43mweights\u001B[49m\u001B[38;5;241;43m=\u001B[39;49m\u001B[43msample_weight\u001B[49m\u001B[43m)\u001B[49m\n\u001B[0;32m    300\u001B[0m     new_var \u001B[38;5;241m=\u001B[39m np\u001B[38;5;241m.\u001B[39maverage((X \u001B[38;5;241m-\u001B[39m new_mu) \u001B[38;5;241m*\u001B[39m\u001B[38;5;241m*\u001B[39m \u001B[38;5;241m2\u001B[39m, axis\u001B[38;5;241m=\u001B[39m\u001B[38;5;241m0\u001B[39m, weights\u001B[38;5;241m=\u001B[39msample_weight)\n\u001B[0;32m    301\u001B[0m \u001B[38;5;28;01melse\u001B[39;00m:\n",
      "File \u001B[1;32m<__array_function__ internals>:180\u001B[0m, in \u001B[0;36maverage\u001B[1;34m(*args, **kwargs)\u001B[0m\n",
      "File \u001B[1;32m~\\AppData\\Roaming\\Python\\Python310\\site-packages\\numpy\\lib\\function_base.py:524\u001B[0m, in \u001B[0;36maverage\u001B[1;34m(a, axis, weights, returned)\u001B[0m\n\u001B[0;32m    522\u001B[0m     scl \u001B[38;5;241m=\u001B[39m wgt\u001B[38;5;241m.\u001B[39msum(axis\u001B[38;5;241m=\u001B[39maxis, dtype\u001B[38;5;241m=\u001B[39mresult_dtype)\n\u001B[0;32m    523\u001B[0m     \u001B[38;5;28;01mif\u001B[39;00m np\u001B[38;5;241m.\u001B[39many(scl \u001B[38;5;241m==\u001B[39m \u001B[38;5;241m0.0\u001B[39m):\n\u001B[1;32m--> 524\u001B[0m         \u001B[38;5;28;01mraise\u001B[39;00m \u001B[38;5;167;01mZeroDivisionError\u001B[39;00m(\n\u001B[0;32m    525\u001B[0m             \u001B[38;5;124m\"\u001B[39m\u001B[38;5;124mWeights sum to zero, can\u001B[39m\u001B[38;5;124m'\u001B[39m\u001B[38;5;124mt be normalized\u001B[39m\u001B[38;5;124m\"\u001B[39m)\n\u001B[0;32m    527\u001B[0m     avg \u001B[38;5;241m=\u001B[39m np\u001B[38;5;241m.\u001B[39mmultiply(a, wgt, dtype\u001B[38;5;241m=\u001B[39mresult_dtype)\u001B[38;5;241m.\u001B[39msum(axis)\u001B[38;5;241m/\u001B[39mscl\n\u001B[0;32m    529\u001B[0m \u001B[38;5;28;01mif\u001B[39;00m returned:\n",
      "\u001B[1;31mZeroDivisionError\u001B[0m: Weights sum to zero, can't be normalized"
     ]
    }
   ],
   "source": [
    "clf = GaussianNB()\n",
    "x = [[1, 2, 1, 1, 3], [2, 1, 2, 2, 4], [3, 3, 5, 3, 1]]\n",
    "y = [0, 1, 1]\n",
    "\n",
    "clf.partial_fit(np.array(x[0]).reshape(1, -1), [y[0]], classes=[0,1], sample_weight=4)\n",
    "clf.partial_fit(np.array(x[1]).reshape(1, -1), [y[1]], classes=[0,1], sample_weight=0)"
   ],
   "metadata": {
    "collapsed": false
   }
  },
  {
   "cell_type": "code",
   "execution_count": 16,
   "outputs": [
    {
     "data": {
      "text/plain": "GaussianNB()"
     },
     "execution_count": 16,
     "metadata": {},
     "output_type": "execute_result"
    }
   ],
   "source": [
    "clf.partial_fit(x, y, classes=[0,1], sample_weight=[1, 0, 1])"
   ],
   "metadata": {
    "collapsed": false
   }
  },
  {
   "cell_type": "code",
   "execution_count": 20,
   "outputs": [
    {
     "data": {
      "text/plain": "array([-1., -1.])"
     },
     "execution_count": 20,
     "metadata": {},
     "output_type": "execute_result"
    }
   ],
   "source": [
    "import numpy as np\n",
    "\n",
    "np.zeros(2,) - 1"
   ],
   "metadata": {
    "collapsed": false
   }
  },
  {
   "cell_type": "code",
   "execution_count": null,
   "outputs": [],
   "source": [
    "np.count_nonzero"
   ],
   "metadata": {
    "collapsed": false
   }
  }
 ],
 "metadata": {
  "kernelspec": {
   "display_name": "Python 3",
   "language": "python",
   "name": "python3"
  },
  "language_info": {
   "codemirror_mode": {
    "name": "ipython",
    "version": 2
   },
   "file_extension": ".py",
   "mimetype": "text/x-python",
   "name": "python",
   "nbconvert_exporter": "python",
   "pygments_lexer": "ipython2",
   "version": "2.7.6"
  }
 },
 "nbformat": 4,
 "nbformat_minor": 0
}
