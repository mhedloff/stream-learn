{
 "cells": [
  {
   "cell_type": "code",
   "execution_count": 1,
   "metadata": {
    "collapsed": true,
    "ExecuteTime": {
     "end_time": "2023-06-17T10:12:04.119113200Z",
     "start_time": "2023-06-17T10:12:02.908727800Z"
    }
   },
   "outputs": [],
   "source": [
    "import os\n",
    "\n",
    "import numpy as np\n",
    "import pandas as pd\n",
    "import matplotlib.pyplot as plt\n",
    "import tabulate\n",
    "from scipy.stats import ttest_ind\n"
   ]
  },
  {
   "cell_type": "code",
   "execution_count": 2,
   "outputs": [],
   "source": [
    "def draw_single_table(tbl, ax, cols_labels, rows_labels, fontsize=9):\n",
    "    assert tbl.shape[0] == len(rows_labels), \\\n",
    "        f\"Wrong rows labels count, got {len(rows_labels)}, expected {tbl.shape[0]}\"\n",
    "    assert tbl.shape[1] == len(cols_labels), \\\n",
    "        f\"Wrong columns labels count, got {len(cols_labels)}, expected {tbl.shape[1]}\"\n",
    "    ax.set_xticks(range(tbl.shape[1]))\n",
    "    ax.set_xticklabels(cols_labels)\n",
    "\n",
    "    ax.set_yticks(range(tbl.shape[0]))\n",
    "    ax.set_yticklabels(rows_labels)\n",
    "\n",
    "    im = ax.imshow(tbl, cmap='gray', vmin=0., vmax=1., aspect='auto')\n",
    "    for (i, j), value in np.ndenumerate(tbl):\n",
    "        ax.text(j, i,\n",
    "                '{:0.3f}'.format(value), ha='center',\n",
    "                va='center',\n",
    "                c='white' if value < .5 else 'black',\n",
    "                fontsize=fontsize)\n",
    "    return im\n",
    "\n",
    "\n",
    "def draw_big_table(tbls, cols_labels, rows_labels, x_labels, y_labels, title='', fontsize=8) -> plt.Figure:\n",
    "    n_rows_ = tbls.shape[0]\n",
    "    n_cols_ = tbls.shape[1]\n",
    "    assert n_rows_ == len(y_labels), \\\n",
    "        f\"Wrong rows labels count, got {len(y_labels)}, expected {n_rows_}\"\n",
    "    assert n_cols_ == len(x_labels), \\\n",
    "        f\"Wrong columns labels count, got {len(x_labels)}, expected {n_cols_}\"\n",
    "\n",
    "    fig, ax = plt.subplots(nrows=n_rows_,\n",
    "                           ncols=n_cols_,\n",
    "                           sharex=True,\n",
    "                           sharey=True)\n",
    "    im = None\n",
    "    if n_rows_ == 1:\n",
    "        for j in range(n_cols_):\n",
    "            im = draw_single_table(tbls[0, j], ax[j], cols_labels, rows_labels, fontsize)\n",
    "            ax[j].set_xlabel(x_labels[j])\n",
    "            if j == 0:\n",
    "                ax[j].set_ylabel(y_labels[0])\n",
    "    elif n_cols_ == 1:\n",
    "        for i in range(n_rows_):\n",
    "            im = draw_single_table(tbls[i, 0], ax[i], cols_labels, rows_labels, fontsize)\n",
    "            if i == n_rows_ - 1:\n",
    "                ax[i].set_xlabel(x_labels[0])\n",
    "                ax[i].set_ylabel(y_labels[i])\n",
    "    else:\n",
    "        for i in range(n_rows_):\n",
    "            for j in range(n_cols_):\n",
    "                im = draw_single_table(tbls[i, j], ax[i, j], cols_labels, rows_labels, fontsize)\n",
    "                if i == n_rows_ - 1:\n",
    "                    ax[i, j].set_xlabel(x_labels[j])\n",
    "                if j == 0:\n",
    "                    ax[i, j].set_ylabel(y_labels[i])\n",
    "\n",
    "    fig.subplots_adjust(top=0.85, left=0.14, right=0.95, bottom=0.1, hspace=.05, wspace=.05)\n",
    "    cbar_ax = fig.add_axes([0.15, 0.9, 0.75, 0.025])\n",
    "    fig.colorbar(im, cax=cbar_ax, orientation=\"horizontal\", ticks=[0, 1])\n",
    "    if title:\n",
    "        fig.suptitle(title)\n",
    "    return fig"
   ],
   "metadata": {
    "collapsed": false,
    "ExecuteTime": {
     "end_time": "2023-06-17T10:12:04.132820200Z",
     "start_time": "2023-06-17T10:12:04.128670700Z"
    }
   }
  },
  {
   "cell_type": "code",
   "execution_count": 3,
   "outputs": [],
   "source": [
    "def extract_stream_name(name: str) -> str:\n",
    "    stream = name.split('++', 1)[1]\n",
    "    return stream.split('.')[0]\n",
    "\n",
    "\n",
    "def extract_ensemble(name: str) -> str:\n",
    "    return name.split('++', 1)[0]\n",
    "\n",
    "\n",
    "def extract_ensemble_params(name: str) -> dict:\n",
    "    ensemble = extract_ensemble(name)\n",
    "    params = ensemble.split('__')\n",
    "    acc = {}\n",
    "    for param in params[1:]:\n",
    "        pair = param.split('_')\n",
    "        acc[pair[0]] = pair[1] if pair[0] == 'base' else int(pair[1])\n",
    "    return acc\n",
    "\n",
    "\n",
    "def process_all_files(files: list) -> pd.DataFrame:\n",
    "    acc = {}\n",
    "    for location, f in files:\n",
    "        ensemble = extract_ensemble(f)\n",
    "        scores = np.load(os.path.abspath(os.path.join(location, f)))\n",
    "        scores_avg = scores.mean()\n",
    "        stream_data = extract_stream_name(f).split('__RST_')\n",
    "        name, rst = stream_data[0], stream_data[1]\n",
    "        score_key = f'{ensemble}++{name}'\n",
    "        if score_key in acc:\n",
    "            acc[score_key][rst] = scores_avg\n",
    "        else:\n",
    "            ensemble_params = extract_ensemble_params(f)\n",
    "            ensemble_params['stream'] = name\n",
    "            ensemble_params[rst] = scores_avg\n",
    "            acc[score_key] = ensemble_params\n",
    "    processed_frame = pd.DataFrame(list(acc.values()))\n",
    "    processed_frame['avg'] = processed_frame[streams].mean(axis=1)\n",
    "    return processed_frame"
   ],
   "metadata": {
    "collapsed": false,
    "ExecuteTime": {
     "end_time": "2023-06-17T10:12:04.142975Z",
     "start_time": "2023-06-17T10:12:04.132820200Z"
    }
   }
  },
  {
   "cell_type": "code",
   "execution_count": 4,
   "outputs": [],
   "source": [
    "DATA_LOCATION = os.path.abspath('./parameters_results')\n",
    "PROCESSED_RESULTS_DISCO = 'disco/'\n",
    "PROCESSED_RESULTS_CDI = 'cdi/'\n",
    "PROCESSED_RESULTS_TBLS = 'cdi/'\n",
    "DISCO_RESULTS_LOC = os.path.abspath(os.path.join(DATA_LOCATION, PROCESSED_RESULTS_DISCO))\n",
    "CDI_RESULTS_LOC = os.path.abspath(os.path.join(DATA_LOCATION, PROCESSED_RESULTS_CDI))\n",
    "PLOTS_LOCATION = os.path.abspath('./parameters_plots/')\n",
    "TBLS_LOCATION = os.path.abspath('./parameters_plots/tbls/')\n",
    "\n",
    "parameters = {\n",
    "    'p': [50, 100, 200],\n",
    "    'n': [5, 10, 30],\n",
    "    'k': [50, 100, 200],\n",
    "    'w': [10, 20, 40],\n",
    "    'base': ['MLPClassifier', 'GaussianNB'],\n",
    "}\n",
    "params_translations = {\n",
    "    'w': 'w',\n",
    "    'k': 'K',\n",
    "    'p': 'P',\n",
    "    'n': 'M',\n",
    "    'base': 'base'\n",
    "}\n",
    "streams = ['1000', '100000', '101010', '10110', '101101', '1001', '10101010', '101', '110', '1337']"
   ],
   "metadata": {
    "collapsed": false,
    "ExecuteTime": {
     "end_time": "2023-06-17T10:12:04.168840200Z",
     "start_time": "2023-06-17T10:12:04.142975Z"
    }
   }
  },
  {
   "cell_type": "code",
   "execution_count": 5,
   "outputs": [],
   "source": [
    "cdi_results = [(CDI_RESULTS_LOC, f) for f in os.listdir(CDI_RESULTS_LOC) if not os.path.isdir(f)]\n",
    "disco_results = [(DISCO_RESULTS_LOC, f) for f in os.listdir(DISCO_RESULTS_LOC) if not os.path.isdir(f)]\n",
    "\n",
    "all_files = [*cdi_results, *disco_results]\n",
    "\n",
    "all_streams = np.unique([extract_stream_name(f[1]) for f in all_files])"
   ],
   "metadata": {
    "collapsed": false,
    "ExecuteTime": {
     "end_time": "2023-06-17T10:12:04.252859400Z",
     "start_time": "2023-06-17T10:12:04.150235900Z"
    }
   }
  },
  {
   "cell_type": "code",
   "execution_count": 6,
   "outputs": [],
   "source": [
    "all_files_data = process_all_files(all_files)"
   ],
   "metadata": {
    "collapsed": false,
    "ExecuteTime": {
     "end_time": "2023-06-17T10:12:05.622701100Z",
     "start_time": "2023-06-17T10:12:04.252859400Z"
    }
   }
  },
  {
   "cell_type": "code",
   "execution_count": 7,
   "outputs": [
    {
     "data": {
      "text/plain": "      n    p   w    k           base                           stream  \\\n0    10  100  10  100     GaussianNB    cdi__w2_4_0,9__NC_250__CS_200   \n1    10  100  10  100     GaussianNB   cdi__w2_5_0,75__NC_250__CS_200   \n2    10  100  10  100  MLPClassifier    cdi__w2_4_0,9__NC_250__CS_200   \n3    10  100  10  100  MLPClassifier   cdi__w2_5_0,75__NC_250__CS_200   \n4    10  100  10  200     GaussianNB    cdi__w2_4_0,9__NC_250__CS_200   \n..   ..  ...  ..  ...            ...                              ...   \n481   5   50  40  100  MLPClassifier  disco__w2_5_0,9__NC_250__CS_200   \n482   5   50  40  200     GaussianNB  disco__w2_5_0,9__NC_250__CS_200   \n483   5   50  40  200  MLPClassifier  disco__w2_5_0,9__NC_250__CS_200   \n484   5   50  40   50     GaussianNB  disco__w2_5_0,9__NC_250__CS_200   \n485   5   50  40   50  MLPClassifier  disco__w2_5_0,9__NC_250__CS_200   \n\n         1000    100000      1001       101    101010  10101010     10110  \\\n0    0.863961  0.830409  0.779023  0.853465  0.831684  0.840580  0.749153   \n1    0.882234  0.851343  0.799372  0.871603  0.854128  0.860912  0.767646   \n2    0.882455  0.812346  0.776283  0.851473  0.830928  0.856243  0.757676   \n3    0.895605  0.834805  0.799525  0.871990  0.849106  0.877997  0.769150   \n4    0.870426  0.843855  0.785713  0.860525  0.848984  0.856273  0.757953   \n..        ...       ...       ...       ...       ...       ...       ...   \n481  0.751937  0.712357  0.761996  0.756817  0.782625  0.785153  0.789830   \n482  0.782402  0.742195  0.788491  0.771802  0.808239  0.804777  0.813330   \n483  0.774517  0.736057  0.788639  0.782493  0.806959  0.809972  0.812651   \n484  0.727546  0.698483  0.734622  0.736068  0.771735  0.767337  0.780591   \n485  0.724709  0.685949  0.733455  0.728427  0.752758  0.752411  0.761184   \n\n       101101       110      1337       avg  \n0    0.793336  0.857029  0.773289  0.817193  \n1    0.806554  0.883611  0.802982  0.838039  \n2    0.781909  0.868897  0.768406  0.818662  \n3    0.802582  0.887718  0.793079  0.838156  \n4    0.801889  0.868109  0.781869  0.827560  \n..        ...       ...       ...       ...  \n481  0.777624  0.826199  0.788343  0.773288  \n482  0.818509  0.843644  0.817978  0.799137  \n483  0.809883  0.842947  0.811434  0.797555  \n484  0.783961  0.811271  0.770436  0.758205  \n485  0.744185  0.800268  0.755812  0.743916  \n\n[486 rows x 17 columns]",
      "text/html": "<div>\n<style scoped>\n    .dataframe tbody tr th:only-of-type {\n        vertical-align: middle;\n    }\n\n    .dataframe tbody tr th {\n        vertical-align: top;\n    }\n\n    .dataframe thead th {\n        text-align: right;\n    }\n</style>\n<table border=\"1\" class=\"dataframe\">\n  <thead>\n    <tr style=\"text-align: right;\">\n      <th></th>\n      <th>n</th>\n      <th>p</th>\n      <th>w</th>\n      <th>k</th>\n      <th>base</th>\n      <th>stream</th>\n      <th>1000</th>\n      <th>100000</th>\n      <th>1001</th>\n      <th>101</th>\n      <th>101010</th>\n      <th>10101010</th>\n      <th>10110</th>\n      <th>101101</th>\n      <th>110</th>\n      <th>1337</th>\n      <th>avg</th>\n    </tr>\n  </thead>\n  <tbody>\n    <tr>\n      <th>0</th>\n      <td>10</td>\n      <td>100</td>\n      <td>10</td>\n      <td>100</td>\n      <td>GaussianNB</td>\n      <td>cdi__w2_4_0,9__NC_250__CS_200</td>\n      <td>0.863961</td>\n      <td>0.830409</td>\n      <td>0.779023</td>\n      <td>0.853465</td>\n      <td>0.831684</td>\n      <td>0.840580</td>\n      <td>0.749153</td>\n      <td>0.793336</td>\n      <td>0.857029</td>\n      <td>0.773289</td>\n      <td>0.817193</td>\n    </tr>\n    <tr>\n      <th>1</th>\n      <td>10</td>\n      <td>100</td>\n      <td>10</td>\n      <td>100</td>\n      <td>GaussianNB</td>\n      <td>cdi__w2_5_0,75__NC_250__CS_200</td>\n      <td>0.882234</td>\n      <td>0.851343</td>\n      <td>0.799372</td>\n      <td>0.871603</td>\n      <td>0.854128</td>\n      <td>0.860912</td>\n      <td>0.767646</td>\n      <td>0.806554</td>\n      <td>0.883611</td>\n      <td>0.802982</td>\n      <td>0.838039</td>\n    </tr>\n    <tr>\n      <th>2</th>\n      <td>10</td>\n      <td>100</td>\n      <td>10</td>\n      <td>100</td>\n      <td>MLPClassifier</td>\n      <td>cdi__w2_4_0,9__NC_250__CS_200</td>\n      <td>0.882455</td>\n      <td>0.812346</td>\n      <td>0.776283</td>\n      <td>0.851473</td>\n      <td>0.830928</td>\n      <td>0.856243</td>\n      <td>0.757676</td>\n      <td>0.781909</td>\n      <td>0.868897</td>\n      <td>0.768406</td>\n      <td>0.818662</td>\n    </tr>\n    <tr>\n      <th>3</th>\n      <td>10</td>\n      <td>100</td>\n      <td>10</td>\n      <td>100</td>\n      <td>MLPClassifier</td>\n      <td>cdi__w2_5_0,75__NC_250__CS_200</td>\n      <td>0.895605</td>\n      <td>0.834805</td>\n      <td>0.799525</td>\n      <td>0.871990</td>\n      <td>0.849106</td>\n      <td>0.877997</td>\n      <td>0.769150</td>\n      <td>0.802582</td>\n      <td>0.887718</td>\n      <td>0.793079</td>\n      <td>0.838156</td>\n    </tr>\n    <tr>\n      <th>4</th>\n      <td>10</td>\n      <td>100</td>\n      <td>10</td>\n      <td>200</td>\n      <td>GaussianNB</td>\n      <td>cdi__w2_4_0,9__NC_250__CS_200</td>\n      <td>0.870426</td>\n      <td>0.843855</td>\n      <td>0.785713</td>\n      <td>0.860525</td>\n      <td>0.848984</td>\n      <td>0.856273</td>\n      <td>0.757953</td>\n      <td>0.801889</td>\n      <td>0.868109</td>\n      <td>0.781869</td>\n      <td>0.827560</td>\n    </tr>\n    <tr>\n      <th>...</th>\n      <td>...</td>\n      <td>...</td>\n      <td>...</td>\n      <td>...</td>\n      <td>...</td>\n      <td>...</td>\n      <td>...</td>\n      <td>...</td>\n      <td>...</td>\n      <td>...</td>\n      <td>...</td>\n      <td>...</td>\n      <td>...</td>\n      <td>...</td>\n      <td>...</td>\n      <td>...</td>\n      <td>...</td>\n    </tr>\n    <tr>\n      <th>481</th>\n      <td>5</td>\n      <td>50</td>\n      <td>40</td>\n      <td>100</td>\n      <td>MLPClassifier</td>\n      <td>disco__w2_5_0,9__NC_250__CS_200</td>\n      <td>0.751937</td>\n      <td>0.712357</td>\n      <td>0.761996</td>\n      <td>0.756817</td>\n      <td>0.782625</td>\n      <td>0.785153</td>\n      <td>0.789830</td>\n      <td>0.777624</td>\n      <td>0.826199</td>\n      <td>0.788343</td>\n      <td>0.773288</td>\n    </tr>\n    <tr>\n      <th>482</th>\n      <td>5</td>\n      <td>50</td>\n      <td>40</td>\n      <td>200</td>\n      <td>GaussianNB</td>\n      <td>disco__w2_5_0,9__NC_250__CS_200</td>\n      <td>0.782402</td>\n      <td>0.742195</td>\n      <td>0.788491</td>\n      <td>0.771802</td>\n      <td>0.808239</td>\n      <td>0.804777</td>\n      <td>0.813330</td>\n      <td>0.818509</td>\n      <td>0.843644</td>\n      <td>0.817978</td>\n      <td>0.799137</td>\n    </tr>\n    <tr>\n      <th>483</th>\n      <td>5</td>\n      <td>50</td>\n      <td>40</td>\n      <td>200</td>\n      <td>MLPClassifier</td>\n      <td>disco__w2_5_0,9__NC_250__CS_200</td>\n      <td>0.774517</td>\n      <td>0.736057</td>\n      <td>0.788639</td>\n      <td>0.782493</td>\n      <td>0.806959</td>\n      <td>0.809972</td>\n      <td>0.812651</td>\n      <td>0.809883</td>\n      <td>0.842947</td>\n      <td>0.811434</td>\n      <td>0.797555</td>\n    </tr>\n    <tr>\n      <th>484</th>\n      <td>5</td>\n      <td>50</td>\n      <td>40</td>\n      <td>50</td>\n      <td>GaussianNB</td>\n      <td>disco__w2_5_0,9__NC_250__CS_200</td>\n      <td>0.727546</td>\n      <td>0.698483</td>\n      <td>0.734622</td>\n      <td>0.736068</td>\n      <td>0.771735</td>\n      <td>0.767337</td>\n      <td>0.780591</td>\n      <td>0.783961</td>\n      <td>0.811271</td>\n      <td>0.770436</td>\n      <td>0.758205</td>\n    </tr>\n    <tr>\n      <th>485</th>\n      <td>5</td>\n      <td>50</td>\n      <td>40</td>\n      <td>50</td>\n      <td>MLPClassifier</td>\n      <td>disco__w2_5_0,9__NC_250__CS_200</td>\n      <td>0.724709</td>\n      <td>0.685949</td>\n      <td>0.733455</td>\n      <td>0.728427</td>\n      <td>0.752758</td>\n      <td>0.752411</td>\n      <td>0.761184</td>\n      <td>0.744185</td>\n      <td>0.800268</td>\n      <td>0.755812</td>\n      <td>0.743916</td>\n    </tr>\n  </tbody>\n</table>\n<p>486 rows × 17 columns</p>\n</div>"
     },
     "execution_count": 7,
     "metadata": {},
     "output_type": "execute_result"
    }
   ],
   "source": [
    "all_files_data"
   ],
   "metadata": {
    "collapsed": false,
    "ExecuteTime": {
     "end_time": "2023-06-17T10:12:05.648957400Z",
     "start_time": "2023-06-17T10:12:05.622701100Z"
    }
   }
  },
  {
   "cell_type": "code",
   "execution_count": 8,
   "outputs": [
    {
     "data": {
      "text/plain": "      n    p   w    k        base                          stream      1000  \\\n261   5  200  10   50  GaussianNB  cdi__w2_5_0,75__NC_250__CS_200  0.852052   \n253   5  200  10  100  GaussianNB  cdi__w2_5_0,75__NC_250__CS_200  0.868165   \n257   5  200  10  200  GaussianNB  cdi__w2_5_0,75__NC_250__CS_200  0.877650   \n45   10  200  10   50  GaussianNB  cdi__w2_5_0,75__NC_250__CS_200  0.873378   \n1    10  100  10  100  GaussianNB  cdi__w2_5_0,75__NC_250__CS_200  0.882234   \n77   10   50  10  200  GaussianNB  cdi__w2_5_0,75__NC_250__CS_200  0.887426   \n153  30  200  10   50  GaussianNB  cdi__w2_5_0,75__NC_250__CS_200  0.876644   \n145  30  200  10  100  GaussianNB  cdi__w2_5_0,75__NC_250__CS_200  0.878282   \n185  30   50  10  200  GaussianNB  cdi__w2_5_0,75__NC_250__CS_200  0.877248   \n\n       100000      1001       101    101010  10101010     10110    101101  \\\n261  0.807711  0.782180  0.847446  0.839899  0.846244  0.747933  0.792234   \n253  0.833282  0.794051  0.860207  0.850771  0.851671  0.757641  0.807655   \n257  0.843143  0.813088  0.873469  0.860999  0.870347  0.769934  0.820550   \n45   0.840568  0.790140  0.860779  0.850939  0.860259  0.762356  0.798321   \n1    0.851343  0.799372  0.871603  0.854128  0.860912  0.767646  0.806554   \n77   0.862352  0.809694  0.882938  0.861055  0.870895  0.771259  0.821200   \n153  0.848252  0.778016  0.874192  0.848885  0.852576  0.757058  0.799737   \n145  0.858748  0.789684  0.881466  0.847615  0.861219  0.767484  0.807325   \n185  0.864673  0.791156  0.882993  0.856309  0.863550  0.774928  0.806965   \n\n          110      1337       avg  \n261  0.868403  0.768688  0.815279  \n253  0.874857  0.783910  0.828221  \n257  0.887203  0.800974  0.841736  \n45   0.868604  0.785846  0.829119  \n1    0.883611  0.802982  0.838039  \n77   0.889484  0.809247  0.846555  \n153  0.867123  0.787109  0.828959  \n145  0.876062  0.793892  0.836178  \n185  0.884822  0.810081  0.841273  ",
      "text/html": "<div>\n<style scoped>\n    .dataframe tbody tr th:only-of-type {\n        vertical-align: middle;\n    }\n\n    .dataframe tbody tr th {\n        vertical-align: top;\n    }\n\n    .dataframe thead th {\n        text-align: right;\n    }\n</style>\n<table border=\"1\" class=\"dataframe\">\n  <thead>\n    <tr style=\"text-align: right;\">\n      <th></th>\n      <th>n</th>\n      <th>p</th>\n      <th>w</th>\n      <th>k</th>\n      <th>base</th>\n      <th>stream</th>\n      <th>1000</th>\n      <th>100000</th>\n      <th>1001</th>\n      <th>101</th>\n      <th>101010</th>\n      <th>10101010</th>\n      <th>10110</th>\n      <th>101101</th>\n      <th>110</th>\n      <th>1337</th>\n      <th>avg</th>\n    </tr>\n  </thead>\n  <tbody>\n    <tr>\n      <th>261</th>\n      <td>5</td>\n      <td>200</td>\n      <td>10</td>\n      <td>50</td>\n      <td>GaussianNB</td>\n      <td>cdi__w2_5_0,75__NC_250__CS_200</td>\n      <td>0.852052</td>\n      <td>0.807711</td>\n      <td>0.782180</td>\n      <td>0.847446</td>\n      <td>0.839899</td>\n      <td>0.846244</td>\n      <td>0.747933</td>\n      <td>0.792234</td>\n      <td>0.868403</td>\n      <td>0.768688</td>\n      <td>0.815279</td>\n    </tr>\n    <tr>\n      <th>253</th>\n      <td>5</td>\n      <td>200</td>\n      <td>10</td>\n      <td>100</td>\n      <td>GaussianNB</td>\n      <td>cdi__w2_5_0,75__NC_250__CS_200</td>\n      <td>0.868165</td>\n      <td>0.833282</td>\n      <td>0.794051</td>\n      <td>0.860207</td>\n      <td>0.850771</td>\n      <td>0.851671</td>\n      <td>0.757641</td>\n      <td>0.807655</td>\n      <td>0.874857</td>\n      <td>0.783910</td>\n      <td>0.828221</td>\n    </tr>\n    <tr>\n      <th>257</th>\n      <td>5</td>\n      <td>200</td>\n      <td>10</td>\n      <td>200</td>\n      <td>GaussianNB</td>\n      <td>cdi__w2_5_0,75__NC_250__CS_200</td>\n      <td>0.877650</td>\n      <td>0.843143</td>\n      <td>0.813088</td>\n      <td>0.873469</td>\n      <td>0.860999</td>\n      <td>0.870347</td>\n      <td>0.769934</td>\n      <td>0.820550</td>\n      <td>0.887203</td>\n      <td>0.800974</td>\n      <td>0.841736</td>\n    </tr>\n    <tr>\n      <th>45</th>\n      <td>10</td>\n      <td>200</td>\n      <td>10</td>\n      <td>50</td>\n      <td>GaussianNB</td>\n      <td>cdi__w2_5_0,75__NC_250__CS_200</td>\n      <td>0.873378</td>\n      <td>0.840568</td>\n      <td>0.790140</td>\n      <td>0.860779</td>\n      <td>0.850939</td>\n      <td>0.860259</td>\n      <td>0.762356</td>\n      <td>0.798321</td>\n      <td>0.868604</td>\n      <td>0.785846</td>\n      <td>0.829119</td>\n    </tr>\n    <tr>\n      <th>1</th>\n      <td>10</td>\n      <td>100</td>\n      <td>10</td>\n      <td>100</td>\n      <td>GaussianNB</td>\n      <td>cdi__w2_5_0,75__NC_250__CS_200</td>\n      <td>0.882234</td>\n      <td>0.851343</td>\n      <td>0.799372</td>\n      <td>0.871603</td>\n      <td>0.854128</td>\n      <td>0.860912</td>\n      <td>0.767646</td>\n      <td>0.806554</td>\n      <td>0.883611</td>\n      <td>0.802982</td>\n      <td>0.838039</td>\n    </tr>\n    <tr>\n      <th>77</th>\n      <td>10</td>\n      <td>50</td>\n      <td>10</td>\n      <td>200</td>\n      <td>GaussianNB</td>\n      <td>cdi__w2_5_0,75__NC_250__CS_200</td>\n      <td>0.887426</td>\n      <td>0.862352</td>\n      <td>0.809694</td>\n      <td>0.882938</td>\n      <td>0.861055</td>\n      <td>0.870895</td>\n      <td>0.771259</td>\n      <td>0.821200</td>\n      <td>0.889484</td>\n      <td>0.809247</td>\n      <td>0.846555</td>\n    </tr>\n    <tr>\n      <th>153</th>\n      <td>30</td>\n      <td>200</td>\n      <td>10</td>\n      <td>50</td>\n      <td>GaussianNB</td>\n      <td>cdi__w2_5_0,75__NC_250__CS_200</td>\n      <td>0.876644</td>\n      <td>0.848252</td>\n      <td>0.778016</td>\n      <td>0.874192</td>\n      <td>0.848885</td>\n      <td>0.852576</td>\n      <td>0.757058</td>\n      <td>0.799737</td>\n      <td>0.867123</td>\n      <td>0.787109</td>\n      <td>0.828959</td>\n    </tr>\n    <tr>\n      <th>145</th>\n      <td>30</td>\n      <td>200</td>\n      <td>10</td>\n      <td>100</td>\n      <td>GaussianNB</td>\n      <td>cdi__w2_5_0,75__NC_250__CS_200</td>\n      <td>0.878282</td>\n      <td>0.858748</td>\n      <td>0.789684</td>\n      <td>0.881466</td>\n      <td>0.847615</td>\n      <td>0.861219</td>\n      <td>0.767484</td>\n      <td>0.807325</td>\n      <td>0.876062</td>\n      <td>0.793892</td>\n      <td>0.836178</td>\n    </tr>\n    <tr>\n      <th>185</th>\n      <td>30</td>\n      <td>50</td>\n      <td>10</td>\n      <td>200</td>\n      <td>GaussianNB</td>\n      <td>cdi__w2_5_0,75__NC_250__CS_200</td>\n      <td>0.877248</td>\n      <td>0.864673</td>\n      <td>0.791156</td>\n      <td>0.882993</td>\n      <td>0.856309</td>\n      <td>0.863550</td>\n      <td>0.774928</td>\n      <td>0.806965</td>\n      <td>0.884822</td>\n      <td>0.810081</td>\n      <td>0.841273</td>\n    </tr>\n  </tbody>\n</table>\n</div>"
     },
     "execution_count": 8,
     "metadata": {},
     "output_type": "execute_result"
    }
   ],
   "source": [
    "def find_max_for_params(df: pd.DataFrame, clf: str, p1: str, p2: str):\n",
    "    _pv1, _pv2 = parameters[p1], parameters[p2]\n",
    "    _processed_df = df[df['base'] == clf]\n",
    "    _resulting_df = pd.DataFrame()\n",
    "    for _v1 in _pv1:\n",
    "        for _v2 in _pv2:\n",
    "            _df_param_pair = _processed_df[(_processed_df[p1] == _v1) & (_processed_df[p2] == _v2)]\n",
    "            _max_for_param_pair = _df_param_pair.sort_values(by='avg', ascending=False).head(1)\n",
    "            _resulting_df = pd.concat([_resulting_df, _max_for_param_pair])\n",
    "    return _resulting_df\n",
    "\n",
    "\n",
    "find_max_for_params(all_files_data[all_files_data['stream'] == 'cdi__w2_5_0,75__NC_250__CS_200'], 'GaussianNB', 'n',\n",
    "                    'k')"
   ],
   "metadata": {
    "collapsed": false,
    "ExecuteTime": {
     "end_time": "2023-06-17T10:12:05.688908200Z",
     "start_time": "2023-06-17T10:12:05.668599Z"
    }
   }
  },
  {
   "cell_type": "code",
   "execution_count": 9,
   "outputs": [],
   "source": [
    "all_streams_names = np.unique([stream.split('__RST')[0] for stream in all_streams])\n",
    "streams_and_aliases = [\n",
    "    (\"cdi__w2_4_0,9__NC_250__CS_200\", 'CDI1'),\n",
    "    (\"cdi__w2_5_0,75__NC_250__CS_200\", 'CDI2'),\n",
    "    (\"disco__w2_5_0,9__NC_250__CS_200\", 'DISCO1')\n",
    "]"
   ],
   "metadata": {
    "collapsed": false,
    "ExecuteTime": {
     "end_time": "2023-06-17T10:12:05.758752200Z",
     "start_time": "2023-06-17T10:12:05.672887400Z"
    }
   }
  },
  {
   "cell_type": "code",
   "execution_count": 10,
   "outputs": [],
   "source": [
    "def calc_pval_table_for(df, clf, param_1, param_2):\n",
    "    filtered_df = find_max_for_params(df, clf, param_1, param_2)\n",
    "    best = filtered_df.sort_values(by='avg', ascending=False).head(1)\n",
    "    best_p1, best_p2 = best[param_1].values[0], best[param_2].values[0]\n",
    "    v_1, v_2 = parameters[param_1], parameters[param_2]\n",
    "    best_scores = best[streams].to_numpy()[0]\n",
    "    t_stats = np.zeros((len(v_1), len(v_2)))\n",
    "\n",
    "    for i, p1 in enumerate(v_1):\n",
    "        for j, p2 in enumerate(v_2):\n",
    "            if p1 == best_p1 and p2 == best_p2:\n",
    "                t_stats[i, j] = 1\n",
    "            else:\n",
    "                current_df = filtered_df[(filtered_df[param_1] == p1) & (filtered_df[param_2] == p2)]\n",
    "                current = current_df[streams].to_numpy()[0]\n",
    "                p_value = ttest_ind(best_scores, current)[1]\n",
    "                t_stats[i, j] = p_value\n",
    "    return t_stats.T\n",
    "\n",
    "\n",
    "def calculate_scores_table_for(df, clf, param_1, param_2):\n",
    "    filtered_df = find_max_for_params(df, clf, param_1, param_2)\n",
    "    best = filtered_df.sort_values(by='avg', ascending=False).head(1)\n",
    "    best_p1, best_p2 = best[param_1].values[0], best[param_2].values[0]\n",
    "    v_1, v_2 = parameters[param_1], parameters[param_2]\n",
    "    best_scores = best[streams].to_numpy()[0]\n",
    "    scores = np.empty((len(v_1), len(v_2)), dtype=object)\n",
    "\n",
    "    for i, p1 in enumerate(v_1):\n",
    "        for j, p2 in enumerate(v_2):\n",
    "            if p1 == best_p1 and p2 == best_p2:\n",
    "                x = f'{best[\"avg\"].to_numpy()[0]:.3f}'\n",
    "                scores[i, j] = (\"\\\\textbf{\" + x + \"}\").rjust(13, ' ')\n",
    "            else:\n",
    "                current_df = filtered_df[(filtered_df[param_1] == p1) & (filtered_df[param_2] == p2)]\n",
    "                current = current_df[streams].to_numpy()[0]\n",
    "                p_value = ttest_ind(best_scores, current)[1]\n",
    "                if p_value < 0.05:\n",
    "                    scores[i, j] = f'{current_df[\"avg\"].to_numpy()[0]:.3f}'.rjust(13, ' ')\n",
    "                else:\n",
    "                    x = f'{current_df[\"avg\"].to_numpy()[0]:.3f}'\n",
    "                    scores[i, j] = (\"\\\\textbf{\" + x + \"}\").rjust(13, ' ')\n",
    "    return scores.T\n",
    "\n",
    "\n",
    "def tabulateff(df, x_param, y_param):\n",
    "    stream_results = {}\n",
    "    for stream, alias in streams_and_aliases:\n",
    "        stream_results[stream] = df[df['stream'] == stream].sort_values(by=['avg'], ascending=False)\n",
    "\n",
    "    scores = np.array([\n",
    "        [\n",
    "            calculate_scores_table_for(stream_results[stream], base, x_param, y_param)\n",
    "            for base in parameters['base']\n",
    "        ] for stream, alias in streams_and_aliases\n",
    "    ])\n",
    "    aliases = [alias for stream, alias in streams_and_aliases]\n",
    "    return scores\n",
    "\n",
    "\n",
    "def draw_table_for_param_pair(df, x_param, y_param, fontsize=8):\n",
    "    stream_results = {}\n",
    "    for stream, alias in streams_and_aliases:\n",
    "        stream_results[stream] = df[df['stream'] == stream].sort_values(by=['avg'], ascending=False)\n",
    "\n",
    "    p_values_table = np.array([\n",
    "        [\n",
    "            calc_pval_table_for(stream_results[stream], base, x_param, y_param)\n",
    "            for base in parameters['base']\n",
    "        ] for stream, alias in streams_and_aliases\n",
    "    ])\n",
    "    aliases = [alias for stream, alias in streams_and_aliases]\n",
    "    return draw_big_table(p_values_table, parameters[x_param], parameters[y_param], parameters['base'], aliases,\n",
    "                          title=f'{params_translations[x_param]}/{params_translations[y_param]}', fontsize=fontsize)\n"
   ],
   "metadata": {
    "collapsed": false,
    "ExecuteTime": {
     "end_time": "2023-06-17T10:12:05.783951900Z",
     "start_time": "2023-06-17T10:12:05.681376300Z"
    }
   }
  },
  {
   "cell_type": "code",
   "execution_count": 11,
   "outputs": [
    {
     "data": {
      "text/plain": "[('p', 'n'), ('p', 'k'), ('p', 'w'), ('n', 'k'), ('n', 'w'), ('k', 'w')]"
     },
     "execution_count": 11,
     "metadata": {},
     "output_type": "execute_result"
    }
   ],
   "source": [
    "combinables = [combinable for combinable in list(parameters.keys()) if combinable != 'base']\n",
    "combinations = []\n",
    "for i in range(len(combinables)):\n",
    "    for j in range(i + 1, len(combinables)):\n",
    "        combinations.append((combinables[i], combinables[j]))\n",
    "combinations"
   ],
   "metadata": {
    "collapsed": false,
    "ExecuteTime": {
     "end_time": "2023-06-17T10:12:05.831315100Z",
     "start_time": "2023-06-17T10:12:05.700941700Z"
    }
   }
  },
  {
   "cell_type": "code",
   "execution_count": 12,
   "outputs": [],
   "source": [
    "# figures = [(f'{x_param}{y_param}', draw_table_for_param_pair(all_files_data, x_param, y_param, fontsize=10)) for x_param, y_param in combinations]\n",
    "# for name, fig in figures:\n",
    "#     fig.savefig(os.path.join(PLOTS_LOCATION, f'{name}.svg'), transparent=True)"
   ],
   "metadata": {
    "collapsed": false,
    "ExecuteTime": {
     "end_time": "2023-06-17T10:12:05.902455900Z",
     "start_time": "2023-06-17T10:12:05.711076500Z"
    }
   }
  },
  {
   "cell_type": "code",
   "execution_count": 13,
   "outputs": [
    {
     "data": {
      "text/plain": "array([['        0.788', '\\\\textbf{0.808}', '\\\\textbf{0.825}'],\n       ['\\\\textbf{0.805}', '\\\\textbf{0.819}', '\\\\textbf{0.831}'],\n       ['\\\\textbf{0.818}', '\\\\textbf{0.828}', '\\\\textbf{0.836}']],\n      dtype=object)"
     },
     "execution_count": 13,
     "metadata": {},
     "output_type": "execute_result"
    }
   ],
   "source": [
    "scores_table = calculate_scores_table_for(all_files_data[all_files_data['stream'] == all_streams_names[0]],\n",
    "                                          parameters['base'][0], 'n', 'k')\n",
    "scores_table"
   ],
   "metadata": {
    "collapsed": false,
    "ExecuteTime": {
     "end_time": "2023-06-17T10:12:05.968576700Z",
     "start_time": "2023-06-17T10:12:05.718731900Z"
    }
   }
  },
  {
   "cell_type": "code",
   "execution_count": 14,
   "outputs": [
    {
     "data": {
      "text/plain": "(3, 2, 3, 3)"
     },
     "execution_count": 14,
     "metadata": {},
     "output_type": "execute_result"
    }
   ],
   "source": [
    "def ffff(df, x_param, y_param):\n",
    "    stream_results = {}\n",
    "    for stream, alias in streams_and_aliases:\n",
    "        stream_results[stream] = df[df['stream'] == stream].sort_values(by=['avg'], ascending=False)\n",
    "\n",
    "    scores = np.array([\n",
    "        [\n",
    "            calculate_scores_table_for(stream_results[stream], base, x_param, y_param)\n",
    "            for base in parameters['base']\n",
    "        ] for stream, alias in streams_and_aliases\n",
    "    ])\n",
    "    aliases = [alias for stream, alias in streams_and_aliases]\n",
    "    return scores\n",
    "\n",
    "\n",
    "ffff(all_files_data, 'n', 'k').shape"
   ],
   "metadata": {
    "collapsed": false,
    "ExecuteTime": {
     "end_time": "2023-06-17T10:12:06.068539800Z",
     "start_time": "2023-06-17T10:12:05.758752200Z"
    }
   }
  },
  {
   "cell_type": "code",
   "execution_count": 15,
   "outputs": [
    {
     "data": {
      "text/plain": "array([[5, 1, 1, 1],\n       [5, 2, 2, 2],\n       [5, 3, 3, 3]])"
     },
     "execution_count": 15,
     "metadata": {},
     "output_type": "execute_result"
    }
   ],
   "source": [
    "p = np.array([\n",
    "    [\n",
    "        [1, 1, 1],\n",
    "        [2, 2, 2],\n",
    "        [3, 3, 3]\n",
    "    ],\n",
    "    [\n",
    "        [11, 11, 11],\n",
    "        [22, 22, 22],\n",
    "        [33, 33, 33]\n",
    "    ]\n",
    "])\n",
    "pshape = p.shape\n",
    "np.concatenate((p[0], p[1]), axis=1)\n",
    "ppp = np.concatenate((np.array([[5, 5, 5]]).T, p[0]), axis=1)\n",
    "ppp"
   ],
   "metadata": {
    "collapsed": false,
    "ExecuteTime": {
     "end_time": "2023-06-17T10:12:06.073561100Z",
     "start_time": "2023-06-17T10:12:05.908999700Z"
    }
   }
  },
  {
   "cell_type": "code",
   "execution_count": 16,
   "outputs": [],
   "source": [
    "def join_table(table, row_headers, group_header):\n",
    "    first_col = np.full_like(row_headers, '', dtype='object')\n",
    "    first_col[0] = ('\\\\multirow{' + str(len(row_headers)) + '}{*}{\\\\rotatebox[origin=c]{90}{' + group_header + '}}')\n",
    "    return ' \\\\\\\\ \\n'.join([' & '.join(_row) for _row in\n",
    "                            np.concatenate((np.array([first_col]).T, np.array([row_headers]).T, table), axis=1)])\n",
    "\n",
    "\n",
    "def prepare_c_mid_rules(_pv1, _scores):\n",
    "    cline_start = 3\n",
    "    c_lines = [(cline_start * (_i + 1), cline_start * (_i + 1) + len(_pv1) - 1) for _i in range(_scores.shape[1])]\n",
    "    c_mid_rules = ' '.join(['\\\\cmidrule{' + str(cline[0]) + '-' + str(cline[1]) + '}' for cline in c_lines])\n",
    "    return c_mid_rules\n",
    "\n",
    "\n",
    "def prepare_columns_subheader(_pv1, _scores):\n",
    "    acc = []\n",
    "    for _i in range(_scores.shape[1] - 1):\n",
    "        tmp = ''\n",
    "        for _v1 in _pv1[:-1]:\n",
    "            tmp += '\\\\multicolumn{1}{c}{' + str(_v1) + '} & '\n",
    "        tmp += '\\\\multicolumn{1}{c|}{' + str(_pv1[-1]) + '}'\n",
    "        acc.append(tmp)\n",
    "    acc.extend(['\\\\multicolumn{1}{c}{' + str(_v1) + '}' for _v1 in _pv1])\n",
    "    return ' & '.join(acc)\n",
    "\n",
    "\n",
    "def prepare_scores_table(df, x_param, y_param):\n",
    "    stream_results = {}\n",
    "    for stream, alias in streams_and_aliases:\n",
    "        stream_results[stream] = df[df['stream'] == stream].sort_values(by=['avg'], ascending=False)\n",
    "\n",
    "    _scores = np.array([\n",
    "        [\n",
    "            calculate_scores_table_for(stream_results[stream], base, x_param, y_param)\n",
    "            for base in parameters['base']\n",
    "        ] for stream, alias in streams_and_aliases\n",
    "    ])\n",
    "    aliases = [alias for stream, alias in streams_and_aliases]\n",
    "    _pv1, _pv2 = parameters[x_param], parameters[y_param]\n",
    "\n",
    "    columns_def = 'll' + (_scores.shape[1] * ('|' + len(_pv1) * 'l'))\n",
    "    environment_start = '\\\\begin{table}[h]\\n' + '\\t \\\\centering \\n\\t\\\\begin{tabular}{' + columns_def + '}'\n",
    "\n",
    "    _header = f'{environment_start} \\n' \\\n",
    "              f'\\\\toprule' \\\n",
    "              f' & ${params_translations[y_param]}$ & {prepare_table_upper_header(_pv1)} \\\\\\\\ \\n' \\\n",
    "              f' ${params_translations[x_param]}$ & & {prepare_columns_subheader(_pv1, _scores)} \\\\\\\\ \\n' \\\n",
    "              f' {prepare_c_mid_rules(_pv1, _scores)} \\n'\n",
    "\n",
    "    row_headers = np.array(_pv2).astype('str')\n",
    "    tables = []\n",
    "    for _i, _current_row in enumerate(_scores):\n",
    "        _tmp = _current_row[0]\n",
    "        for _current_table in _current_row[1:]:\n",
    "            _tmp = np.concatenate((_tmp, _current_table), axis=1)\n",
    "            tables.append(join_table(_tmp, row_headers, aliases[_i]) + ' \\\\\\\\ \\n')\n",
    "\n",
    "    return _header + '\\\\midrule\\n'.join(tables) + \\\n",
    "        ' \\\\bottomrule \\n' \\\n",
    "        '\\t\\\\end{tabular} \\n' \\\n",
    "        '\\t\\\\caption{$' + params_translations[x_param] + '$/$' + params_translations[y_param] + '$}\\n'\\\n",
    "        '\\t\\\\label{tbl:ex1:'+ x_param + y_param + '}\\n' \\\n",
    "        '\\\\end{table}'\n",
    "\n",
    "\n",
    "def prepare_table_upper_header(_pv1):\n",
    "    return (' & '.join([\n",
    "        \"\\\\multicolumn{\" + f\"{len(_pv1)}\" + \"}{c}{\" + clf + \"}\" for clf in parameters['base']\n",
    "    ]))\n",
    "\n",
    "\n",
    "s = prepare_scores_table(all_files_data, 'n', 'k')\n",
    "# print(s)"
   ],
   "metadata": {
    "collapsed": false,
    "ExecuteTime": {
     "end_time": "2023-06-17T10:12:06.231821300Z",
     "start_time": "2023-06-17T10:12:05.919624700Z"
    }
   }
  },
  {
   "cell_type": "code",
   "execution_count": 17,
   "outputs": [],
   "source": [
    "# def prepare_table_in_file(df, x_param, y_param):\n",
    "#     with open(os.path.join(TBLS_LOCATION, f'{x_param}{y_param}'), mode='w+') as f:\n",
    "#         f.write(prepare_scores_table(df, x_param, y_param))"
   ],
   "metadata": {
    "collapsed": false,
    "ExecuteTime": {
     "end_time": "2023-06-17T10:12:06.231821300Z",
     "start_time": "2023-06-17T10:12:06.073561100Z"
    }
   }
  },
  {
   "cell_type": "code",
   "execution_count": 18,
   "outputs": [],
   "source": [
    "# for xp, yp in combinations:\n",
    "#     prepare_table_in_file(all_files_data, xp, yp)"
   ],
   "metadata": {
    "collapsed": false,
    "ExecuteTime": {
     "end_time": "2023-06-17T10:12:06.231821300Z",
     "start_time": "2023-06-17T10:12:06.084370600Z"
    }
   }
  },
  {
   "cell_type": "code",
   "execution_count": 19,
   "outputs": [
    {
     "data": {
      "text/plain": "      n    p   w    k           base                           stream  \\\n0    10  100  10  100     GaussianNB    cdi__w2_4_0,9__NC_250__CS_200   \n1    10  100  10  100     GaussianNB   cdi__w2_5_0,75__NC_250__CS_200   \n2    10  100  10  100  MLPClassifier    cdi__w2_4_0,9__NC_250__CS_200   \n3    10  100  10  100  MLPClassifier   cdi__w2_5_0,75__NC_250__CS_200   \n4    10  100  10  200     GaussianNB    cdi__w2_4_0,9__NC_250__CS_200   \n..   ..  ...  ..  ...            ...                              ...   \n481   5   50  40  100  MLPClassifier  disco__w2_5_0,9__NC_250__CS_200   \n482   5   50  40  200     GaussianNB  disco__w2_5_0,9__NC_250__CS_200   \n483   5   50  40  200  MLPClassifier  disco__w2_5_0,9__NC_250__CS_200   \n484   5   50  40   50     GaussianNB  disco__w2_5_0,9__NC_250__CS_200   \n485   5   50  40   50  MLPClassifier  disco__w2_5_0,9__NC_250__CS_200   \n\n         1000    100000      1001       101    101010  10101010     10110  \\\n0    0.863961  0.830409  0.779023  0.853465  0.831684  0.840580  0.749153   \n1    0.882234  0.851343  0.799372  0.871603  0.854128  0.860912  0.767646   \n2    0.882455  0.812346  0.776283  0.851473  0.830928  0.856243  0.757676   \n3    0.895605  0.834805  0.799525  0.871990  0.849106  0.877997  0.769150   \n4    0.870426  0.843855  0.785713  0.860525  0.848984  0.856273  0.757953   \n..        ...       ...       ...       ...       ...       ...       ...   \n481  0.751937  0.712357  0.761996  0.756817  0.782625  0.785153  0.789830   \n482  0.782402  0.742195  0.788491  0.771802  0.808239  0.804777  0.813330   \n483  0.774517  0.736057  0.788639  0.782493  0.806959  0.809972  0.812651   \n484  0.727546  0.698483  0.734622  0.736068  0.771735  0.767337  0.780591   \n485  0.724709  0.685949  0.733455  0.728427  0.752758  0.752411  0.761184   \n\n       101101       110      1337       avg  \n0    0.793336  0.857029  0.773289  0.817193  \n1    0.806554  0.883611  0.802982  0.838039  \n2    0.781909  0.868897  0.768406  0.818662  \n3    0.802582  0.887718  0.793079  0.838156  \n4    0.801889  0.868109  0.781869  0.827560  \n..        ...       ...       ...       ...  \n481  0.777624  0.826199  0.788343  0.773288  \n482  0.818509  0.843644  0.817978  0.799137  \n483  0.809883  0.842947  0.811434  0.797555  \n484  0.783961  0.811271  0.770436  0.758205  \n485  0.744185  0.800268  0.755812  0.743916  \n\n[486 rows x 17 columns]",
      "text/html": "<div>\n<style scoped>\n    .dataframe tbody tr th:only-of-type {\n        vertical-align: middle;\n    }\n\n    .dataframe tbody tr th {\n        vertical-align: top;\n    }\n\n    .dataframe thead th {\n        text-align: right;\n    }\n</style>\n<table border=\"1\" class=\"dataframe\">\n  <thead>\n    <tr style=\"text-align: right;\">\n      <th></th>\n      <th>n</th>\n      <th>p</th>\n      <th>w</th>\n      <th>k</th>\n      <th>base</th>\n      <th>stream</th>\n      <th>1000</th>\n      <th>100000</th>\n      <th>1001</th>\n      <th>101</th>\n      <th>101010</th>\n      <th>10101010</th>\n      <th>10110</th>\n      <th>101101</th>\n      <th>110</th>\n      <th>1337</th>\n      <th>avg</th>\n    </tr>\n  </thead>\n  <tbody>\n    <tr>\n      <th>0</th>\n      <td>10</td>\n      <td>100</td>\n      <td>10</td>\n      <td>100</td>\n      <td>GaussianNB</td>\n      <td>cdi__w2_4_0,9__NC_250__CS_200</td>\n      <td>0.863961</td>\n      <td>0.830409</td>\n      <td>0.779023</td>\n      <td>0.853465</td>\n      <td>0.831684</td>\n      <td>0.840580</td>\n      <td>0.749153</td>\n      <td>0.793336</td>\n      <td>0.857029</td>\n      <td>0.773289</td>\n      <td>0.817193</td>\n    </tr>\n    <tr>\n      <th>1</th>\n      <td>10</td>\n      <td>100</td>\n      <td>10</td>\n      <td>100</td>\n      <td>GaussianNB</td>\n      <td>cdi__w2_5_0,75__NC_250__CS_200</td>\n      <td>0.882234</td>\n      <td>0.851343</td>\n      <td>0.799372</td>\n      <td>0.871603</td>\n      <td>0.854128</td>\n      <td>0.860912</td>\n      <td>0.767646</td>\n      <td>0.806554</td>\n      <td>0.883611</td>\n      <td>0.802982</td>\n      <td>0.838039</td>\n    </tr>\n    <tr>\n      <th>2</th>\n      <td>10</td>\n      <td>100</td>\n      <td>10</td>\n      <td>100</td>\n      <td>MLPClassifier</td>\n      <td>cdi__w2_4_0,9__NC_250__CS_200</td>\n      <td>0.882455</td>\n      <td>0.812346</td>\n      <td>0.776283</td>\n      <td>0.851473</td>\n      <td>0.830928</td>\n      <td>0.856243</td>\n      <td>0.757676</td>\n      <td>0.781909</td>\n      <td>0.868897</td>\n      <td>0.768406</td>\n      <td>0.818662</td>\n    </tr>\n    <tr>\n      <th>3</th>\n      <td>10</td>\n      <td>100</td>\n      <td>10</td>\n      <td>100</td>\n      <td>MLPClassifier</td>\n      <td>cdi__w2_5_0,75__NC_250__CS_200</td>\n      <td>0.895605</td>\n      <td>0.834805</td>\n      <td>0.799525</td>\n      <td>0.871990</td>\n      <td>0.849106</td>\n      <td>0.877997</td>\n      <td>0.769150</td>\n      <td>0.802582</td>\n      <td>0.887718</td>\n      <td>0.793079</td>\n      <td>0.838156</td>\n    </tr>\n    <tr>\n      <th>4</th>\n      <td>10</td>\n      <td>100</td>\n      <td>10</td>\n      <td>200</td>\n      <td>GaussianNB</td>\n      <td>cdi__w2_4_0,9__NC_250__CS_200</td>\n      <td>0.870426</td>\n      <td>0.843855</td>\n      <td>0.785713</td>\n      <td>0.860525</td>\n      <td>0.848984</td>\n      <td>0.856273</td>\n      <td>0.757953</td>\n      <td>0.801889</td>\n      <td>0.868109</td>\n      <td>0.781869</td>\n      <td>0.827560</td>\n    </tr>\n    <tr>\n      <th>...</th>\n      <td>...</td>\n      <td>...</td>\n      <td>...</td>\n      <td>...</td>\n      <td>...</td>\n      <td>...</td>\n      <td>...</td>\n      <td>...</td>\n      <td>...</td>\n      <td>...</td>\n      <td>...</td>\n      <td>...</td>\n      <td>...</td>\n      <td>...</td>\n      <td>...</td>\n      <td>...</td>\n      <td>...</td>\n    </tr>\n    <tr>\n      <th>481</th>\n      <td>5</td>\n      <td>50</td>\n      <td>40</td>\n      <td>100</td>\n      <td>MLPClassifier</td>\n      <td>disco__w2_5_0,9__NC_250__CS_200</td>\n      <td>0.751937</td>\n      <td>0.712357</td>\n      <td>0.761996</td>\n      <td>0.756817</td>\n      <td>0.782625</td>\n      <td>0.785153</td>\n      <td>0.789830</td>\n      <td>0.777624</td>\n      <td>0.826199</td>\n      <td>0.788343</td>\n      <td>0.773288</td>\n    </tr>\n    <tr>\n      <th>482</th>\n      <td>5</td>\n      <td>50</td>\n      <td>40</td>\n      <td>200</td>\n      <td>GaussianNB</td>\n      <td>disco__w2_5_0,9__NC_250__CS_200</td>\n      <td>0.782402</td>\n      <td>0.742195</td>\n      <td>0.788491</td>\n      <td>0.771802</td>\n      <td>0.808239</td>\n      <td>0.804777</td>\n      <td>0.813330</td>\n      <td>0.818509</td>\n      <td>0.843644</td>\n      <td>0.817978</td>\n      <td>0.799137</td>\n    </tr>\n    <tr>\n      <th>483</th>\n      <td>5</td>\n      <td>50</td>\n      <td>40</td>\n      <td>200</td>\n      <td>MLPClassifier</td>\n      <td>disco__w2_5_0,9__NC_250__CS_200</td>\n      <td>0.774517</td>\n      <td>0.736057</td>\n      <td>0.788639</td>\n      <td>0.782493</td>\n      <td>0.806959</td>\n      <td>0.809972</td>\n      <td>0.812651</td>\n      <td>0.809883</td>\n      <td>0.842947</td>\n      <td>0.811434</td>\n      <td>0.797555</td>\n    </tr>\n    <tr>\n      <th>484</th>\n      <td>5</td>\n      <td>50</td>\n      <td>40</td>\n      <td>50</td>\n      <td>GaussianNB</td>\n      <td>disco__w2_5_0,9__NC_250__CS_200</td>\n      <td>0.727546</td>\n      <td>0.698483</td>\n      <td>0.734622</td>\n      <td>0.736068</td>\n      <td>0.771735</td>\n      <td>0.767337</td>\n      <td>0.780591</td>\n      <td>0.783961</td>\n      <td>0.811271</td>\n      <td>0.770436</td>\n      <td>0.758205</td>\n    </tr>\n    <tr>\n      <th>485</th>\n      <td>5</td>\n      <td>50</td>\n      <td>40</td>\n      <td>50</td>\n      <td>MLPClassifier</td>\n      <td>disco__w2_5_0,9__NC_250__CS_200</td>\n      <td>0.724709</td>\n      <td>0.685949</td>\n      <td>0.733455</td>\n      <td>0.728427</td>\n      <td>0.752758</td>\n      <td>0.752411</td>\n      <td>0.761184</td>\n      <td>0.744185</td>\n      <td>0.800268</td>\n      <td>0.755812</td>\n      <td>0.743916</td>\n    </tr>\n  </tbody>\n</table>\n<p>486 rows × 17 columns</p>\n</div>"
     },
     "execution_count": 19,
     "metadata": {},
     "output_type": "execute_result"
    }
   ],
   "source": [
    "all_files_data"
   ],
   "metadata": {
    "collapsed": false,
    "ExecuteTime": {
     "end_time": "2023-06-17T10:12:06.231821300Z",
     "start_time": "2023-06-17T10:12:06.089343400Z"
    }
   }
  },
  {
   "cell_type": "code",
   "execution_count": 52,
   "outputs": [
    {
     "data": {
      "text/plain": "{'cdi__w2_4_0,9__NC_250__CS_200': {'GaussianNB': {'n': 10,\n   'p': 100,\n   'k': 200,\n   'w': 10},\n  'MLPClassifier': {'n': 30, 'p': 100, 'k': 200, 'w': 10}},\n 'cdi__w2_5_0,75__NC_250__CS_200': {'GaussianNB': {'n': 10,\n   'p': 50,\n   'k': 200,\n   'w': 10},\n  'MLPClassifier': {'n': 30, 'p': 50, 'k': 200, 'w': 10}},\n 'disco__w2_5_0,9__NC_250__CS_200': {'GaussianNB': {'n': 5,\n   'p': 50,\n   'k': 200,\n   'w': 10},\n  'MLPClassifier': {'n': 30, 'p': 50, 'k': 200, 'w': 20}}}"
     },
     "execution_count": 52,
     "metadata": {},
     "output_type": "execute_result"
    }
   ],
   "source": [
    "def find_best(df: pd.DataFrame, base: str, stream: str):\n",
    "    _by_clf = df[(df['base'] == base) & (df['stream'] == stream)].drop(columns=streams)\n",
    "    _sorted = _by_clf.sort_values(by='avg', ascending=False).head(1)\n",
    "    return _sorted\n",
    "\n",
    "acc = pd.DataFrame()\n",
    "for base in ['GaussianNB', 'MLPClassifier']:\n",
    "    for stream in all_streams_names:\n",
    "        acc = pd.concat([acc, find_best(all_files_data, base, stream)], axis=0)\n",
    "dicts = acc.reset_index().drop(columns=['index']).to_dict(orient='records')\n",
    "tmp = {}\n",
    "for record in dicts:\n",
    "    current_stream = record['stream']\n",
    "    base_clf = record['base']\n",
    "    if current_stream in tmp:\n",
    "        tmp[current_stream][base_clf] = {\n",
    "                'n': record['n'],\n",
    "                'p': record['p'],\n",
    "                'k': record['k'],\n",
    "                'w': record['w']\n",
    "            }\n",
    "    else:\n",
    "        tmp[current_stream] = {\n",
    "            record['base']: {\n",
    "                'n': record['n'],\n",
    "                'p': record['p'],\n",
    "                'k': record['k'],\n",
    "                'w': record['w']\n",
    "            }\n",
    "        }\n",
    "tmp"
   ],
   "metadata": {
    "collapsed": false,
    "ExecuteTime": {
     "end_time": "2023-06-17T10:39:22.634161200Z",
     "start_time": "2023-06-17T10:39:22.634161200Z"
    }
   }
  },
  {
   "cell_type": "code",
   "execution_count": 59,
   "outputs": [
    {
     "data": {
      "text/plain": "array([0, 1, 2])"
     },
     "execution_count": 59,
     "metadata": {},
     "output_type": "execute_result"
    }
   ],
   "source": [
    "from sklearn.datasets import load_iris\n",
    "from sklearn.neural_network import MLPClassifier\n",
    "\n",
    "dataset = load_iris()\n",
    "data = dataset['data']\n",
    "target = dataset['target']\n",
    "\n",
    "mlp = MLPClassifier()\n",
    "\n",
    "classes = np.unique(target)\n"
   ],
   "metadata": {
    "collapsed": false,
    "ExecuteTime": {
     "end_time": "2023-06-17T13:19:29.226168Z",
     "start_time": "2023-06-17T13:19:29.219931Z"
    }
   }
  }
 ],
 "metadata": {
  "kernelspec": {
   "display_name": "Python 3",
   "language": "python",
   "name": "python3"
  },
  "language_info": {
   "codemirror_mode": {
    "name": "ipython",
    "version": 2
   },
   "file_extension": ".py",
   "mimetype": "text/x-python",
   "name": "python",
   "nbconvert_exporter": "python",
   "pygments_lexer": "ipython2",
   "version": "2.7.6"
  }
 },
 "nbformat": 4,
 "nbformat_minor": 0
}
