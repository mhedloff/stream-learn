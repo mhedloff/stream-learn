{
 "cells": [
  {
   "cell_type": "code",
   "execution_count": 1,
   "metadata": {
    "collapsed": true,
    "ExecuteTime": {
     "end_time": "2023-06-02T11:26:16.113543400Z",
     "start_time": "2023-06-02T11:26:14.939473800Z"
    }
   },
   "outputs": [],
   "source": [
    "import numpy as np\n",
    "import pandas as pd\n"
   ]
  },
  {
   "cell_type": "code",
   "execution_count": 4,
   "outputs": [],
   "source": [
    "loaded_data = np.load('D:\\\\projects\\\\mgr\\\\final\\\\parameters_results\\\\ONSBOOST__n_5__p_100__w_50__k_100__base_GaussianNB++cdi__w2_4_0,9__NC_1000__CS_100__RST_1000.npy')"
   ],
   "metadata": {
    "collapsed": false,
    "ExecuteTime": {
     "end_time": "2023-06-02T11:27:20.500023400Z",
     "start_time": "2023-06-02T11:27:20.495024200Z"
    }
   }
  },
  {
   "cell_type": "code",
   "execution_count": 12,
   "outputs": [
    {
     "data": {
      "text/plain": "array([[0.6875    ],\n       [0.79444444],\n       [0.98404255],\n       [0.96842105],\n       [0.92319508],\n       [0.69444444],\n       [0.70353303],\n       [0.74468085],\n       [0.68235294]])"
     },
     "execution_count": 12,
     "metadata": {},
     "output_type": "execute_result"
    }
   ],
   "source": [
    "loaded_data.reshape((9,1))"
   ],
   "metadata": {
    "collapsed": false,
    "ExecuteTime": {
     "end_time": "2023-06-02T11:34:08.762200Z",
     "start_time": "2023-06-02T11:34:08.761199Z"
    }
   }
  }
 ],
 "metadata": {
  "kernelspec": {
   "display_name": "Python 3",
   "language": "python",
   "name": "python3"
  },
  "language_info": {
   "codemirror_mode": {
    "name": "ipython",
    "version": 2
   },
   "file_extension": ".py",
   "mimetype": "text/x-python",
   "name": "python",
   "nbconvert_exporter": "python",
   "pygments_lexer": "ipython2",
   "version": "2.7.6"
  }
 },
 "nbformat": 4,
 "nbformat_minor": 0
}
