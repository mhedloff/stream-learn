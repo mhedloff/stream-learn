{
 "cells": [
  {
   "cell_type": "code",
   "execution_count": 11,
   "metadata": {
    "collapsed": true,
    "ExecuteTime": {
     "end_time": "2023-06-19T21:45:28.671086200Z",
     "start_time": "2023-06-19T21:45:28.662104900Z"
    }
   },
   "outputs": [],
   "source": [
    "import os\n",
    "\n",
    "import matplotlib.pyplot as plt\n",
    "import numpy as np\n",
    "import pandas as pd\n",
    "import plotly.express as px"
   ]
  },
  {
   "cell_type": "code",
   "execution_count": 26,
   "outputs": [],
   "source": [
    "RESULTS_LOCATION = './comparison_results/'\n",
    "ENSEMBLES = ['ONSBoost', 'OB', 'OnlineBoosting', 'OOB', 'UOB']\n",
    "METRICS = ['recall', 'specificity', 'precision', 'balanced_accuracy_score', 'f1_score', 'geometric_mean_score_1']\n",
    "RST = [1000, 100000, 101010, 10110, 101101, 1001, 10101010, 101, 110, 1337]\n",
    "BASE = ['GaussianNB', 'SGDClassifier']\n",
    "STREAMS = ['cdi__w2_4_0,9', 'cdi__w2_5_0,75', 'disco__w2_5_0,9']\n",
    "STREAMS_NAMES = {\n",
    "    'cdi__w2_4_0,9': 'CDI1',\n",
    "    'cdi__w2_5_0,75': 'CDI2',\n",
    "    'disco__w2_5_0,9': 'DISCO1'\n",
    "}\n",
    "METRICS_NAMES = {\n",
    "    'recall': 'czułość (recall)',\n",
    "    'specificity': 'swoistość (specificity)',\n",
    "    'precision': 'precyzja (precision)',\n",
    "    'balanced_accuracy_score': 'zbalansowana dokładność (BAC)',\n",
    "    'f1_score': 'F1',\n",
    "    'geometric_mean_score_1': 'Gmean'\n",
    "}\n",
    "METRICS_NAMES_EN = {\n",
    "    'recall': 'recall',\n",
    "    'specificity': 'specificity',\n",
    "    'precision': 'precision',\n",
    "    'balanced_accuracy_score': 'BAC',\n",
    "    'f1_score': 'F1',\n",
    "    'geometric_mean_score_1': 'Gmean'\n",
    "}\n",
    "METRICS_NAMES_SHORT = {\n",
    "    'recall': 'czułość',\n",
    "    'specificity': 'swoistość',\n",
    "    'precision': 'precyzja',\n",
    "    'balanced_accuracy_score': 'BAC',\n",
    "    'f1_score': 'F1',\n",
    "    'geometric_mean_score_1': 'Gmean'\n",
    "}"
   ],
   "metadata": {
    "collapsed": false,
    "ExecuteTime": {
     "end_time": "2023-06-19T22:04:36.447949100Z",
     "start_time": "2023-06-19T22:04:36.437852Z"
    }
   }
  },
  {
   "cell_type": "code",
   "execution_count": 5,
   "outputs": [
    {
     "data": {
      "text/plain": "              base   rst           stream        ensemble    recall  \\\n0       GaussianNB  1000    cdi__w2_4_0,9        ONSBoost  0.889260   \n1       GaussianNB  1000    cdi__w2_4_0,9              OB  0.835575   \n2       GaussianNB  1000    cdi__w2_4_0,9  OnlineBoosting  0.905354   \n3       GaussianNB  1000    cdi__w2_4_0,9             OOB  0.851056   \n4       GaussianNB  1000    cdi__w2_4_0,9             UOB  0.856820   \n..             ...   ...              ...             ...       ...   \n295  SGDClassifier  1337  disco__w2_5_0,9        ONSBoost  0.795506   \n296  SGDClassifier  1337  disco__w2_5_0,9              OB  0.817984   \n297  SGDClassifier  1337  disco__w2_5_0,9  OnlineBoosting  0.795090   \n298  SGDClassifier  1337  disco__w2_5_0,9             OOB  0.868403   \n299  SGDClassifier  1337  disco__w2_5_0,9             UOB  0.871715   \n\n     specificity  precision  balanced_accuracy_score  f1_score  \\\n0       0.858786   0.919403                 0.874023  0.900033   \n1       0.869914   0.788768                 0.852745  0.797915   \n2       0.801743   0.895125                 0.853549  0.897123   \n3       0.860095   0.772989                 0.855575  0.793877   \n4       0.854914   0.765509                 0.855867  0.790361   \n..           ...        ...                      ...       ...   \n295     0.809934   0.812636                 0.802720  0.794158   \n296     0.843381        NaN                 0.830682  0.834163   \n297     0.812038   0.807783                 0.803564  0.792668   \n298     0.862145   0.791521                 0.865274  0.815429   \n299     0.862333   0.764250                 0.867024  0.786430   \n\n     geometric_mean_score_1  \n0                  0.864386  \n1                  0.850585  \n2                  0.839996  \n3                  0.854388  \n4                  0.854755  \n..                      ...  \n295                0.780106  \n296                0.805913  \n297                0.783257  \n298                0.861771  \n299                0.865772  \n\n[300 rows x 10 columns]",
      "text/html": "<div>\n<style scoped>\n    .dataframe tbody tr th:only-of-type {\n        vertical-align: middle;\n    }\n\n    .dataframe tbody tr th {\n        vertical-align: top;\n    }\n\n    .dataframe thead th {\n        text-align: right;\n    }\n</style>\n<table border=\"1\" class=\"dataframe\">\n  <thead>\n    <tr style=\"text-align: right;\">\n      <th></th>\n      <th>base</th>\n      <th>rst</th>\n      <th>stream</th>\n      <th>ensemble</th>\n      <th>recall</th>\n      <th>specificity</th>\n      <th>precision</th>\n      <th>balanced_accuracy_score</th>\n      <th>f1_score</th>\n      <th>geometric_mean_score_1</th>\n    </tr>\n  </thead>\n  <tbody>\n    <tr>\n      <th>0</th>\n      <td>GaussianNB</td>\n      <td>1000</td>\n      <td>cdi__w2_4_0,9</td>\n      <td>ONSBoost</td>\n      <td>0.889260</td>\n      <td>0.858786</td>\n      <td>0.919403</td>\n      <td>0.874023</td>\n      <td>0.900033</td>\n      <td>0.864386</td>\n    </tr>\n    <tr>\n      <th>1</th>\n      <td>GaussianNB</td>\n      <td>1000</td>\n      <td>cdi__w2_4_0,9</td>\n      <td>OB</td>\n      <td>0.835575</td>\n      <td>0.869914</td>\n      <td>0.788768</td>\n      <td>0.852745</td>\n      <td>0.797915</td>\n      <td>0.850585</td>\n    </tr>\n    <tr>\n      <th>2</th>\n      <td>GaussianNB</td>\n      <td>1000</td>\n      <td>cdi__w2_4_0,9</td>\n      <td>OnlineBoosting</td>\n      <td>0.905354</td>\n      <td>0.801743</td>\n      <td>0.895125</td>\n      <td>0.853549</td>\n      <td>0.897123</td>\n      <td>0.839996</td>\n    </tr>\n    <tr>\n      <th>3</th>\n      <td>GaussianNB</td>\n      <td>1000</td>\n      <td>cdi__w2_4_0,9</td>\n      <td>OOB</td>\n      <td>0.851056</td>\n      <td>0.860095</td>\n      <td>0.772989</td>\n      <td>0.855575</td>\n      <td>0.793877</td>\n      <td>0.854388</td>\n    </tr>\n    <tr>\n      <th>4</th>\n      <td>GaussianNB</td>\n      <td>1000</td>\n      <td>cdi__w2_4_0,9</td>\n      <td>UOB</td>\n      <td>0.856820</td>\n      <td>0.854914</td>\n      <td>0.765509</td>\n      <td>0.855867</td>\n      <td>0.790361</td>\n      <td>0.854755</td>\n    </tr>\n    <tr>\n      <th>...</th>\n      <td>...</td>\n      <td>...</td>\n      <td>...</td>\n      <td>...</td>\n      <td>...</td>\n      <td>...</td>\n      <td>...</td>\n      <td>...</td>\n      <td>...</td>\n      <td>...</td>\n    </tr>\n    <tr>\n      <th>295</th>\n      <td>SGDClassifier</td>\n      <td>1337</td>\n      <td>disco__w2_5_0,9</td>\n      <td>ONSBoost</td>\n      <td>0.795506</td>\n      <td>0.809934</td>\n      <td>0.812636</td>\n      <td>0.802720</td>\n      <td>0.794158</td>\n      <td>0.780106</td>\n    </tr>\n    <tr>\n      <th>296</th>\n      <td>SGDClassifier</td>\n      <td>1337</td>\n      <td>disco__w2_5_0,9</td>\n      <td>OB</td>\n      <td>0.817984</td>\n      <td>0.843381</td>\n      <td>NaN</td>\n      <td>0.830682</td>\n      <td>0.834163</td>\n      <td>0.805913</td>\n    </tr>\n    <tr>\n      <th>297</th>\n      <td>SGDClassifier</td>\n      <td>1337</td>\n      <td>disco__w2_5_0,9</td>\n      <td>OnlineBoosting</td>\n      <td>0.795090</td>\n      <td>0.812038</td>\n      <td>0.807783</td>\n      <td>0.803564</td>\n      <td>0.792668</td>\n      <td>0.783257</td>\n    </tr>\n    <tr>\n      <th>298</th>\n      <td>SGDClassifier</td>\n      <td>1337</td>\n      <td>disco__w2_5_0,9</td>\n      <td>OOB</td>\n      <td>0.868403</td>\n      <td>0.862145</td>\n      <td>0.791521</td>\n      <td>0.865274</td>\n      <td>0.815429</td>\n      <td>0.861771</td>\n    </tr>\n    <tr>\n      <th>299</th>\n      <td>SGDClassifier</td>\n      <td>1337</td>\n      <td>disco__w2_5_0,9</td>\n      <td>UOB</td>\n      <td>0.871715</td>\n      <td>0.862333</td>\n      <td>0.764250</td>\n      <td>0.867024</td>\n      <td>0.786430</td>\n      <td>0.865772</td>\n    </tr>\n  </tbody>\n</table>\n<p>300 rows × 10 columns</p>\n</div>"
     },
     "execution_count": 5,
     "metadata": {},
     "output_type": "execute_result"
    }
   ],
   "source": [
    "def load_all_data(directory: str):\n",
    "    _results_files = [file for file in os.listdir(directory) if not os.path.isdir(os.path.join(directory, file))]\n",
    "    _files = [(file, np.load(os.path.abspath(os.path.join(RESULTS_LOCATION, file)))) for file in _results_files]\n",
    "    acc = []\n",
    "    for file, data in _files:\n",
    "        rst = file.split('__RST_')[1].split('.')[0]\n",
    "        stream = file.split('++')[1].split('__NC')[0]\n",
    "        base_clf = file.split('++')[0]\n",
    "        for i, ensemble in enumerate(ENSEMBLES):\n",
    "            current = {\n",
    "                'base': base_clf,\n",
    "                'rst': rst,\n",
    "                'stream': stream,\n",
    "                'ensemble': ensemble\n",
    "            }\n",
    "            for j, metric in enumerate(METRICS):\n",
    "                mean = data[i, :, j].mean(axis=0)\n",
    "                current[metric] = mean\n",
    "            acc.append(current)\n",
    "\n",
    "    return pd.DataFrame(acc)\n",
    "\n",
    "\n",
    "all_data = load_all_data(RESULTS_LOCATION)\n",
    "all_data"
   ],
   "metadata": {
    "collapsed": false,
    "ExecuteTime": {
     "end_time": "2023-06-19T21:43:13.201936100Z",
     "start_time": "2023-06-19T21:43:12.841417400Z"
    }
   }
  },
  {
   "cell_type": "code",
   "execution_count": 6,
   "outputs": [],
   "source": [
    "def extract_data_for(df: pd.DataFrame, base: str, stream: str, ensemble: str):\n",
    "    return df[(df['base'] == base) & (df['stream'] == stream) & (df['ensemble'] == ensemble)]\n",
    "\n",
    "\n",
    "def draw_boxplot_for(df: pd.DataFrame, base: str, stream: str, metric: str) -> plt.Figure:\n",
    "    fig, ax = plt.subplots()\n",
    "    boxplot_data = np.zeros((len(RST), len(ENSEMBLES))).T\n",
    "    for i, ensemble in enumerate(ENSEMBLES):\n",
    "        ensemble_scores = extract_data_for(df, base, stream, ensemble)\n",
    "        ensemble_scores = ensemble_scores[metric].to_numpy()\n",
    "        boxplot_data[i] = ensemble_scores\n",
    "    ax.boxplot(boxplot_data.T, labels=ENSEMBLES)\n",
    "    ax.set_ylabel(METRICS_NAMES[metric])\n",
    "    ax.set_xlabel('zespół klasyfikatorów')\n",
    "    fig.suptitle(f'{base} / {STREAMS_NAMES[stream]} / {METRICS_NAMES[metric]}')\n",
    "    return fig\n",
    "\n",
    "\n",
    "def draw_all_boxplots(df: pd.DataFrame):\n",
    "    for base in BASE:\n",
    "        for stream in STREAMS:\n",
    "            for metric in METRICS:\n",
    "                # fig = draw_boxplot_for(df, base, stream, metric)\n",
    "                # fig.savefig(f'{base}-{STREAMS_NAMES[stream]}-{metric}.svg')\n",
    "                pass\n",
    "\n",
    "\n",
    "draw_all_boxplots(all_data)"
   ],
   "metadata": {
    "collapsed": false,
    "ExecuteTime": {
     "end_time": "2023-06-19T21:43:13.209239900Z",
     "start_time": "2023-06-19T21:43:13.203936700Z"
    }
   }
  },
  {
   "cell_type": "code",
   "execution_count": 7,
   "outputs": [],
   "source": [
    "def draw_polar(data, title=None):\n",
    "    metrics_names = list(METRICS_NAMES.values())\n",
    "    N = len(metrics_names)\n",
    "    fig, ax = plt.subplots(subplot_kw=dict(polar=True))\n",
    "    label_loc = np.linspace(start=0, stop=2 * np.pi, num=N + 1)\n",
    "    ax.set_theta_zero_location('N')\n",
    "    plt.thetagrids(np.degrees(label_loc), labels=[] * N)\n",
    "    fig.subplots_adjust(wspace=0.25, hspace=0.20, top=0.85, bottom=0.05)\n",
    "    colors = ['b', 'r', 'g', 'm', 'y']\n",
    "    if title:\n",
    "        ax.text(0, -.2, title, ha='center', va='center', transform=ax.get_xaxis_text1_transform(-10)[0],\n",
    "                fontweight='bold')\n",
    "    ax.set_ylim(.7, .9)\n",
    "    ax.yaxis.set_tick_params(labelsize=7, rotation=21)\n",
    "    for d, color in zip(data, colors):\n",
    "        ax.plot(label_loc, [*d, d[0]], color=color)\n",
    "        ax.fill(label_loc, [*d, d[0]], facecolor=color, alpha=0.05, label='_nolegend_')\n",
    "\n",
    "    for i, metric in enumerate(metrics_names):\n",
    "        trans, _, _ = ax.get_xaxis_text1_transform(-10)\n",
    "        rotation = i * 360 / N + (0 if i in [0, 1, 5] else 180)\n",
    "        ax.text(np.deg2rad(i * 360 / N), -0.1, metric, transform=trans,\n",
    "                rotation=rotation, ha=\"center\", va=\"center\")\n",
    "\n",
    "    box = ax.get_position()\n",
    "    ax.set_position([box.x0, box.y0 + box.height * 0.1,\n",
    "                     box.width, box.height * 0.9])\n",
    "\n",
    "    # Put a legend below current axis\n",
    "    ax.legend(ENSEMBLES, loc='upper center', bbox_to_anchor=(0.5, -0.1), ncol=3, fontsize='small', labelspacing=.1)\n",
    "    return fig\n",
    "\n",
    "\n",
    "def draw_polar_for(df: pd.DataFrame, base: str, stream: str):\n",
    "    _df = df.groupby(by=['base', 'stream', 'ensemble'], group_keys=False).mean()\n",
    "    _df = _df.loc[base, stream].drop(['rst'], axis=1)\n",
    "    _data = np.zeros((len(ENSEMBLES), len(METRICS)))\n",
    "    _title = f'{base} / {STREAMS_NAMES[stream]}'\n",
    "    for i, ensemble in enumerate(ENSEMBLES):\n",
    "        _data[i] = _df.loc[ensemble].to_numpy()\n",
    "    return draw_polar(_data, title=_title)\n",
    "\n",
    "\n",
    "def prepare_polars(df: pd.DataFrame):\n",
    "    for base in BASE:\n",
    "        for stream in STREAMS:\n",
    "            _fig = draw_polar_for(df, base, stream)\n",
    "            plt.savefig(f'{base}-{STREAMS_NAMES[stream]}.svg')\n",
    "\n",
    "# prepare_polars(all_data)"
   ],
   "metadata": {
    "collapsed": false,
    "ExecuteTime": {
     "end_time": "2023-06-19T21:43:13.250053100Z",
     "start_time": "2023-06-19T21:43:13.210242700Z"
    }
   }
  },
  {
   "cell_type": "code",
   "execution_count": 55,
   "outputs": [
    {
     "data": {
      "application/vnd.plotly.v1+json": {
       "data": [
        {
         "hovertemplate": "group=OB<br>value=%{r}<br>variable=%{theta}<extra></extra>",
         "legendgroup": "OB",
         "line": {
          "color": "#636efa",
          "dash": "solid"
         },
         "marker": {
          "symbol": "circle"
         },
         "mode": "lines",
         "name": "OB",
         "r": [
          0.8216160530973674,
          0.8609166091815534,
          0.7945854261370717,
          0.8412663311394605,
          0.7925995927944588,
          0.8362402035477043,
          0.8216160530973674
         ],
         "showlegend": true,
         "subplot": "polar",
         "theta": [
          "recall",
          "specificity",
          "precision",
          "BAC",
          "F1",
          "Gmean",
          "recall"
         ],
         "type": "scatterpolar"
        },
        {
         "hovertemplate": "group=ONSBoost<br>value=%{r}<br>variable=%{theta}<extra></extra>",
         "legendgroup": "ONSBoost",
         "line": {
          "color": "#EF553B",
          "dash": "dot"
         },
         "marker": {
          "symbol": "circle"
         },
         "mode": "lines",
         "name": "ONSBoost",
         "r": [
          0.825676751828374,
          0.8281701515757547,
          0.8456929827561922,
          0.8269234517020644,
          0.8302965399357533,
          0.8087007271912146,
          0.825676751828374
         ],
         "showlegend": true,
         "subplot": "polar",
         "theta": [
          "recall",
          "specificity",
          "precision",
          "BAC",
          "F1",
          "Gmean",
          "recall"
         ],
         "type": "scatterpolar"
        },
        {
         "hovertemplate": "group=OOB<br>value=%{r}<br>variable=%{theta}<extra></extra>",
         "legendgroup": "OOB",
         "line": {
          "color": "#00cc96",
          "dash": "dash"
         },
         "marker": {
          "symbol": "circle"
         },
         "mode": "lines",
         "name": "OOB",
         "r": [
          0.8503812752170855,
          0.8465304074760466,
          0.7678365241465324,
          0.8484558413465659,
          0.7900719443801232,
          0.8462506778042892,
          0.8503812752170855
         ],
         "showlegend": true,
         "subplot": "polar",
         "theta": [
          "recall",
          "specificity",
          "precision",
          "BAC",
          "F1",
          "Gmean",
          "recall"
         ],
         "type": "scatterpolar"
        },
        {
         "hovertemplate": "group=OnlineBoosting<br>value=%{r}<br>variable=%{theta}<extra></extra>",
         "legendgroup": "OnlineBoosting",
         "line": {
          "color": "#ab63fa",
          "dash": "longdash"
         },
         "marker": {
          "symbol": "circle"
         },
         "mode": "lines",
         "name": "OnlineBoosting",
         "r": [
          0.8524998142725527,
          0.8130637738106439,
          0.8156255113682084,
          0.8327817940415982,
          0.8259852460520053,
          0.8176689607795844,
          0.8524998142725527
         ],
         "showlegend": true,
         "subplot": "polar",
         "theta": [
          "recall",
          "specificity",
          "precision",
          "BAC",
          "F1",
          "Gmean",
          "recall"
         ],
         "type": "scatterpolar"
        },
        {
         "hovertemplate": "group=UOB<br>value=%{r}<br>variable=%{theta}<extra></extra>",
         "legendgroup": "UOB",
         "line": {
          "color": "#FFA15A",
          "dash": "dashdot"
         },
         "marker": {
          "symbol": "circle"
         },
         "mode": "lines",
         "name": "UOB",
         "r": [
          0.8590957940192079,
          0.8372237882956398,
          0.7551226351012236,
          0.8481597911574239,
          0.78321106500472,
          0.8462623939531924,
          0.8590957940192079
         ],
         "showlegend": true,
         "subplot": "polar",
         "theta": [
          "recall",
          "specificity",
          "precision",
          "BAC",
          "F1",
          "Gmean",
          "recall"
         ],
         "type": "scatterpolar"
        }
       ],
       "layout": {
        "template": {
         "data": {
          "histogram2dcontour": [
           {
            "type": "histogram2dcontour",
            "colorbar": {
             "outlinewidth": 0,
             "ticks": ""
            },
            "colorscale": [
             [
              0.0,
              "#0d0887"
             ],
             [
              0.1111111111111111,
              "#46039f"
             ],
             [
              0.2222222222222222,
              "#7201a8"
             ],
             [
              0.3333333333333333,
              "#9c179e"
             ],
             [
              0.4444444444444444,
              "#bd3786"
             ],
             [
              0.5555555555555556,
              "#d8576b"
             ],
             [
              0.6666666666666666,
              "#ed7953"
             ],
             [
              0.7777777777777778,
              "#fb9f3a"
             ],
             [
              0.8888888888888888,
              "#fdca26"
             ],
             [
              1.0,
              "#f0f921"
             ]
            ]
           }
          ],
          "choropleth": [
           {
            "type": "choropleth",
            "colorbar": {
             "outlinewidth": 0,
             "ticks": ""
            }
           }
          ],
          "histogram2d": [
           {
            "type": "histogram2d",
            "colorbar": {
             "outlinewidth": 0,
             "ticks": ""
            },
            "colorscale": [
             [
              0.0,
              "#0d0887"
             ],
             [
              0.1111111111111111,
              "#46039f"
             ],
             [
              0.2222222222222222,
              "#7201a8"
             ],
             [
              0.3333333333333333,
              "#9c179e"
             ],
             [
              0.4444444444444444,
              "#bd3786"
             ],
             [
              0.5555555555555556,
              "#d8576b"
             ],
             [
              0.6666666666666666,
              "#ed7953"
             ],
             [
              0.7777777777777778,
              "#fb9f3a"
             ],
             [
              0.8888888888888888,
              "#fdca26"
             ],
             [
              1.0,
              "#f0f921"
             ]
            ]
           }
          ],
          "heatmap": [
           {
            "type": "heatmap",
            "colorbar": {
             "outlinewidth": 0,
             "ticks": ""
            },
            "colorscale": [
             [
              0.0,
              "#0d0887"
             ],
             [
              0.1111111111111111,
              "#46039f"
             ],
             [
              0.2222222222222222,
              "#7201a8"
             ],
             [
              0.3333333333333333,
              "#9c179e"
             ],
             [
              0.4444444444444444,
              "#bd3786"
             ],
             [
              0.5555555555555556,
              "#d8576b"
             ],
             [
              0.6666666666666666,
              "#ed7953"
             ],
             [
              0.7777777777777778,
              "#fb9f3a"
             ],
             [
              0.8888888888888888,
              "#fdca26"
             ],
             [
              1.0,
              "#f0f921"
             ]
            ]
           }
          ],
          "heatmapgl": [
           {
            "type": "heatmapgl",
            "colorbar": {
             "outlinewidth": 0,
             "ticks": ""
            },
            "colorscale": [
             [
              0.0,
              "#0d0887"
             ],
             [
              0.1111111111111111,
              "#46039f"
             ],
             [
              0.2222222222222222,
              "#7201a8"
             ],
             [
              0.3333333333333333,
              "#9c179e"
             ],
             [
              0.4444444444444444,
              "#bd3786"
             ],
             [
              0.5555555555555556,
              "#d8576b"
             ],
             [
              0.6666666666666666,
              "#ed7953"
             ],
             [
              0.7777777777777778,
              "#fb9f3a"
             ],
             [
              0.8888888888888888,
              "#fdca26"
             ],
             [
              1.0,
              "#f0f921"
             ]
            ]
           }
          ],
          "contourcarpet": [
           {
            "type": "contourcarpet",
            "colorbar": {
             "outlinewidth": 0,
             "ticks": ""
            }
           }
          ],
          "contour": [
           {
            "type": "contour",
            "colorbar": {
             "outlinewidth": 0,
             "ticks": ""
            },
            "colorscale": [
             [
              0.0,
              "#0d0887"
             ],
             [
              0.1111111111111111,
              "#46039f"
             ],
             [
              0.2222222222222222,
              "#7201a8"
             ],
             [
              0.3333333333333333,
              "#9c179e"
             ],
             [
              0.4444444444444444,
              "#bd3786"
             ],
             [
              0.5555555555555556,
              "#d8576b"
             ],
             [
              0.6666666666666666,
              "#ed7953"
             ],
             [
              0.7777777777777778,
              "#fb9f3a"
             ],
             [
              0.8888888888888888,
              "#fdca26"
             ],
             [
              1.0,
              "#f0f921"
             ]
            ]
           }
          ],
          "surface": [
           {
            "type": "surface",
            "colorbar": {
             "outlinewidth": 0,
             "ticks": ""
            },
            "colorscale": [
             [
              0.0,
              "#0d0887"
             ],
             [
              0.1111111111111111,
              "#46039f"
             ],
             [
              0.2222222222222222,
              "#7201a8"
             ],
             [
              0.3333333333333333,
              "#9c179e"
             ],
             [
              0.4444444444444444,
              "#bd3786"
             ],
             [
              0.5555555555555556,
              "#d8576b"
             ],
             [
              0.6666666666666666,
              "#ed7953"
             ],
             [
              0.7777777777777778,
              "#fb9f3a"
             ],
             [
              0.8888888888888888,
              "#fdca26"
             ],
             [
              1.0,
              "#f0f921"
             ]
            ]
           }
          ],
          "mesh3d": [
           {
            "type": "mesh3d",
            "colorbar": {
             "outlinewidth": 0,
             "ticks": ""
            }
           }
          ],
          "scatter": [
           {
            "fillpattern": {
             "fillmode": "overlay",
             "size": 10,
             "solidity": 0.2
            },
            "type": "scatter"
           }
          ],
          "parcoords": [
           {
            "type": "parcoords",
            "line": {
             "colorbar": {
              "outlinewidth": 0,
              "ticks": ""
             }
            }
           }
          ],
          "scatterpolargl": [
           {
            "type": "scatterpolargl",
            "marker": {
             "colorbar": {
              "outlinewidth": 0,
              "ticks": ""
             }
            }
           }
          ],
          "bar": [
           {
            "error_x": {
             "color": "#2a3f5f"
            },
            "error_y": {
             "color": "#2a3f5f"
            },
            "marker": {
             "line": {
              "color": "#E5ECF6",
              "width": 0.5
             },
             "pattern": {
              "fillmode": "overlay",
              "size": 10,
              "solidity": 0.2
             }
            },
            "type": "bar"
           }
          ],
          "scattergeo": [
           {
            "type": "scattergeo",
            "marker": {
             "colorbar": {
              "outlinewidth": 0,
              "ticks": ""
             }
            }
           }
          ],
          "scatterpolar": [
           {
            "type": "scatterpolar",
            "marker": {
             "colorbar": {
              "outlinewidth": 0,
              "ticks": ""
             }
            }
           }
          ],
          "histogram": [
           {
            "marker": {
             "pattern": {
              "fillmode": "overlay",
              "size": 10,
              "solidity": 0.2
             }
            },
            "type": "histogram"
           }
          ],
          "scattergl": [
           {
            "type": "scattergl",
            "marker": {
             "colorbar": {
              "outlinewidth": 0,
              "ticks": ""
             }
            }
           }
          ],
          "scatter3d": [
           {
            "type": "scatter3d",
            "line": {
             "colorbar": {
              "outlinewidth": 0,
              "ticks": ""
             }
            },
            "marker": {
             "colorbar": {
              "outlinewidth": 0,
              "ticks": ""
             }
            }
           }
          ],
          "scattermapbox": [
           {
            "type": "scattermapbox",
            "marker": {
             "colorbar": {
              "outlinewidth": 0,
              "ticks": ""
             }
            }
           }
          ],
          "scatterternary": [
           {
            "type": "scatterternary",
            "marker": {
             "colorbar": {
              "outlinewidth": 0,
              "ticks": ""
             }
            }
           }
          ],
          "scattercarpet": [
           {
            "type": "scattercarpet",
            "marker": {
             "colorbar": {
              "outlinewidth": 0,
              "ticks": ""
             }
            }
           }
          ],
          "carpet": [
           {
            "aaxis": {
             "endlinecolor": "#2a3f5f",
             "gridcolor": "white",
             "linecolor": "white",
             "minorgridcolor": "white",
             "startlinecolor": "#2a3f5f"
            },
            "baxis": {
             "endlinecolor": "#2a3f5f",
             "gridcolor": "white",
             "linecolor": "white",
             "minorgridcolor": "white",
             "startlinecolor": "#2a3f5f"
            },
            "type": "carpet"
           }
          ],
          "table": [
           {
            "cells": {
             "fill": {
              "color": "#EBF0F8"
             },
             "line": {
              "color": "white"
             }
            },
            "header": {
             "fill": {
              "color": "#C8D4E3"
             },
             "line": {
              "color": "white"
             }
            },
            "type": "table"
           }
          ],
          "barpolar": [
           {
            "marker": {
             "line": {
              "color": "#E5ECF6",
              "width": 0.5
             },
             "pattern": {
              "fillmode": "overlay",
              "size": 10,
              "solidity": 0.2
             }
            },
            "type": "barpolar"
           }
          ],
          "pie": [
           {
            "automargin": true,
            "type": "pie"
           }
          ]
         },
         "layout": {
          "autotypenumbers": "strict",
          "colorway": [
           "#636efa",
           "#EF553B",
           "#00cc96",
           "#ab63fa",
           "#FFA15A",
           "#19d3f3",
           "#FF6692",
           "#B6E880",
           "#FF97FF",
           "#FECB52"
          ],
          "font": {
           "color": "#2a3f5f"
          },
          "hovermode": "closest",
          "hoverlabel": {
           "align": "left"
          },
          "paper_bgcolor": "white",
          "plot_bgcolor": "#E5ECF6",
          "polar": {
           "bgcolor": "#E5ECF6",
           "angularaxis": {
            "gridcolor": "white",
            "linecolor": "white",
            "ticks": ""
           },
           "radialaxis": {
            "gridcolor": "white",
            "linecolor": "white",
            "ticks": ""
           }
          },
          "ternary": {
           "bgcolor": "#E5ECF6",
           "aaxis": {
            "gridcolor": "white",
            "linecolor": "white",
            "ticks": ""
           },
           "baxis": {
            "gridcolor": "white",
            "linecolor": "white",
            "ticks": ""
           },
           "caxis": {
            "gridcolor": "white",
            "linecolor": "white",
            "ticks": ""
           }
          },
          "coloraxis": {
           "colorbar": {
            "outlinewidth": 0,
            "ticks": ""
           }
          },
          "colorscale": {
           "sequential": [
            [
             0.0,
             "#0d0887"
            ],
            [
             0.1111111111111111,
             "#46039f"
            ],
            [
             0.2222222222222222,
             "#7201a8"
            ],
            [
             0.3333333333333333,
             "#9c179e"
            ],
            [
             0.4444444444444444,
             "#bd3786"
            ],
            [
             0.5555555555555556,
             "#d8576b"
            ],
            [
             0.6666666666666666,
             "#ed7953"
            ],
            [
             0.7777777777777778,
             "#fb9f3a"
            ],
            [
             0.8888888888888888,
             "#fdca26"
            ],
            [
             1.0,
             "#f0f921"
            ]
           ],
           "sequentialminus": [
            [
             0.0,
             "#0d0887"
            ],
            [
             0.1111111111111111,
             "#46039f"
            ],
            [
             0.2222222222222222,
             "#7201a8"
            ],
            [
             0.3333333333333333,
             "#9c179e"
            ],
            [
             0.4444444444444444,
             "#bd3786"
            ],
            [
             0.5555555555555556,
             "#d8576b"
            ],
            [
             0.6666666666666666,
             "#ed7953"
            ],
            [
             0.7777777777777778,
             "#fb9f3a"
            ],
            [
             0.8888888888888888,
             "#fdca26"
            ],
            [
             1.0,
             "#f0f921"
            ]
           ],
           "diverging": [
            [
             0,
             "#8e0152"
            ],
            [
             0.1,
             "#c51b7d"
            ],
            [
             0.2,
             "#de77ae"
            ],
            [
             0.3,
             "#f1b6da"
            ],
            [
             0.4,
             "#fde0ef"
            ],
            [
             0.5,
             "#f7f7f7"
            ],
            [
             0.6,
             "#e6f5d0"
            ],
            [
             0.7,
             "#b8e186"
            ],
            [
             0.8,
             "#7fbc41"
            ],
            [
             0.9,
             "#4d9221"
            ],
            [
             1,
             "#276419"
            ]
           ]
          },
          "xaxis": {
           "gridcolor": "white",
           "linecolor": "white",
           "ticks": "",
           "title": {
            "standoff": 15
           },
           "zerolinecolor": "white",
           "automargin": true,
           "zerolinewidth": 2
          },
          "yaxis": {
           "gridcolor": "white",
           "linecolor": "white",
           "ticks": "",
           "title": {
            "standoff": 15
           },
           "zerolinecolor": "white",
           "automargin": true,
           "zerolinewidth": 2
          },
          "scene": {
           "xaxis": {
            "backgroundcolor": "#E5ECF6",
            "gridcolor": "white",
            "linecolor": "white",
            "showbackground": true,
            "ticks": "",
            "zerolinecolor": "white",
            "gridwidth": 2
           },
           "yaxis": {
            "backgroundcolor": "#E5ECF6",
            "gridcolor": "white",
            "linecolor": "white",
            "showbackground": true,
            "ticks": "",
            "zerolinecolor": "white",
            "gridwidth": 2
           },
           "zaxis": {
            "backgroundcolor": "#E5ECF6",
            "gridcolor": "white",
            "linecolor": "white",
            "showbackground": true,
            "ticks": "",
            "zerolinecolor": "white",
            "gridwidth": 2
           }
          },
          "shapedefaults": {
           "line": {
            "color": "#2a3f5f"
           }
          },
          "annotationdefaults": {
           "arrowcolor": "#2a3f5f",
           "arrowhead": 0,
           "arrowwidth": 1
          },
          "geo": {
           "bgcolor": "white",
           "landcolor": "#E5ECF6",
           "subunitcolor": "white",
           "showland": true,
           "showlakes": true,
           "lakecolor": "white"
          },
          "title": {
           "x": 0.05
          },
          "mapbox": {
           "style": "light"
          }
         }
        },
        "polar": {
         "domain": {
          "x": [
           0.0,
           1.0
          ],
          "y": [
           0.0,
           1.0
          ]
         },
         "angularaxis": {
          "direction": "clockwise",
          "rotation": 90
         },
         "radialaxis": {
          "range": [
           0.7,
           0.9
          ]
         }
        },
        "legend": {
         "title": {},
         "tracegroupgap": 0,
         "orientation": "h",
         "entrywidthmode": "pixels",
         "itemwidth": 30,
         "entrywidth": 180
        },
        "title": {
         "text": "GaussianNB / CDI1",
         "x": 0.5
        },
        "height": 400,
        "width": 500
       },
       "config": {
        "plotlyServerURL": "https://plot.ly"
       }
      },
      "text/html": "<div>                            <div id=\"a2a52779-6054-433d-a7b4-f69bc689c239\" class=\"plotly-graph-div\" style=\"height:400px; width:500px;\"></div>            <script type=\"text/javascript\">                require([\"plotly\"], function(Plotly) {                    window.PLOTLYENV=window.PLOTLYENV || {};                                    if (document.getElementById(\"a2a52779-6054-433d-a7b4-f69bc689c239\")) {                    Plotly.newPlot(                        \"a2a52779-6054-433d-a7b4-f69bc689c239\",                        [{\"hovertemplate\":\"group=OB\\u003cbr\\u003evalue=%{r}\\u003cbr\\u003evariable=%{theta}\\u003cextra\\u003e\\u003c\\u002fextra\\u003e\",\"legendgroup\":\"OB\",\"line\":{\"color\":\"#636efa\",\"dash\":\"solid\"},\"marker\":{\"symbol\":\"circle\"},\"mode\":\"lines\",\"name\":\"OB\",\"r\":[0.8216160530973674,0.8609166091815534,0.7945854261370717,0.8412663311394605,0.7925995927944588,0.8362402035477043,0.8216160530973674],\"showlegend\":true,\"subplot\":\"polar\",\"theta\":[\"recall\",\"specificity\",\"precision\",\"BAC\",\"F1\",\"Gmean\",\"recall\"],\"type\":\"scatterpolar\"},{\"hovertemplate\":\"group=ONSBoost\\u003cbr\\u003evalue=%{r}\\u003cbr\\u003evariable=%{theta}\\u003cextra\\u003e\\u003c\\u002fextra\\u003e\",\"legendgroup\":\"ONSBoost\",\"line\":{\"color\":\"#EF553B\",\"dash\":\"dot\"},\"marker\":{\"symbol\":\"circle\"},\"mode\":\"lines\",\"name\":\"ONSBoost\",\"r\":[0.825676751828374,0.8281701515757547,0.8456929827561922,0.8269234517020644,0.8302965399357533,0.8087007271912146,0.825676751828374],\"showlegend\":true,\"subplot\":\"polar\",\"theta\":[\"recall\",\"specificity\",\"precision\",\"BAC\",\"F1\",\"Gmean\",\"recall\"],\"type\":\"scatterpolar\"},{\"hovertemplate\":\"group=OOB\\u003cbr\\u003evalue=%{r}\\u003cbr\\u003evariable=%{theta}\\u003cextra\\u003e\\u003c\\u002fextra\\u003e\",\"legendgroup\":\"OOB\",\"line\":{\"color\":\"#00cc96\",\"dash\":\"dash\"},\"marker\":{\"symbol\":\"circle\"},\"mode\":\"lines\",\"name\":\"OOB\",\"r\":[0.8503812752170855,0.8465304074760466,0.7678365241465324,0.8484558413465659,0.7900719443801232,0.8462506778042892,0.8503812752170855],\"showlegend\":true,\"subplot\":\"polar\",\"theta\":[\"recall\",\"specificity\",\"precision\",\"BAC\",\"F1\",\"Gmean\",\"recall\"],\"type\":\"scatterpolar\"},{\"hovertemplate\":\"group=OnlineBoosting\\u003cbr\\u003evalue=%{r}\\u003cbr\\u003evariable=%{theta}\\u003cextra\\u003e\\u003c\\u002fextra\\u003e\",\"legendgroup\":\"OnlineBoosting\",\"line\":{\"color\":\"#ab63fa\",\"dash\":\"longdash\"},\"marker\":{\"symbol\":\"circle\"},\"mode\":\"lines\",\"name\":\"OnlineBoosting\",\"r\":[0.8524998142725527,0.8130637738106439,0.8156255113682084,0.8327817940415982,0.8259852460520053,0.8176689607795844,0.8524998142725527],\"showlegend\":true,\"subplot\":\"polar\",\"theta\":[\"recall\",\"specificity\",\"precision\",\"BAC\",\"F1\",\"Gmean\",\"recall\"],\"type\":\"scatterpolar\"},{\"hovertemplate\":\"group=UOB\\u003cbr\\u003evalue=%{r}\\u003cbr\\u003evariable=%{theta}\\u003cextra\\u003e\\u003c\\u002fextra\\u003e\",\"legendgroup\":\"UOB\",\"line\":{\"color\":\"#FFA15A\",\"dash\":\"dashdot\"},\"marker\":{\"symbol\":\"circle\"},\"mode\":\"lines\",\"name\":\"UOB\",\"r\":[0.8590957940192079,0.8372237882956398,0.7551226351012236,0.8481597911574239,0.78321106500472,0.8462623939531924,0.8590957940192079],\"showlegend\":true,\"subplot\":\"polar\",\"theta\":[\"recall\",\"specificity\",\"precision\",\"BAC\",\"F1\",\"Gmean\",\"recall\"],\"type\":\"scatterpolar\"}],                        {\"template\":{\"data\":{\"histogram2dcontour\":[{\"type\":\"histogram2dcontour\",\"colorbar\":{\"outlinewidth\":0,\"ticks\":\"\"},\"colorscale\":[[0.0,\"#0d0887\"],[0.1111111111111111,\"#46039f\"],[0.2222222222222222,\"#7201a8\"],[0.3333333333333333,\"#9c179e\"],[0.4444444444444444,\"#bd3786\"],[0.5555555555555556,\"#d8576b\"],[0.6666666666666666,\"#ed7953\"],[0.7777777777777778,\"#fb9f3a\"],[0.8888888888888888,\"#fdca26\"],[1.0,\"#f0f921\"]]}],\"choropleth\":[{\"type\":\"choropleth\",\"colorbar\":{\"outlinewidth\":0,\"ticks\":\"\"}}],\"histogram2d\":[{\"type\":\"histogram2d\",\"colorbar\":{\"outlinewidth\":0,\"ticks\":\"\"},\"colorscale\":[[0.0,\"#0d0887\"],[0.1111111111111111,\"#46039f\"],[0.2222222222222222,\"#7201a8\"],[0.3333333333333333,\"#9c179e\"],[0.4444444444444444,\"#bd3786\"],[0.5555555555555556,\"#d8576b\"],[0.6666666666666666,\"#ed7953\"],[0.7777777777777778,\"#fb9f3a\"],[0.8888888888888888,\"#fdca26\"],[1.0,\"#f0f921\"]]}],\"heatmap\":[{\"type\":\"heatmap\",\"colorbar\":{\"outlinewidth\":0,\"ticks\":\"\"},\"colorscale\":[[0.0,\"#0d0887\"],[0.1111111111111111,\"#46039f\"],[0.2222222222222222,\"#7201a8\"],[0.3333333333333333,\"#9c179e\"],[0.4444444444444444,\"#bd3786\"],[0.5555555555555556,\"#d8576b\"],[0.6666666666666666,\"#ed7953\"],[0.7777777777777778,\"#fb9f3a\"],[0.8888888888888888,\"#fdca26\"],[1.0,\"#f0f921\"]]}],\"heatmapgl\":[{\"type\":\"heatmapgl\",\"colorbar\":{\"outlinewidth\":0,\"ticks\":\"\"},\"colorscale\":[[0.0,\"#0d0887\"],[0.1111111111111111,\"#46039f\"],[0.2222222222222222,\"#7201a8\"],[0.3333333333333333,\"#9c179e\"],[0.4444444444444444,\"#bd3786\"],[0.5555555555555556,\"#d8576b\"],[0.6666666666666666,\"#ed7953\"],[0.7777777777777778,\"#fb9f3a\"],[0.8888888888888888,\"#fdca26\"],[1.0,\"#f0f921\"]]}],\"contourcarpet\":[{\"type\":\"contourcarpet\",\"colorbar\":{\"outlinewidth\":0,\"ticks\":\"\"}}],\"contour\":[{\"type\":\"contour\",\"colorbar\":{\"outlinewidth\":0,\"ticks\":\"\"},\"colorscale\":[[0.0,\"#0d0887\"],[0.1111111111111111,\"#46039f\"],[0.2222222222222222,\"#7201a8\"],[0.3333333333333333,\"#9c179e\"],[0.4444444444444444,\"#bd3786\"],[0.5555555555555556,\"#d8576b\"],[0.6666666666666666,\"#ed7953\"],[0.7777777777777778,\"#fb9f3a\"],[0.8888888888888888,\"#fdca26\"],[1.0,\"#f0f921\"]]}],\"surface\":[{\"type\":\"surface\",\"colorbar\":{\"outlinewidth\":0,\"ticks\":\"\"},\"colorscale\":[[0.0,\"#0d0887\"],[0.1111111111111111,\"#46039f\"],[0.2222222222222222,\"#7201a8\"],[0.3333333333333333,\"#9c179e\"],[0.4444444444444444,\"#bd3786\"],[0.5555555555555556,\"#d8576b\"],[0.6666666666666666,\"#ed7953\"],[0.7777777777777778,\"#fb9f3a\"],[0.8888888888888888,\"#fdca26\"],[1.0,\"#f0f921\"]]}],\"mesh3d\":[{\"type\":\"mesh3d\",\"colorbar\":{\"outlinewidth\":0,\"ticks\":\"\"}}],\"scatter\":[{\"fillpattern\":{\"fillmode\":\"overlay\",\"size\":10,\"solidity\":0.2},\"type\":\"scatter\"}],\"parcoords\":[{\"type\":\"parcoords\",\"line\":{\"colorbar\":{\"outlinewidth\":0,\"ticks\":\"\"}}}],\"scatterpolargl\":[{\"type\":\"scatterpolargl\",\"marker\":{\"colorbar\":{\"outlinewidth\":0,\"ticks\":\"\"}}}],\"bar\":[{\"error_x\":{\"color\":\"#2a3f5f\"},\"error_y\":{\"color\":\"#2a3f5f\"},\"marker\":{\"line\":{\"color\":\"#E5ECF6\",\"width\":0.5},\"pattern\":{\"fillmode\":\"overlay\",\"size\":10,\"solidity\":0.2}},\"type\":\"bar\"}],\"scattergeo\":[{\"type\":\"scattergeo\",\"marker\":{\"colorbar\":{\"outlinewidth\":0,\"ticks\":\"\"}}}],\"scatterpolar\":[{\"type\":\"scatterpolar\",\"marker\":{\"colorbar\":{\"outlinewidth\":0,\"ticks\":\"\"}}}],\"histogram\":[{\"marker\":{\"pattern\":{\"fillmode\":\"overlay\",\"size\":10,\"solidity\":0.2}},\"type\":\"histogram\"}],\"scattergl\":[{\"type\":\"scattergl\",\"marker\":{\"colorbar\":{\"outlinewidth\":0,\"ticks\":\"\"}}}],\"scatter3d\":[{\"type\":\"scatter3d\",\"line\":{\"colorbar\":{\"outlinewidth\":0,\"ticks\":\"\"}},\"marker\":{\"colorbar\":{\"outlinewidth\":0,\"ticks\":\"\"}}}],\"scattermapbox\":[{\"type\":\"scattermapbox\",\"marker\":{\"colorbar\":{\"outlinewidth\":0,\"ticks\":\"\"}}}],\"scatterternary\":[{\"type\":\"scatterternary\",\"marker\":{\"colorbar\":{\"outlinewidth\":0,\"ticks\":\"\"}}}],\"scattercarpet\":[{\"type\":\"scattercarpet\",\"marker\":{\"colorbar\":{\"outlinewidth\":0,\"ticks\":\"\"}}}],\"carpet\":[{\"aaxis\":{\"endlinecolor\":\"#2a3f5f\",\"gridcolor\":\"white\",\"linecolor\":\"white\",\"minorgridcolor\":\"white\",\"startlinecolor\":\"#2a3f5f\"},\"baxis\":{\"endlinecolor\":\"#2a3f5f\",\"gridcolor\":\"white\",\"linecolor\":\"white\",\"minorgridcolor\":\"white\",\"startlinecolor\":\"#2a3f5f\"},\"type\":\"carpet\"}],\"table\":[{\"cells\":{\"fill\":{\"color\":\"#EBF0F8\"},\"line\":{\"color\":\"white\"}},\"header\":{\"fill\":{\"color\":\"#C8D4E3\"},\"line\":{\"color\":\"white\"}},\"type\":\"table\"}],\"barpolar\":[{\"marker\":{\"line\":{\"color\":\"#E5ECF6\",\"width\":0.5},\"pattern\":{\"fillmode\":\"overlay\",\"size\":10,\"solidity\":0.2}},\"type\":\"barpolar\"}],\"pie\":[{\"automargin\":true,\"type\":\"pie\"}]},\"layout\":{\"autotypenumbers\":\"strict\",\"colorway\":[\"#636efa\",\"#EF553B\",\"#00cc96\",\"#ab63fa\",\"#FFA15A\",\"#19d3f3\",\"#FF6692\",\"#B6E880\",\"#FF97FF\",\"#FECB52\"],\"font\":{\"color\":\"#2a3f5f\"},\"hovermode\":\"closest\",\"hoverlabel\":{\"align\":\"left\"},\"paper_bgcolor\":\"white\",\"plot_bgcolor\":\"#E5ECF6\",\"polar\":{\"bgcolor\":\"#E5ECF6\",\"angularaxis\":{\"gridcolor\":\"white\",\"linecolor\":\"white\",\"ticks\":\"\"},\"radialaxis\":{\"gridcolor\":\"white\",\"linecolor\":\"white\",\"ticks\":\"\"}},\"ternary\":{\"bgcolor\":\"#E5ECF6\",\"aaxis\":{\"gridcolor\":\"white\",\"linecolor\":\"white\",\"ticks\":\"\"},\"baxis\":{\"gridcolor\":\"white\",\"linecolor\":\"white\",\"ticks\":\"\"},\"caxis\":{\"gridcolor\":\"white\",\"linecolor\":\"white\",\"ticks\":\"\"}},\"coloraxis\":{\"colorbar\":{\"outlinewidth\":0,\"ticks\":\"\"}},\"colorscale\":{\"sequential\":[[0.0,\"#0d0887\"],[0.1111111111111111,\"#46039f\"],[0.2222222222222222,\"#7201a8\"],[0.3333333333333333,\"#9c179e\"],[0.4444444444444444,\"#bd3786\"],[0.5555555555555556,\"#d8576b\"],[0.6666666666666666,\"#ed7953\"],[0.7777777777777778,\"#fb9f3a\"],[0.8888888888888888,\"#fdca26\"],[1.0,\"#f0f921\"]],\"sequentialminus\":[[0.0,\"#0d0887\"],[0.1111111111111111,\"#46039f\"],[0.2222222222222222,\"#7201a8\"],[0.3333333333333333,\"#9c179e\"],[0.4444444444444444,\"#bd3786\"],[0.5555555555555556,\"#d8576b\"],[0.6666666666666666,\"#ed7953\"],[0.7777777777777778,\"#fb9f3a\"],[0.8888888888888888,\"#fdca26\"],[1.0,\"#f0f921\"]],\"diverging\":[[0,\"#8e0152\"],[0.1,\"#c51b7d\"],[0.2,\"#de77ae\"],[0.3,\"#f1b6da\"],[0.4,\"#fde0ef\"],[0.5,\"#f7f7f7\"],[0.6,\"#e6f5d0\"],[0.7,\"#b8e186\"],[0.8,\"#7fbc41\"],[0.9,\"#4d9221\"],[1,\"#276419\"]]},\"xaxis\":{\"gridcolor\":\"white\",\"linecolor\":\"white\",\"ticks\":\"\",\"title\":{\"standoff\":15},\"zerolinecolor\":\"white\",\"automargin\":true,\"zerolinewidth\":2},\"yaxis\":{\"gridcolor\":\"white\",\"linecolor\":\"white\",\"ticks\":\"\",\"title\":{\"standoff\":15},\"zerolinecolor\":\"white\",\"automargin\":true,\"zerolinewidth\":2},\"scene\":{\"xaxis\":{\"backgroundcolor\":\"#E5ECF6\",\"gridcolor\":\"white\",\"linecolor\":\"white\",\"showbackground\":true,\"ticks\":\"\",\"zerolinecolor\":\"white\",\"gridwidth\":2},\"yaxis\":{\"backgroundcolor\":\"#E5ECF6\",\"gridcolor\":\"white\",\"linecolor\":\"white\",\"showbackground\":true,\"ticks\":\"\",\"zerolinecolor\":\"white\",\"gridwidth\":2},\"zaxis\":{\"backgroundcolor\":\"#E5ECF6\",\"gridcolor\":\"white\",\"linecolor\":\"white\",\"showbackground\":true,\"ticks\":\"\",\"zerolinecolor\":\"white\",\"gridwidth\":2}},\"shapedefaults\":{\"line\":{\"color\":\"#2a3f5f\"}},\"annotationdefaults\":{\"arrowcolor\":\"#2a3f5f\",\"arrowhead\":0,\"arrowwidth\":1},\"geo\":{\"bgcolor\":\"white\",\"landcolor\":\"#E5ECF6\",\"subunitcolor\":\"white\",\"showland\":true,\"showlakes\":true,\"lakecolor\":\"white\"},\"title\":{\"x\":0.05},\"mapbox\":{\"style\":\"light\"}}},\"polar\":{\"domain\":{\"x\":[0.0,1.0],\"y\":[0.0,1.0]},\"angularaxis\":{\"direction\":\"clockwise\",\"rotation\":90},\"radialaxis\":{\"range\":[0.7,0.9]}},\"legend\":{\"title\":{},\"tracegroupgap\":0,\"orientation\":\"h\",\"entrywidthmode\":\"pixels\",\"itemwidth\":30,\"entrywidth\":180},\"title\":{\"text\":\"GaussianNB \\u002f CDI1\",\"x\":0.5},\"height\":400,\"width\":500},                        {\"responsive\": true}                    ).then(function(){\n                            \nvar gd = document.getElementById('a2a52779-6054-433d-a7b4-f69bc689c239');\nvar x = new MutationObserver(function (mutations, observer) {{\n        var display = window.getComputedStyle(gd).display;\n        if (!display || display === 'none') {{\n            console.log([gd, 'removed!']);\n            Plotly.purge(gd);\n            observer.disconnect();\n        }}\n}});\n\n// Listen for the removal of the full notebook cells\nvar notebookContainer = gd.closest('#notebook-container');\nif (notebookContainer) {{\n    x.observe(notebookContainer, {childList: true});\n}}\n\n// Listen for the clearing of the current output cell\nvar outputEl = gd.closest('.output');\nif (outputEl) {{\n    x.observe(outputEl, {childList: true});\n}}\n\n                        })                };                });            </script>        </div>"
     },
     "metadata": {},
     "output_type": "display_data"
    }
   ],
   "source": [
    "def draw_polar_px(df: pd.DataFrame, base, stream):\n",
    "    _df = df.groupby(by=['base', 'stream', 'ensemble'], group_keys=False).mean()\n",
    "    _df = _df.loc[base, stream].drop(['rst'], axis=1)\n",
    "    _title = f'{base} / {STREAMS_NAMES[stream]}'\n",
    "    _metric_values = []\n",
    "    _metric_names = []\n",
    "    _ensembles = []\n",
    "    for metric_name, scores in _df.to_dict().items():\n",
    "        for ensemble, metric_value in list(sorted(scores.items())):\n",
    "            _metric_values.append(metric_value)\n",
    "            _metric_names.append(METRICS_NAMES_EN[metric_name])\n",
    "            _ensembles.append(ensemble)\n",
    "    _plot_data = pd.DataFrame({'value': _metric_values, 'variable': _metric_names, 'group': _ensembles})\n",
    "    fig = px.line_polar(data_frame=_plot_data, r='value', theta='variable', color='group', line_dash='group',\n",
    "                        line_close=True, range_r=[.7, .9], title=_title, width=500, height=400)\n",
    "    fig.update_layout(legend={ 'orientation': 'h', 'entrywidthmode': 'pixels', 'itemwidth': 30, 'entrywidth': 180 }, legend_title=None, title_x=.5)\n",
    "    return fig\n",
    "\n",
    "\n",
    "draw_polar_px(all_data, 'GaussianNB', 'cdi__w2_4_0,9')"
   ],
   "metadata": {
    "collapsed": false,
    "ExecuteTime": {
     "end_time": "2023-06-19T22:27:16.919592300Z",
     "start_time": "2023-06-19T22:27:16.796693100Z"
    }
   }
  },
  {
   "cell_type": "code",
   "execution_count": 12,
   "outputs": [
    {
     "data": {
      "text/plain": "   value variable\n0      8       V1\n1     12       V2\n2      7       V3\n3     14       V4\n4     10       V5",
      "text/html": "<div>\n<style scoped>\n    .dataframe tbody tr th:only-of-type {\n        vertical-align: middle;\n    }\n\n    .dataframe tbody tr th {\n        vertical-align: top;\n    }\n\n    .dataframe thead th {\n        text-align: right;\n    }\n</style>\n<table border=\"1\" class=\"dataframe\">\n  <thead>\n    <tr style=\"text-align: right;\">\n      <th></th>\n      <th>value</th>\n      <th>variable</th>\n    </tr>\n  </thead>\n  <tbody>\n    <tr>\n      <th>0</th>\n      <td>8</td>\n      <td>V1</td>\n    </tr>\n    <tr>\n      <th>1</th>\n      <td>12</td>\n      <td>V2</td>\n    </tr>\n    <tr>\n      <th>2</th>\n      <td>7</td>\n      <td>V3</td>\n    </tr>\n    <tr>\n      <th>3</th>\n      <td>14</td>\n      <td>V4</td>\n    </tr>\n    <tr>\n      <th>4</th>\n      <td>10</td>\n      <td>V5</td>\n    </tr>\n  </tbody>\n</table>\n</div>"
     },
     "execution_count": 12,
     "metadata": {},
     "output_type": "execute_result"
    }
   ],
   "source": [
    "pd.DataFrame(dict(\n",
    "    value=[8, 12, 7, 14, 10],\n",
    "    variable=['V1', 'V2', 'V3', 'V4', 'V5']))"
   ],
   "metadata": {
    "collapsed": false,
    "ExecuteTime": {
     "end_time": "2023-06-19T21:46:53.671872700Z",
     "start_time": "2023-06-19T21:46:53.608394100Z"
    }
   }
  }
 ],
 "metadata": {
  "kernelspec": {
   "display_name": "Python 3",
   "language": "python",
   "name": "python3"
  },
  "language_info": {
   "codemirror_mode": {
    "name": "ipython",
    "version": 2
   },
   "file_extension": ".py",
   "mimetype": "text/x-python",
   "name": "python",
   "nbconvert_exporter": "python",
   "pygments_lexer": "ipython2",
   "version": "2.7.6"
  }
 },
 "nbformat": 4,
 "nbformat_minor": 0
}
