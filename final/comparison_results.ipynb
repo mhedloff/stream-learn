{
 "cells": [
  {
   "cell_type": "code",
   "execution_count": 371,
   "metadata": {
    "collapsed": true,
    "ExecuteTime": {
     "end_time": "2023-06-23T01:59:27.869280400Z",
     "start_time": "2023-06-23T01:59:27.818408200Z"
    }
   },
   "outputs": [],
   "source": [
    "import os\n",
    "from typing import List, Dict\n",
    "\n",
    "import matplotlib.pyplot as plt\n",
    "import numpy as np\n",
    "import pandas as pd\n",
    "import plotly.express as px\n",
    "\n",
    "WIDTH = 380\n",
    "HEIGHT = 450"
   ]
  },
  {
   "cell_type": "code",
   "execution_count": 393,
   "outputs": [],
   "source": [
    "RESULTS_LOCATION = './comparison_results/'\n",
    "ENSEMBLES = ['ONSBoost', 'OB', 'OnlineBoosting', 'OOB', 'UOB']\n",
    "METRICS = ['recall', 'specificity', 'precision', 'balanced_accuracy_score', 'f1_score', 'geometric_mean_score_1']\n",
    "RST: list[int] = [1000, 100000, 101010, 10110, 101101, 1001, 10101010, 101, 110, 1337]\n",
    "BASE: list[str] = ['GaussianNB', 'SGDClassifier']\n",
    "BASE_SHORT=dict(GaussianNB='GNB', SGDClassifier='SGD')\n",
    "STREAMS: list[str] = ['cdi__w2_4_0,9', 'cdi__w2_5_0,75', 'disco__w2_5_0,9']\n",
    "STREAMS_NAMES: dict[str, str] = {\n",
    "    'cdi__w2_4_0,9': 'CDI1',\n",
    "    'cdi__w2_5_0,75': 'CDI2',\n",
    "    'disco__w2_5_0,9': 'DISCO1'\n",
    "}\n",
    "STREAMS_LATEX: dict[str, str] = {\n",
    "    'cdi__w2_4_0,9': 'CDI\\\\textsubscript{1}',\n",
    "    'cdi__w2_5_0,75': 'CDI\\\\textsubscript{2}',\n",
    "    'disco__w2_5_0,9': 'DISCO\\\\textsubscript{1}'\n",
    "}\n",
    "METRICS_NAMES: dict[str, str] = {\n",
    "    'recall': 'czułość (recall)',\n",
    "    'specificity': 'swoistość (specificity)',\n",
    "    'precision': 'precyzja (precision)',\n",
    "    'balanced_accuracy_score': 'zbalansowana dokładność (BAC)',\n",
    "    'f1_score': 'F1',\n",
    "    'geometric_mean_score_1': 'Gmean'\n",
    "}\n",
    "METRICS_NAMES_EN: dict[str, str] = {\n",
    "    'recall': 'recall',\n",
    "    'specificity': 'specificity',\n",
    "    'precision': 'precision',\n",
    "    'balanced_accuracy_score': 'BAC',\n",
    "    'f1_score': 'F1',\n",
    "    'geometric_mean_score_1': 'Gmean'\n",
    "}\n",
    "METRICS_NAMES_SHORT: dict[str, str] = {\n",
    "    'recall': 'czułość',\n",
    "    'specificity': 'swoistość',\n",
    "    'precision': 'precyzja',\n",
    "    'balanced_accuracy_score': 'BAC',\n",
    "    'f1_score': 'F1',\n",
    "    'geometric_mean_score_1': 'Gmean'\n",
    "}\n",
    "METRIC_SS: dict[str, str] = dict(\n",
    "    recall='TPR',\n",
    "    specificity='TNR',\n",
    "    precision='PPV',\n",
    "    balanced_accuracy_score='BAC',\n",
    "    f1_score='F1',\n",
    "    geometric_mean_score_1='Gmean'\n",
    ")\n",
    "ENSEMBLES_NAMES_SHORT: dict[str, str] = {\n",
    "    'ONSBoost': 'ONS',\n",
    "    'OnlineBoosting': 'OBo',\n",
    "    'OB': 'OBa',\n",
    "    'OOB': 'OOB',\n",
    "    'UOB': 'UOB'\n",
    "}\n",
    "ENAME_RANKS: dict[str, str] = {\n",
    "    'ONSBoost': 'ONS\\\\textsubscript{1}',\n",
    "    'OnlineBoosting': 'OBo\\\\textsubscript{3}',\n",
    "    'OB': 'OBa\\\\textsubscript{2}',\n",
    "    'OOB': 'OOB\\\\textsubscript{4}',\n",
    "    'UOB': 'UOB\\\\textsubscript{5}'\n",
    "}\n",
    "ENAME_RANKS_ORDER = [ENAME_RANKS[name] for name in ENSEMBLES]\n",
    "ENAME_SHORT_ORDER = [ENSEMBLES_NAMES_SHORT[name] for name in ENSEMBLES]\n",
    "METRICS_LATEX = {\n",
    "    'recall': 'TPR',\n",
    "    'specificity': 'TNR',\n",
    "    'precision': 'PPV',\n",
    "    'balanced_accuracy_score': 'BAC',\n",
    "    'f1_score': 'F\\\\textsubscript{1}',\n",
    "    'geometric_mean_score_1': 'G\\\\textsubscipt{mean}'\n",
    "}"
   ],
   "metadata": {
    "collapsed": false,
    "ExecuteTime": {
     "end_time": "2023-06-23T02:05:15.827539100Z",
     "start_time": "2023-06-23T02:05:15.808181700Z"
    }
   }
  },
  {
   "cell_type": "code",
   "execution_count": 373,
   "outputs": [
    {
     "data": {
      "text/plain": "              base   rst           stream        ensemble    recall  \\\n0       GaussianNB  1000    cdi__w2_4_0,9        ONSBoost  0.892209   \n1       GaussianNB  1000    cdi__w2_4_0,9              OB  0.811745   \n2       GaussianNB  1000    cdi__w2_4_0,9  OnlineBoosting  0.885987   \n3       GaussianNB  1000    cdi__w2_4_0,9             OOB  0.853600   \n4       GaussianNB  1000    cdi__w2_4_0,9             UOB  0.867418   \n..             ...   ...              ...             ...       ...   \n295  SGDClassifier  1337  disco__w2_5_0,9        ONSBoost  0.817838   \n296  SGDClassifier  1337  disco__w2_5_0,9              OB  0.840182   \n297  SGDClassifier  1337  disco__w2_5_0,9  OnlineBoosting  0.817117   \n298  SGDClassifier  1337  disco__w2_5_0,9             OOB  0.868140   \n299  SGDClassifier  1337  disco__w2_5_0,9             UOB  0.861983   \n\n     specificity  precision  balanced_accuracy_score  f1_score  \\\n0       0.876253   0.925467                 0.884231  0.906098   \n1       0.886501   0.812915                 0.849123  0.802972   \n2       0.879433   0.912265                 0.882710  0.895734   \n3       0.864099   0.779707                 0.858850  0.798970   \n4       0.852961   0.764479                 0.860190  0.792685   \n..           ...        ...                      ...       ...   \n295     0.792768   0.849088                 0.805303  0.825663   \n296     0.801980   0.884567                 0.821081  0.854779   \n297     0.794560   0.848100                 0.805838  0.824475   \n298     0.846404   0.807871                 0.857272  0.826707   \n299     0.849604   0.776780                 0.855794  0.795359   \n\n     geometric_mean_score_1  \n0                  0.876541  \n1                  0.845808  \n2                  0.875945  \n3                  0.857634  \n4                  0.859246  \n..                      ...  \n295                0.787404  \n296                0.802838  \n297                0.788723  \n298                0.854027  \n299                0.854318  \n\n[300 rows x 10 columns]",
      "text/html": "<div>\n<style scoped>\n    .dataframe tbody tr th:only-of-type {\n        vertical-align: middle;\n    }\n\n    .dataframe tbody tr th {\n        vertical-align: top;\n    }\n\n    .dataframe thead th {\n        text-align: right;\n    }\n</style>\n<table border=\"1\" class=\"dataframe\">\n  <thead>\n    <tr style=\"text-align: right;\">\n      <th></th>\n      <th>base</th>\n      <th>rst</th>\n      <th>stream</th>\n      <th>ensemble</th>\n      <th>recall</th>\n      <th>specificity</th>\n      <th>precision</th>\n      <th>balanced_accuracy_score</th>\n      <th>f1_score</th>\n      <th>geometric_mean_score_1</th>\n    </tr>\n  </thead>\n  <tbody>\n    <tr>\n      <th>0</th>\n      <td>GaussianNB</td>\n      <td>1000</td>\n      <td>cdi__w2_4_0,9</td>\n      <td>ONSBoost</td>\n      <td>0.892209</td>\n      <td>0.876253</td>\n      <td>0.925467</td>\n      <td>0.884231</td>\n      <td>0.906098</td>\n      <td>0.876541</td>\n    </tr>\n    <tr>\n      <th>1</th>\n      <td>GaussianNB</td>\n      <td>1000</td>\n      <td>cdi__w2_4_0,9</td>\n      <td>OB</td>\n      <td>0.811745</td>\n      <td>0.886501</td>\n      <td>0.812915</td>\n      <td>0.849123</td>\n      <td>0.802972</td>\n      <td>0.845808</td>\n    </tr>\n    <tr>\n      <th>2</th>\n      <td>GaussianNB</td>\n      <td>1000</td>\n      <td>cdi__w2_4_0,9</td>\n      <td>OnlineBoosting</td>\n      <td>0.885987</td>\n      <td>0.879433</td>\n      <td>0.912265</td>\n      <td>0.882710</td>\n      <td>0.895734</td>\n      <td>0.875945</td>\n    </tr>\n    <tr>\n      <th>3</th>\n      <td>GaussianNB</td>\n      <td>1000</td>\n      <td>cdi__w2_4_0,9</td>\n      <td>OOB</td>\n      <td>0.853600</td>\n      <td>0.864099</td>\n      <td>0.779707</td>\n      <td>0.858850</td>\n      <td>0.798970</td>\n      <td>0.857634</td>\n    </tr>\n    <tr>\n      <th>4</th>\n      <td>GaussianNB</td>\n      <td>1000</td>\n      <td>cdi__w2_4_0,9</td>\n      <td>UOB</td>\n      <td>0.867418</td>\n      <td>0.852961</td>\n      <td>0.764479</td>\n      <td>0.860190</td>\n      <td>0.792685</td>\n      <td>0.859246</td>\n    </tr>\n    <tr>\n      <th>...</th>\n      <td>...</td>\n      <td>...</td>\n      <td>...</td>\n      <td>...</td>\n      <td>...</td>\n      <td>...</td>\n      <td>...</td>\n      <td>...</td>\n      <td>...</td>\n      <td>...</td>\n    </tr>\n    <tr>\n      <th>295</th>\n      <td>SGDClassifier</td>\n      <td>1337</td>\n      <td>disco__w2_5_0,9</td>\n      <td>ONSBoost</td>\n      <td>0.817838</td>\n      <td>0.792768</td>\n      <td>0.849088</td>\n      <td>0.805303</td>\n      <td>0.825663</td>\n      <td>0.787404</td>\n    </tr>\n    <tr>\n      <th>296</th>\n      <td>SGDClassifier</td>\n      <td>1337</td>\n      <td>disco__w2_5_0,9</td>\n      <td>OB</td>\n      <td>0.840182</td>\n      <td>0.801980</td>\n      <td>0.884567</td>\n      <td>0.821081</td>\n      <td>0.854779</td>\n      <td>0.802838</td>\n    </tr>\n    <tr>\n      <th>297</th>\n      <td>SGDClassifier</td>\n      <td>1337</td>\n      <td>disco__w2_5_0,9</td>\n      <td>OnlineBoosting</td>\n      <td>0.817117</td>\n      <td>0.794560</td>\n      <td>0.848100</td>\n      <td>0.805838</td>\n      <td>0.824475</td>\n      <td>0.788723</td>\n    </tr>\n    <tr>\n      <th>298</th>\n      <td>SGDClassifier</td>\n      <td>1337</td>\n      <td>disco__w2_5_0,9</td>\n      <td>OOB</td>\n      <td>0.868140</td>\n      <td>0.846404</td>\n      <td>0.807871</td>\n      <td>0.857272</td>\n      <td>0.826707</td>\n      <td>0.854027</td>\n    </tr>\n    <tr>\n      <th>299</th>\n      <td>SGDClassifier</td>\n      <td>1337</td>\n      <td>disco__w2_5_0,9</td>\n      <td>UOB</td>\n      <td>0.861983</td>\n      <td>0.849604</td>\n      <td>0.776780</td>\n      <td>0.855794</td>\n      <td>0.795359</td>\n      <td>0.854318</td>\n    </tr>\n  </tbody>\n</table>\n<p>300 rows × 10 columns</p>\n</div>"
     },
     "execution_count": 373,
     "metadata": {},
     "output_type": "execute_result"
    }
   ],
   "source": [
    "def load_all_data(directory: str):\n",
    "    _results_files = [file for file in os.listdir(directory)\n",
    "                      if not os.path.isdir(os.path.join(directory, file))\n",
    "                      and file.startswith('v1')]\n",
    "    _files = [(file, np.load(os.path.abspath(os.path.join(RESULTS_LOCATION, file)))) for file in _results_files]\n",
    "    acc = []\n",
    "    for file, data in _files:\n",
    "        rst = file.split('__RST_')[1].split('.')[0]\n",
    "        stream = file.split('++')[1].split('__NC')[0]\n",
    "        base_clf = file.split('++')[0].split('v1')[1]\n",
    "        for i, ensemble in enumerate(ENSEMBLES):\n",
    "            current = {\n",
    "                'base': base_clf,\n",
    "                'rst': rst,\n",
    "                'stream': stream,\n",
    "                'ensemble': ensemble\n",
    "            }\n",
    "            for j, metric in enumerate(METRICS):\n",
    "                mean = data[i, :, j].mean(axis=0)\n",
    "                current[metric] = mean\n",
    "            acc.append(current)\n",
    "\n",
    "    return pd.DataFrame(acc)\n",
    "\n",
    "\n",
    "all_data = load_all_data(RESULTS_LOCATION)\n",
    "all_data"
   ],
   "metadata": {
    "collapsed": false,
    "ExecuteTime": {
     "end_time": "2023-06-23T01:59:27.945993Z",
     "start_time": "2023-06-23T01:59:27.834280900Z"
    }
   }
  },
  {
   "cell_type": "code",
   "execution_count": 374,
   "outputs": [],
   "source": [
    "def extract_data_for(df: pd.DataFrame, base: str, stream: str, ensemble: str):\n",
    "    return df[(df['base'] == base) & (df['stream'] == stream) & (df['ensemble'] == ensemble)]\n",
    "\n",
    "\n",
    "def draw_boxplot_for(df: pd.DataFrame, base: str, stream: str, metric: str) -> plt.Figure:\n",
    "    fig, ax = plt.subplots()\n",
    "    boxplot_data = np.zeros((len(RST), len(ENSEMBLES))).T\n",
    "    for i, ensemble in enumerate(ENSEMBLES):\n",
    "        ensemble_scores = extract_data_for(df, base, stream, ensemble)\n",
    "        ensemble_scores = ensemble_scores[metric].to_numpy()\n",
    "        boxplot_data[i] = ensemble_scores\n",
    "    ax.boxplot(boxplot_data.T, labels=ENSEMBLES)\n",
    "    ax.set_ylabel(METRICS_NAMES[metric])\n",
    "    ax.set_xlabel('zespół klasyfikatorów')\n",
    "    fig.suptitle(f'{base} / {STREAMS_NAMES[stream]} / {METRICS_NAMES[metric]}')\n",
    "    return fig\n",
    "\n",
    "\n",
    "def draw_all_boxplots(df: pd.DataFrame):\n",
    "    for base in BASE:\n",
    "        for stream in STREAMS:\n",
    "            for metric in METRICS:\n",
    "                # fig = draw_boxplot_for(df, base, stream, metric)\n",
    "                # fig.savefig(f'{base}-{STREAMS_NAMES[stream]}-{metric}.svg')\n",
    "                pass\n",
    "\n",
    "\n",
    "draw_all_boxplots(all_data)"
   ],
   "metadata": {
    "collapsed": false,
    "ExecuteTime": {
     "end_time": "2023-06-23T01:59:27.961992300Z",
     "start_time": "2023-06-23T01:59:27.893853800Z"
    }
   }
  },
  {
   "cell_type": "code",
   "execution_count": 375,
   "outputs": [
    {
     "data": {
      "application/vnd.plotly.v1+json": {
       "data": [
        {
         "hovertemplate": "group=ONS<br>value=%{r}<br>variable=%{theta}<extra></extra>",
         "legendgroup": "ONS",
         "line": {
          "color": "#636efa",
          "dash": "solid"
         },
         "marker": {
          "symbol": "circle"
         },
         "mode": "lines",
         "name": "ONS",
         "r": [
          0.7897438579629755,
          0.7939517051200908,
          0.82081278882423,
          0.7918477815415332,
          0.7925796203346893,
          0.7692843255913497,
          0.7897438579629755
         ],
         "showlegend": true,
         "subplot": "polar",
         "theta": [
          "TPR",
          "TNR",
          "PPV",
          "BAC",
          "F1",
          "Gmean",
          "TPR"
         ],
         "type": "scatterpolar"
        },
        {
         "hovertemplate": "group=OBo<br>value=%{r}<br>variable=%{theta}<extra></extra>",
         "legendgroup": "OBo",
         "line": {
          "color": "#EF553B",
          "dash": "dot"
         },
         "marker": {
          "symbol": "circle"
         },
         "mode": "lines",
         "name": "OBo",
         "r": [
          0.7826564042703502,
          0.7844192211129353,
          0.8045285319903396,
          0.7835378126916427,
          0.7858952651607123,
          0.7599762362216327,
          0.7826564042703502
         ],
         "showlegend": true,
         "subplot": "polar",
         "theta": [
          "TPR",
          "TNR",
          "PPV",
          "BAC",
          "F1",
          "Gmean",
          "TPR"
         ],
         "type": "scatterpolar"
        },
        {
         "hovertemplate": "group=OBa<br>value=%{r}<br>variable=%{theta}<extra></extra>",
         "legendgroup": "OBa",
         "line": {
          "color": "#00cc96",
          "dash": "dash"
         },
         "marker": {
          "symbol": "circle"
         },
         "mode": "lines",
         "name": "OBa",
         "r": [
          0.8011908238442622,
          0.8091511362170738,
          0.8675794981620342,
          0.805170980030668,
          0.8192555145073623,
          0.7780473293407646,
          0.8011908238442622
         ],
         "showlegend": true,
         "subplot": "polar",
         "theta": [
          "TPR",
          "TNR",
          "PPV",
          "BAC",
          "F1",
          "Gmean",
          "TPR"
         ],
         "type": "scatterpolar"
        },
        {
         "hovertemplate": "group=OOB<br>value=%{r}<br>variable=%{theta}<extra></extra>",
         "legendgroup": "OOB",
         "line": {
          "color": "#ab63fa",
          "dash": "longdash"
         },
         "marker": {
          "symbol": "circle"
         },
         "mode": "lines",
         "name": "OOB",
         "r": [
          0.8463490739772423,
          0.8453964247333493,
          0.78754220015758,
          0.8458727493552958,
          0.8046718982710386,
          0.842303818819248,
          0.8463490739772423
         ],
         "showlegend": true,
         "subplot": "polar",
         "theta": [
          "TPR",
          "TNR",
          "PPV",
          "BAC",
          "F1",
          "Gmean",
          "TPR"
         ],
         "type": "scatterpolar"
        },
        {
         "hovertemplate": "group=UOB<br>value=%{r}<br>variable=%{theta}<extra></extra>",
         "legendgroup": "UOB",
         "line": {
          "color": "#FFA15A",
          "dash": "dashdot"
         },
         "marker": {
          "symbol": "circle"
         },
         "mode": "lines",
         "name": "UOB",
         "r": [
          0.8508195161262014,
          0.8460711290996086,
          0.7585794580191249,
          0.848445322612905,
          0.7768063029210593,
          0.8472322752917527,
          0.8508195161262014
         ],
         "showlegend": true,
         "subplot": "polar",
         "theta": [
          "TPR",
          "TNR",
          "PPV",
          "BAC",
          "F1",
          "Gmean",
          "TPR"
         ],
         "type": "scatterpolar"
        }
       ],
       "layout": {
        "template": {
         "data": {
          "pie": [
           {
            "automargin": true,
            "type": "pie"
           }
          ]
         },
         "layout": {
          "xaxis": {
           "showgrid": true,
           "title": {
            "standoff": 15
           }
          },
          "yaxis": {
           "showgrid": true,
           "title": {
            "standoff": 15
           }
          }
         }
        },
        "polar": {
         "domain": {
          "x": [
           0.0,
           1.0
          ],
          "y": [
           0.0,
           1.0
          ]
         },
         "angularaxis": {
          "direction": "clockwise",
          "rotation": 90,
          "categoryorder": "array",
          "categoryarray": [
           "TPR",
           "TNR",
           "PPV",
           "BAC",
           "F1",
           "Gmean"
          ]
         },
         "radialaxis": {
          "range": [
           0.7,
           0.9
          ],
          "tickfont": {
           "size": 9
          }
         },
         "gridshape": "circular"
        },
        "legend": {
         "title": {},
         "tracegroupgap": 0,
         "orientation": "h",
         "xanchor": "center",
         "x": 0.5
        },
        "title": {
         "text": "SGDClassifier / CDI1",
         "automargin": false
        },
        "height": 450,
        "width": 380,
        "margin": {
         "r": 0,
         "l": 0,
         "t": 60,
         "b": 0
        }
       },
       "config": {
        "plotlyServerURL": "https://plot.ly"
       }
      },
      "text/html": "<div>                            <div id=\"49cd3237-ff73-4562-80e7-1f278d511041\" class=\"plotly-graph-div\" style=\"height:450px; width:380px;\"></div>            <script type=\"text/javascript\">                require([\"plotly\"], function(Plotly) {                    window.PLOTLYENV=window.PLOTLYENV || {};                                    if (document.getElementById(\"49cd3237-ff73-4562-80e7-1f278d511041\")) {                    Plotly.newPlot(                        \"49cd3237-ff73-4562-80e7-1f278d511041\",                        [{\"hovertemplate\":\"group=ONS\\u003cbr\\u003evalue=%{r}\\u003cbr\\u003evariable=%{theta}\\u003cextra\\u003e\\u003c\\u002fextra\\u003e\",\"legendgroup\":\"ONS\",\"line\":{\"color\":\"#636efa\",\"dash\":\"solid\"},\"marker\":{\"symbol\":\"circle\"},\"mode\":\"lines\",\"name\":\"ONS\",\"r\":[0.7897438579629755,0.7939517051200908,0.82081278882423,0.7918477815415332,0.7925796203346893,0.7692843255913497,0.7897438579629755],\"showlegend\":true,\"subplot\":\"polar\",\"theta\":[\"TPR\",\"TNR\",\"PPV\",\"BAC\",\"F1\",\"Gmean\",\"TPR\"],\"type\":\"scatterpolar\"},{\"hovertemplate\":\"group=OBo\\u003cbr\\u003evalue=%{r}\\u003cbr\\u003evariable=%{theta}\\u003cextra\\u003e\\u003c\\u002fextra\\u003e\",\"legendgroup\":\"OBo\",\"line\":{\"color\":\"#EF553B\",\"dash\":\"dot\"},\"marker\":{\"symbol\":\"circle\"},\"mode\":\"lines\",\"name\":\"OBo\",\"r\":[0.7826564042703502,0.7844192211129353,0.8045285319903396,0.7835378126916427,0.7858952651607123,0.7599762362216327,0.7826564042703502],\"showlegend\":true,\"subplot\":\"polar\",\"theta\":[\"TPR\",\"TNR\",\"PPV\",\"BAC\",\"F1\",\"Gmean\",\"TPR\"],\"type\":\"scatterpolar\"},{\"hovertemplate\":\"group=OBa\\u003cbr\\u003evalue=%{r}\\u003cbr\\u003evariable=%{theta}\\u003cextra\\u003e\\u003c\\u002fextra\\u003e\",\"legendgroup\":\"OBa\",\"line\":{\"color\":\"#00cc96\",\"dash\":\"dash\"},\"marker\":{\"symbol\":\"circle\"},\"mode\":\"lines\",\"name\":\"OBa\",\"r\":[0.8011908238442622,0.8091511362170738,0.8675794981620342,0.805170980030668,0.8192555145073623,0.7780473293407646,0.8011908238442622],\"showlegend\":true,\"subplot\":\"polar\",\"theta\":[\"TPR\",\"TNR\",\"PPV\",\"BAC\",\"F1\",\"Gmean\",\"TPR\"],\"type\":\"scatterpolar\"},{\"hovertemplate\":\"group=OOB\\u003cbr\\u003evalue=%{r}\\u003cbr\\u003evariable=%{theta}\\u003cextra\\u003e\\u003c\\u002fextra\\u003e\",\"legendgroup\":\"OOB\",\"line\":{\"color\":\"#ab63fa\",\"dash\":\"longdash\"},\"marker\":{\"symbol\":\"circle\"},\"mode\":\"lines\",\"name\":\"OOB\",\"r\":[0.8463490739772423,0.8453964247333493,0.78754220015758,0.8458727493552958,0.8046718982710386,0.842303818819248,0.8463490739772423],\"showlegend\":true,\"subplot\":\"polar\",\"theta\":[\"TPR\",\"TNR\",\"PPV\",\"BAC\",\"F1\",\"Gmean\",\"TPR\"],\"type\":\"scatterpolar\"},{\"hovertemplate\":\"group=UOB\\u003cbr\\u003evalue=%{r}\\u003cbr\\u003evariable=%{theta}\\u003cextra\\u003e\\u003c\\u002fextra\\u003e\",\"legendgroup\":\"UOB\",\"line\":{\"color\":\"#FFA15A\",\"dash\":\"dashdot\"},\"marker\":{\"symbol\":\"circle\"},\"mode\":\"lines\",\"name\":\"UOB\",\"r\":[0.8508195161262014,0.8460711290996086,0.7585794580191249,0.848445322612905,0.7768063029210593,0.8472322752917527,0.8508195161262014],\"showlegend\":true,\"subplot\":\"polar\",\"theta\":[\"TPR\",\"TNR\",\"PPV\",\"BAC\",\"F1\",\"Gmean\",\"TPR\"],\"type\":\"scatterpolar\"}],                        {\"template\":{\"data\":{\"pie\":[{\"automargin\":true,\"type\":\"pie\"}]},\"layout\":{\"xaxis\":{\"showgrid\":true,\"title\":{\"standoff\":15}},\"yaxis\":{\"showgrid\":true,\"title\":{\"standoff\":15}}}},\"polar\":{\"domain\":{\"x\":[0.0,1.0],\"y\":[0.0,1.0]},\"angularaxis\":{\"direction\":\"clockwise\",\"rotation\":90,\"categoryorder\":\"array\",\"categoryarray\":[\"TPR\",\"TNR\",\"PPV\",\"BAC\",\"F1\",\"Gmean\"]},\"radialaxis\":{\"range\":[0.7,0.9],\"tickfont\":{\"size\":9}},\"gridshape\":\"circular\"},\"legend\":{\"title\":{},\"tracegroupgap\":0,\"orientation\":\"h\",\"xanchor\":\"center\",\"x\":0.5},\"title\":{\"text\":\"SGDClassifier \\u002f CDI1\",\"automargin\":false},\"height\":450,\"width\":380,\"margin\":{\"r\":0,\"l\":0,\"t\":60,\"b\":0}},                        {\"responsive\": true}                    ).then(function(){\n                            \nvar gd = document.getElementById('49cd3237-ff73-4562-80e7-1f278d511041');\nvar x = new MutationObserver(function (mutations, observer) {{\n        var display = window.getComputedStyle(gd).display;\n        if (!display || display === 'none') {{\n            console.log([gd, 'removed!']);\n            Plotly.purge(gd);\n            observer.disconnect();\n        }}\n}});\n\n// Listen for the removal of the full notebook cells\nvar notebookContainer = gd.closest('#notebook-container');\nif (notebookContainer) {{\n    x.observe(notebookContainer, {childList: true});\n}}\n\n// Listen for the clearing of the current output cell\nvar outputEl = gd.closest('.output');\nif (outputEl) {{\n    x.observe(outputEl, {childList: true});\n}}\n\n                        })                };                });            </script>        </div>"
     },
     "metadata": {},
     "output_type": "display_data"
    }
   ],
   "source": [
    "def draw_polar_px(df: pd.DataFrame, base, stream):\n",
    "    _df = df.groupby(by=['base', 'stream', 'ensemble'], group_keys=False).mean()\n",
    "    _df = _df.loc[base, stream].drop(['rst'], axis=1)\n",
    "    _title = f'{base} / {STREAMS_NAMES[stream]}'\n",
    "    _metric_values = []\n",
    "    _metric_names = []\n",
    "    _ensembles = []\n",
    "    for metric_name, scores in _df.to_dict().items():\n",
    "        for ensemble, metric_value in list(sorted(scores.items())):\n",
    "            _metric_values.append(metric_value)\n",
    "            _metric_names.append(METRIC_SS[metric_name])\n",
    "            _ensembles.append(ENSEMBLES_NAMES_SHORT[ensemble])\n",
    "    _plot_data = pd.DataFrame({'value': _metric_values, 'variable': _metric_names, 'group': _ensembles})\n",
    "    fig = px.line_polar(data_frame=_plot_data,\n",
    "                        r='value',\n",
    "                        theta='variable',\n",
    "                        color='group',\n",
    "                        line_dash='group',\n",
    "                        line_close=True,\n",
    "                        range_r=[.7, .9],\n",
    "                        title=_title,\n",
    "                        category_orders=dict(variable=list(METRIC_SS.values()),\n",
    "                                             group=list(ENSEMBLES_NAMES_SHORT.values())),\n",
    "                        width=WIDTH,\n",
    "                        height=HEIGHT)\n",
    "    fig.update_polars(radialaxis=dict(\n",
    "                          tickfont=dict(\n",
    "                              size=9\n",
    "                          )\n",
    "                      ))\n",
    "    fig.update_layout(legend=dict(orientation='h',\n",
    "                                  xanchor='center',\n",
    "                                  x=.5,\n",
    "                                  title=None),\n",
    "                      title=dict(automargin=False),\n",
    "                      template='gridon',\n",
    "                      polar=dict(gridshape='circular'),\n",
    "                      margin=dict(r=0, l=0, t=60, b=0))\n",
    "\n",
    "    return fig\n",
    "\n",
    "\n",
    "draw_polar_px(all_data, 'SGDClassifier', 'cdi__w2_4_0,9')"
   ],
   "metadata": {
    "collapsed": false,
    "ExecuteTime": {
     "end_time": "2023-06-23T01:59:28.045002300Z",
     "start_time": "2023-06-23T01:59:27.900992600Z"
    }
   }
  },
  {
   "cell_type": "code",
   "execution_count": 376,
   "outputs": [],
   "source": [
    "WIDTH = 380\n",
    "HEIGHT = 410\n",
    "def draw_all_polars(df: pd.DataFrame):\n",
    "    for base in BASE:\n",
    "        for stream in STREAMS:\n",
    "            draw_polar_px(df, base, stream).write_image(\n",
    "                f'./comparison_plots/{base}--{STREAMS_NAMES[stream]}.svg', width=WIDTH, height=HEIGHT\n",
    "            )\n",
    "\n",
    "\n",
    "\n",
    "draw_all_polars(all_data)"
   ],
   "metadata": {
    "collapsed": false,
    "ExecuteTime": {
     "end_time": "2023-06-23T01:59:28.494327900Z",
     "start_time": "2023-06-23T01:59:27.997002200Z"
    }
   }
  },
  {
   "cell_type": "code",
   "execution_count": 377,
   "outputs": [],
   "source": [
    "from matplotlib import pyplot as plt\n",
    "from matplotlib import rcParams\n",
    "rcParams.update({'figure.autolayout': True})\n",
    "\n",
    "def draw_cd(plot_values, cd_value, title=None):\n",
    "    limits = (1, len(plot_values))\n",
    "    fig, ax = plt.subplots(figsize=(7.5, 1.8))\n",
    "\n",
    "    plot_values_ = sorted(plot_values, key=lambda l: l[1])\n",
    "    # set up plot\n",
    "    ax.set_xlim(limits)\n",
    "    ax.set_ylim(0, 1)\n",
    "    ax.spines['top'].set_position(('axes', 0.6))\n",
    "    ax.xaxis.set_ticks_position('top')\n",
    "    ax.yaxis.set_visible(False)\n",
    "    k_ = len(plot_values)\n",
    "\n",
    "    for pos in [\"bottom\", \"left\", \"right\"]:\n",
    "        ax.spines[pos].set_visible(False)\n",
    "    # CD bar\n",
    "    ax.plot([limits[0], limits[0] + cd_value], [.9, .9], color=\"k\")\n",
    "    ax.plot([limits[0], limits[0]], [.9 - 0.03, .9 + 0.03], color=\"k\")\n",
    "    ax.plot([limits[0] + cd_value, limits[0] + cd_value], [.9 - 0.03, .9 + 0.03], color=\"k\")\n",
    "    ax.text(limits[0] + cd_value / 2., 0.92, \"CD\", ha=\"center\", va=\"bottom\")\n",
    "    if title:\n",
    "        ax.text(limits[1] - 1, 0.98, title)\n",
    "    #bars\n",
    "    bars = []\n",
    "    for i_ in range(k_):\n",
    "        bar = list(range(i_, k_))\n",
    "        for j_ in range(k_):\n",
    "            if np.abs(plot_values_[i_][1] - plot_values_[j_][1]) >= cd_value:\n",
    "                try:\n",
    "                    bar.pop(bar.index(j_))\n",
    "                except:\n",
    "                    pass\n",
    "        if len(bars) > 0:\n",
    "            if bars[-1][-1] != bar[-1]:\n",
    "                bars.append(bar)\n",
    "        else:\n",
    "            bars.append(bar)\n",
    "    bars = [bar for bar in bars if bar[0] != bar[-1]]\n",
    "    # bars\n",
    "    for i_, bar in enumerate(bars):\n",
    "        lower = plot_values_[bar[0]][1] - .05\n",
    "        upper = plot_values_[bar[-1]][1] + .05\n",
    "        ax.plot([lower, upper], [-i_ * .07 + 0.55, -i_ * .07 + 0.55], color=\"k\", lw=3)\n",
    "    # annotations\n",
    "    kw = dict(\n",
    "        xycoords='data',\n",
    "        textcoords=\"axes fraction\",\n",
    "        arrowprops=dict(arrowstyle=\"-\", connectionstyle=\"angle,angleA=0,angleB=90\"),\n",
    "        bbox=dict(boxstyle=\"square,pad=0.3\", fc=\"w\", ec=\"k\", lw=0.72),\n",
    "        va=\"center\",\n",
    "        fontsize='x-small'\n",
    "    )\n",
    "    left_ranks = plot_values_[:len(plot_values_) // 2]\n",
    "    for i_, (name, rank) in enumerate(left_ranks):\n",
    "        ax.annotate(name, xy=(rank, 0.6), xytext=(0, -i_ * 0.15), ha=\"right\", **kw)\n",
    "        if rank != limits[0] and rank != limits[:-1]:\n",
    "            ax.text(x = rank - .15, y = .03 + -i_ * 0.15, s = '{:.2f}'.format(rank), fontsize='x-small')\n",
    "    right_ranks = plot_values_[len(plot_values_) // 2:]\n",
    "    for i_, (name, rank) in enumerate(reversed(right_ranks)):\n",
    "        ax.annotate(name, xy=(rank, 0.6), xytext=(1, -i_ * 0.15), ha=\"left\", **kw)\n",
    "        if rank != k_:\n",
    "            ax.text(x = rank + .05, y = .03 + -i_ * 0.15, s = '{:.2f}'.format(rank), fontsize='x-small')\n",
    "\n",
    "    return fig"
   ],
   "metadata": {
    "collapsed": false,
    "ExecuteTime": {
     "end_time": "2023-06-23T01:59:28.497341300Z",
     "start_time": "2023-06-23T01:59:28.495295700Z"
    }
   }
  },
  {
   "cell_type": "code",
   "execution_count": 378,
   "outputs": [
    {
     "data": {
      "text/plain": "array([[0.89220928, 0.81174488, 0.88598689, 0.85360009, 0.86741798],\n       [0.81627   , 0.73662692, 0.80935364, 0.82217661, 0.85217711],\n       [0.83323729, 0.80756067, 0.81278445, 0.88384407, 0.90719633],\n       [0.75289463, 0.65862031, 0.70691293, 0.7975044 , 0.84974567],\n       [0.78541939, 0.75900737, 0.75115331, 0.83383379, 0.85749442],\n       [0.77502284, 0.73547966, 0.7866314 , 0.7848435 , 0.80995393],\n       [0.84188503, 0.81373914, 0.84636307, 0.84348228, 0.85407718],\n       [0.84919609, 0.88368621, 0.85152859, 0.94635035, 0.95498326],\n       [0.8390158 , 0.87254705, 0.8497543 , 0.89439223, 0.90205274],\n       [0.74943952, 0.68491093, 0.72861051, 0.77476096, 0.80508106]])"
     },
     "execution_count": 378,
     "metadata": {},
     "output_type": "execute_result"
    }
   ],
   "source": [
    "from scikit_posthocs import posthoc_nemenyi_friedman\n",
    "from scipy.stats import friedmanchisquare, rankdata\n",
    "\n",
    "R_STATES = ['1000', '100000', '101010', '10110', '101101', '1001', '10101010', '101', '110', '1337']\n",
    "# STREAMS\n",
    "# ENSEMBLES\n",
    "def calc_mean_scores(df: pd.DataFrame, stream: str, metric: str, base:str):\n",
    "    mean_scores = np.zeros((len(RST), len(ENSEMBLES)))\n",
    "    for r_i, rst in enumerate(R_STATES):\n",
    "        current_case = df[\n",
    "            (df['stream'] == stream)\n",
    "            & (df['rst'] == rst)\n",
    "            & (df['base'] == base)\n",
    "        ]\n",
    "        for c_i, clf in enumerate(ENSEMBLES):\n",
    "            clf_scores = current_case[current_case['ensemble'] == clf][metric].mean()\n",
    "            mean_scores[r_i, c_i] = clf_scores\n",
    "    return mean_scores\n",
    "\n",
    "def calc_ranks(mean_scores: np.ndarray):\n",
    "    ranks = np.array([rankdata(ms) for ms in mean_scores])\n",
    "    return ranks, np.mean(ranks, axis=0)\n",
    "\n",
    "means = calc_mean_scores(all_data, STREAMS[0], METRICS[0], BASE[0])\n",
    "friedmanchisquare(*means)\n",
    "Q_ALPHA = 2.728\n",
    "means"
   ],
   "metadata": {
    "collapsed": false,
    "ExecuteTime": {
     "end_time": "2023-06-23T01:59:28.527293200Z",
     "start_time": "2023-06-23T01:59:28.495295700Z"
    }
   }
  },
  {
   "cell_type": "code",
   "execution_count": 379,
   "outputs": [
    {
     "data": {
      "text/plain": "<contextlib.ExitStack at 0x28b7fe931d0>"
     },
     "execution_count": 379,
     "metadata": {},
     "output_type": "execute_result"
    }
   ],
   "source": [
    "plt.ioff()\n",
    "draw_cd(list(zip(ENSEMBLES_NAMES_SHORT, calc_ranks(means)[1])), Q_ALPHA * np.sqrt(len(ENSEMBLES) * (len(ENSEMBLES) + 1) / 6 / len(RST)), 'GMean / DISCO1')\n",
    "plt.ion()\n",
    "# draw_cd()"
   ],
   "metadata": {
    "collapsed": false,
    "ExecuteTime": {
     "end_time": "2023-06-23T01:59:28.699853500Z",
     "start_time": "2023-06-23T01:59:28.527293200Z"
    }
   }
  },
  {
   "cell_type": "code",
   "execution_count": 380,
   "outputs": [
    {
     "name": "stdout",
     "output_type": "stream",
     "text": [
      "\\toprule \n",
      " & \\multicolumn{3}{c}{GaussianNB} & \\multicolumn{3}{c}{SGDClassifier}\n",
      "\\multicolumn{1}{c}{CDI1} & \\multicolumn{1}{c}{CDI2} & \\multicolumn{1}{c}{CDI1} & \\multicolumn{1}{c}{CDI2}\\multicolumn{1}{c|}{DISCO1}\\multicolumn{1}{c}{CDI1} & \\multicolumn{1}{c}{CDI2}\\\\ \n",
      " \\midrule\n",
      "TPR & $6.990 \\cdot 10^{-6}$ & $1.762 \\cdot 10^{-5}$ & $1.312 \\cdot 10^{-4}$ & $3.012 \\cdot 10^{-6}$ & $3.489 \\cdot 10^{-6}$ & $8.763 \\cdot 10^{-5}$ \\\\ \n",
      "TNR & $4.191 \\cdot 10^{-2}$ & $6.902 \\cdot 10^{-3}$ & $3.890 \\cdot 10^{-3}$ & $6.740 \\cdot 10^{-6}$ & $4.852 \\cdot 10^{-6}$ & $1.610 \\cdot 10^{-5}$ \\\\ \n",
      "PPV & \\multicolumn{1}{c}{-} & $6.517 \\cdot 10^{-4}$ & $4.716 \\cdot 10^{-5}$ & \\multicolumn{1}{c}{-} & $2.460 \\cdot 10^{-6}$ & \\multicolumn{1}{c}{-} \\\\ \n",
      "BAC & $6.618 \\cdot 10^{-6}$ & $7.249 \\cdot 10^{-6}$ & $4.551 \\cdot 10^{-5}$ & $1.070 \\cdot 10^{-6}$ & $9.938 \\cdot 10^{-7}$ & $2.202 \\cdot 10^{-6}$ \\\\ \n",
      "F1 & $8.696 \\cdot 10^{-6}$ & $1.024 \\cdot 10^{-5}$ & $1.121 \\cdot 10^{-5}$ & $1.551 \\cdot 10^{-6}$ & $1.153 \\cdot 10^{-6}$ & $2.697 \\cdot 10^{-6}$ \\\\ \n",
      "Gmean & $6.041 \\cdot 10^{-6}$ & $8.086 \\cdot 10^{-6}$ & $7.746 \\cdot 10^{-5}$ & $1.153 \\cdot 10^{-6}$ & $1.091 \\cdot 10^{-6}$ & $2.328 \\cdot 10^{-6}$\\\\ \n",
      "\\bottomrule\n"
     ]
    }
   ],
   "source": [
    "def draw_all_cd(df: pd.DataFrame, ensembles: list[str]):\n",
    "    # q_alpha taken from: https://plos.figshare.com/articles/dataset/Critical_values_for_the_two-tailed_Nemenyi_test_after_the_Friedman_test_/5434030/1\n",
    "    _Q_ALPHA = 2.728\n",
    "    _cd_value = Q_ALPHA * np.sqrt(len(ENSEMBLES) * (len(ENSEMBLES) + 1) / 6 / len(RST))\n",
    "    _ALPHA = 0.05\n",
    "\n",
    "    for stream in STREAMS:\n",
    "        for metric in METRICS:\n",
    "            for base in BASE:\n",
    "                _means = calc_mean_scores(df, stream, metric, base)\n",
    "                chi, _p = friedmanchisquare(*_means)\n",
    "                if not np.isnan(_p) and (_p < _ALPHA or chi > Q_ALPHA):\n",
    "                    _ranks, _mean_ranks = calc_ranks(_means)\n",
    "                    plt.ioff()\n",
    "                    fig = draw_cd(list(zip(ensembles, len(ensembles) + 1 - _mean_ranks)),\n",
    "                                  _cd_value,\n",
    "                                  f'{BASE_SHORT[base]} {STREAMS_NAMES[stream]}/{METRIC_SS[metric]}')\n",
    "                    fig.savefig(f'./comparison_plots/cd/cd-{STREAMS_NAMES[stream]}-{METRIC_SS[metric]}-{BASE_SHORT[base]}.svg', bbox_inches=None)\n",
    "                else:\n",
    "                    print(f'no difference for {stream}, {metric} and {base}')\n",
    "\n",
    "def calc_friedmann(df: pd.DataFrame):\n",
    "    # q_alpha taken from: https://plos.figshare.com/articles/dataset/Critical_values_for_the_two-tailed_Nemenyi_test_after_the_Friedman_test_/5434030/1\n",
    "    _Q_ALPHA = 2.728\n",
    "    _cd_value = Q_ALPHA * np.sqrt(len(ENSEMBLES) * (len(ENSEMBLES) + 1) / 6 / len(RST))\n",
    "    _ALPHA = 0.05\n",
    "    acc = { stream: { metric: 0 for metric in METRIC_SS.values() } for stream in STREAMS_NAMES.values() }\n",
    "    result = np.full((len(METRICS), len(STREAMS) * len(BASE)), dtype='U22', fill_value='')\n",
    "    for i, stream in enumerate(STREAMS):\n",
    "        for j, metric in enumerate(METRICS):\n",
    "            for k, base in enumerate(BASE):\n",
    "                _means = calc_mean_scores(df, stream, metric, base)\n",
    "                pval = friedmanchisquare(*_means)[1]\n",
    "                ct = 0\n",
    "                if np.isnan(pval):\n",
    "                    ct_ = '\\multicolumn{1}{c}{-}'\n",
    "                else:\n",
    "                    while pval < 1:\n",
    "                        pval *= 10\n",
    "                        ct -= 1\n",
    "                    ct_ = f'${pval:.3f} \\\\cdot 10^' + '{' + str(ct) + '}$'\n",
    "                acc[STREAMS_NAMES[stream]][METRIC_SS[metric]] = ct_\n",
    "                result[j, k * len(STREAMS) + i] = ct_\n",
    "    return acc, result\n",
    "p, ppp = calc_friedmann(all_data)\n",
    "# pp = pd.DataFrame.from_dict(p).to_latex()\n",
    "ptbl = np.concatenate([np.array([list(METRIC_SS.values())]).T, ppp], axis=1)\n",
    "header = '\\\\toprule \\n & ' + ' & '.join(['\\\\multicolumn{3}{c}{' + base + '}' for base in BASE])\n",
    "sheader = ' & '.join(\n",
    "    [*['\\\\multicolumn{1}{c}{' + STREAMS_NAMES[stream] + '}' for stream in STREAMS[:-1]],\n",
    "]\n",
    ")\n",
    "sheader += ' & ' +\\\n",
    "           sheader +\\\n",
    "           '\\\\multicolumn{1}{c|}{' +\\\n",
    "           STREAMS_NAMES[STREAMS[-1]] + '}' +\\\n",
    "           sheader +\\\n",
    "           '\\\\\\\\ \\n \\\\midrule'\n",
    "table_content = ' \\\\\\\\ \\n'.join([' & '.join(r) for r in ptbl]) + '\\\\\\\\ \\n\\\\bottomrule'\n",
    "print(header)\n",
    "print(sheader)\n",
    "print(table_content)\n",
    "# ppp"
   ],
   "metadata": {
    "collapsed": false,
    "ExecuteTime": {
     "end_time": "2023-06-23T01:59:29.822677300Z",
     "start_time": "2023-06-23T01:59:28.708853Z"
    }
   }
  },
  {
   "cell_type": "code",
   "execution_count": 380,
   "outputs": [],
   "source": [],
   "metadata": {
    "collapsed": false,
    "ExecuteTime": {
     "end_time": "2023-06-23T01:59:29.825198100Z",
     "start_time": "2023-06-23T01:59:29.822677300Z"
    }
   }
  },
  {
   "cell_type": "code",
   "execution_count": 381,
   "outputs": [
    {
     "name": "stdout",
     "output_type": "stream",
     "text": [
      "no difference for cdi__w2_4_0,9, precision and GaussianNB\n",
      "no difference for cdi__w2_4_0,9, precision and SGDClassifier\n",
      "no difference for disco__w2_5_0,9, precision and SGDClassifier\n"
     ]
    },
    {
     "data": {
      "text/plain": "<contextlib.ExitStack at 0x28b0dc32350>"
     },
     "execution_count": 381,
     "metadata": {},
     "output_type": "execute_result"
    }
   ],
   "source": [
    "plt.ioff()\n",
    "draw_all_cd(all_data, list(ENSEMBLES_NAMES_SHORT.values()))\n",
    "plt.ion()"
   ],
   "metadata": {
    "collapsed": false,
    "ExecuteTime": {
     "end_time": "2023-06-23T01:59:40.367813700Z",
     "start_time": "2023-06-23T01:59:29.827198100Z"
    }
   }
  },
  {
   "cell_type": "code",
   "execution_count": 382,
   "outputs": [
    {
     "name": "stdout",
     "output_type": "stream",
     "text": [
      "\\begin{figure}[h]\n",
      "\t\\centering\n",
      "\n",
      "\t\\subfloat[GaussianNB dla TPR i CDI\\textsubscript{1}]{\n",
      "\t\t\\includesvg[width=.45\\textwidth]{imgs/cd-CDI1-TPR-GNB.svg}\n",
      "\t}\n",
      "\t\\subfloat[GaussianNB dla TNR i CDI\\textsubscript{1}]{\n",
      "\t\t\\includesvg[width=.45\\textwidth]{imgs/cd-CDI1-TNR-GNB.svg}\n",
      "\t}\\hspace{0pt}\n",
      "\t\\subfloat[GaussianNB dla PPV i CDI\\textsubscript{1}]{\n",
      "\t\t\\includesvg[width=.45\\textwidth]{imgs/cd-CDI1-PPV-GNB.svg}\n",
      "\t}\n",
      "\t\\subfloat[GaussianNB dla BAC i CDI\\textsubscript{1}]{\n",
      "\t\t\\includesvg[width=.45\\textwidth]{imgs/cd-CDI1-BAC-GNB.svg}\n",
      "\t}\\hspace{0pt}\n",
      "\t\\subfloat[GaussianNB dla F\\textsubscript{1} i CDI\\textsubscript{1}]{\n",
      "\t\t\\includesvg[width=.45\\textwidth]{imgs/cd-CDI1-F1-GNB.svg}\n",
      "\t}\n",
      "\t\\subfloat[GaussianNB dla G\\textsubscipt{mean} i CDI\\textsubscript{1}]{\n",
      "\t\t\\includesvg[width=.45\\textwidth]{imgs/cd-CDI1-Gmean-GNB.svg}\n",
      "\t}\\hspace{0pt}\n",
      "\t\\subfloat[GaussianNB dla TPR i CDI\\textsubscript{2}]{\n",
      "\t\t\\includesvg[width=.45\\textwidth]{imgs/cd-CDI2-TPR-GNB.svg}\n",
      "\t}\n",
      "\t\\subfloat[GaussianNB dla TNR i CDI\\textsubscript{2}]{\n",
      "\t\t\\includesvg[width=.45\\textwidth]{imgs/cd-CDI2-TNR-GNB.svg}\n",
      "\t}\\hspace{0pt}\n",
      "\t\\subfloat[GaussianNB dla PPV i CDI\\textsubscript{2}]{\n",
      "\t\t\\includesvg[width=.45\\textwidth]{imgs/cd-CDI2-PPV-GNB.svg}\n",
      "\t}\n",
      "\t\\subfloat[GaussianNB dla BAC i CDI\\textsubscript{2}]{\n",
      "\t\t\\includesvg[width=.45\\textwidth]{imgs/cd-CDI2-BAC-GNB.svg}\n",
      "\t}\\hspace{0pt}\n",
      "\t\\subfloat[GaussianNB dla F\\textsubscript{1} i CDI\\textsubscript{2}]{\n",
      "\t\t\\includesvg[width=.45\\textwidth]{imgs/cd-CDI2-F1-GNB.svg}\n",
      "\t}\n",
      "\t\\subfloat[GaussianNB dla G\\textsubscipt{mean} i CDI\\textsubscript{2}]{\n",
      "\t\t\\includesvg[width=.45\\textwidth]{imgs/cd-CDI2-Gmean-GNB.svg}\n",
      "\t}\\hspace{0pt}\n",
      "\t\\subfloat[GaussianNB dla TPR i DISCO\\textsubscript{1}]{\n",
      "\t\t\\includesvg[width=.45\\textwidth]{imgs/cd-DISCO1-TPR-GNB.svg}\n",
      "\t}\n",
      "\t\\subfloat[GaussianNB dla TNR i DISCO\\textsubscript{1}]{\n",
      "\t\t\\includesvg[width=.45\\textwidth]{imgs/cd-DISCO1-TNR-GNB.svg}\n",
      "\t}\\hspace{0pt}\n",
      "\t\\subfloat[GaussianNB dla PPV i DISCO\\textsubscript{1}]{\n",
      "\t\t\\includesvg[width=.45\\textwidth]{imgs/cd-DISCO1-PPV-GNB.svg}\n",
      "\t}\n",
      "\t\\subfloat[GaussianNB dla BAC i DISCO\\textsubscript{1}]{\n",
      "\t\t\\includesvg[width=.45\\textwidth]{imgs/cd-DISCO1-BAC-GNB.svg}\n",
      "\t}\\hspace{0pt}\n",
      "\t\\subfloat[GaussianNB dla F\\textsubscript{1} i DISCO\\textsubscript{1}]{\n",
      "\t\t\\includesvg[width=.45\\textwidth]{imgs/cd-DISCO1-F1-GNB.svg}\n",
      "\t}\n",
      "\t\\subfloat[GaussianNB dla G\\textsubscipt{mean} i DISCO\\textsubscript{1}]{\n",
      "\t\t\\includesvg[width=.45\\textwidth]{imgs/cd-DISCO1-Gmean-GNB.svg}\n",
      "\t}\\hspace{0pt}\n",
      "\t\\subfloat[SGDClassifier dla TPR i CDI\\textsubscript{1}]{\n",
      "\t\t\\includesvg[width=.45\\textwidth]{imgs/cd-CDI1-TPR-SGD.svg}\n",
      "\t}\n",
      "\t\\subfloat[SGDClassifier dla TNR i CDI\\textsubscript{1}]{\n",
      "\t\t\\includesvg[width=.45\\textwidth]{imgs/cd-CDI1-TNR-SGD.svg}\n",
      "\t}\\hspace{0pt}\n",
      "\t\\subfloat[SGDClassifier dla PPV i CDI\\textsubscript{1}]{\n",
      "\t\t\\includesvg[width=.45\\textwidth]{imgs/cd-CDI1-PPV-SGD.svg}\n",
      "\t}\n",
      "\t\\subfloat[SGDClassifier dla BAC i CDI\\textsubscript{1}]{\n",
      "\t\t\\includesvg[width=.45\\textwidth]{imgs/cd-CDI1-BAC-SGD.svg}\n",
      "\t}\\hspace{0pt}\n",
      "\t\\subfloat[SGDClassifier dla F\\textsubscript{1} i CDI\\textsubscript{1}]{\n",
      "\t\t\\includesvg[width=.45\\textwidth]{imgs/cd-CDI1-F1-SGD.svg}\n",
      "\t}\n",
      "\t\\subfloat[SGDClassifier dla G\\textsubscipt{mean} i CDI\\textsubscript{1}]{\n",
      "\t\t\\includesvg[width=.45\\textwidth]{imgs/cd-CDI1-Gmean-SGD.svg}\n",
      "\t}\\hspace{0pt}\n",
      "\t\\subfloat[SGDClassifier dla TPR i CDI\\textsubscript{2}]{\n",
      "\t\t\\includesvg[width=.45\\textwidth]{imgs/cd-CDI2-TPR-SGD.svg}\n",
      "\t}\n",
      "\t\\subfloat[SGDClassifier dla TNR i CDI\\textsubscript{2}]{\n",
      "\t\t\\includesvg[width=.45\\textwidth]{imgs/cd-CDI2-TNR-SGD.svg}\n",
      "\t}\\hspace{0pt}\n",
      "\t\\subfloat[SGDClassifier dla PPV i CDI\\textsubscript{2}]{\n",
      "\t\t\\includesvg[width=.45\\textwidth]{imgs/cd-CDI2-PPV-SGD.svg}\n",
      "\t}\n",
      "\t\\subfloat[SGDClassifier dla BAC i CDI\\textsubscript{2}]{\n",
      "\t\t\\includesvg[width=.45\\textwidth]{imgs/cd-CDI2-BAC-SGD.svg}\n",
      "\t}\\hspace{0pt}\n",
      "\t\\subfloat[SGDClassifier dla F\\textsubscript{1} i CDI\\textsubscript{2}]{\n",
      "\t\t\\includesvg[width=.45\\textwidth]{imgs/cd-CDI2-F1-SGD.svg}\n",
      "\t}\n",
      "\t\\subfloat[SGDClassifier dla G\\textsubscipt{mean} i CDI\\textsubscript{2}]{\n",
      "\t\t\\includesvg[width=.45\\textwidth]{imgs/cd-CDI2-Gmean-SGD.svg}\n",
      "\t}\\hspace{0pt}\n",
      "\t\\subfloat[SGDClassifier dla TPR i DISCO\\textsubscript{1}]{\n",
      "\t\t\\includesvg[width=.45\\textwidth]{imgs/cd-DISCO1-TPR-SGD.svg}\n",
      "\t}\n",
      "\t\\subfloat[SGDClassifier dla TNR i DISCO\\textsubscript{1}]{\n",
      "\t\t\\includesvg[width=.45\\textwidth]{imgs/cd-DISCO1-TNR-SGD.svg}\n",
      "\t}\\hspace{0pt}\n",
      "\t\\subfloat[SGDClassifier dla PPV i DISCO\\textsubscript{1}]{\n",
      "\t\t\\includesvg[width=.45\\textwidth]{imgs/cd-DISCO1-PPV-SGD.svg}\n",
      "\t}\n",
      "\t\\subfloat[SGDClassifier dla BAC i DISCO\\textsubscript{1}]{\n",
      "\t\t\\includesvg[width=.45\\textwidth]{imgs/cd-DISCO1-BAC-SGD.svg}\n",
      "\t}\\hspace{0pt}\n",
      "\t\\subfloat[SGDClassifier dla F\\textsubscript{1} i DISCO\\textsubscript{1}]{\n",
      "\t\t\\includesvg[width=.45\\textwidth]{imgs/cd-DISCO1-F1-SGD.svg}\n",
      "\t}\n",
      "\t\\subfloat[SGDClassifier dla G\\textsubscipt{mean} i DISCO\\textsubscript{1}]{\n",
      "\t\t\\includesvg[width=.45\\textwidth]{imgs/cd-DISCO1-Gmean-SGD.svg}\n",
      "\t}\\hspace{0pt}\n",
      "\n"
     ]
    }
   ],
   "source": [
    "def prepare_section():\n",
    "    header = '\\\\begin{figure}[h]\\n' \\\n",
    "                '\\t\\\\centering\\n'\n",
    "    i = 0\n",
    "    body = ''\n",
    "    for base in BASE:\n",
    "        for s in STREAMS:\n",
    "            for m in METRICS:\n",
    "                current = '\\t\\\\subfloat' + f'[{base} dla {METRICS_LATEX[m]} i {STREAMS_LATEX[s]}]' + '{\\n' \\\n",
    "                '\\t\\t\\\\includesvg[width=.45\\\\textwidth]{imgs/cd-' + f'{STREAMS_NAMES[s]}-{METRIC_SS[m]}-{BASE_SHORT[base]}.svg' + '}\\n' \\\n",
    "                '\\t}'\n",
    "                if i%2 == 1:\n",
    "                    current += '\\\\hspace{0pt}'\n",
    "                i+= 1\n",
    "                current += '\\n'\n",
    "                body += current\n",
    "                current = ''\n",
    "    print(header)\n",
    "    print(body)\n",
    "\n",
    "prepare_section()"
   ],
   "metadata": {
    "collapsed": false,
    "ExecuteTime": {
     "end_time": "2023-06-23T01:59:40.368850900Z",
     "start_time": "2023-06-23T01:59:40.363235100Z"
    }
   }
  },
  {
   "cell_type": "code",
   "execution_count": 383,
   "outputs": [
    {
     "name": "stdout",
     "output_type": "stream",
     "text": [
      "\\begin{tabular}{lllrrrrrr}\n",
      "\\toprule\n",
      " &  &  & TPR & TNR & PPV & BAC & F\\textsubscript{1} & G\\textsubscipt{mean} \\\\\n",
      "base & stream & ensemble &  &  &  &  &  &  \\\\\n",
      "\\midrule\n",
      "\\multirow[t]{15}{*}{GaussianNB} & \\multirow[t]{5}{*}{CDI1} & OB & 0.776 & 0.890 & 0.833 & 0.833 & 0.798 & 0.825 \\\\\n",
      " &  & ONSBoost & 0.813 & 0.836 & 0.852 & 0.825 & 0.824 & 0.804 \\\\\n",
      " &  & OOB & 0.843 & 0.853 & 0.777 & 0.848 & 0.794 & 0.846 \\\\\n",
      " &  & OnlineBoosting & 0.803 & 0.852 & 0.850 & 0.828 & 0.820 & 0.810 \\\\\n",
      " &  & UOB & 0.866 & 0.829 & 0.748 & 0.847 & 0.780 & 0.845 \\\\\n",
      "\\cline{2-9}\n",
      " & \\multirow[t]{5}{*}{CDI2} & OB & 0.804 & 0.889 & 0.845 & 0.847 & 0.819 & 0.842 \\\\\n",
      " &  & ONSBoost & 0.837 & 0.850 & 0.860 & 0.844 & 0.845 & 0.833 \\\\\n",
      " &  & OOB & 0.856 & 0.853 & 0.797 & 0.855 & 0.815 & 0.853 \\\\\n",
      " &  & OnlineBoosting & 0.822 & 0.869 & 0.864 & 0.845 & 0.838 & 0.835 \\\\\n",
      " &  & UOB & 0.872 & 0.838 & 0.780 & 0.855 & 0.809 & 0.854 \\\\\n",
      "\\cline{2-9}\n",
      " & \\multirow[t]{5}{*}{DISCO1} & OB & 0.722 & 0.867 & 0.802 & 0.795 & 0.750 & 0.782 \\\\\n",
      " &  & ONSBoost & 0.820 & 0.815 & 0.839 & 0.817 & 0.823 & 0.795 \\\\\n",
      " &  & OOB & 0.790 & 0.809 & 0.723 & 0.799 & 0.736 & 0.796 \\\\\n",
      " &  & OnlineBoosting & 0.806 & 0.819 & 0.827 & 0.813 & 0.811 & 0.791 \\\\\n",
      " &  & UOB & 0.851 & 0.810 & 0.717 & 0.831 & 0.752 & 0.828 \\\\\n",
      "\\cline{1-9} \\cline{2-9}\n",
      "\\multirow[t]{15}{*}{SGDClassifier} & \\multirow[t]{5}{*}{CDI1} & OB & 0.801 & 0.809 & 0.868 & 0.805 & 0.819 & 0.778 \\\\\n",
      " &  & ONSBoost & 0.790 & 0.794 & 0.821 & 0.792 & 0.793 & 0.769 \\\\\n",
      " &  & OOB & 0.846 & 0.845 & 0.788 & 0.846 & 0.805 & 0.842 \\\\\n",
      " &  & OnlineBoosting & 0.783 & 0.784 & 0.805 & 0.784 & 0.786 & 0.760 \\\\\n",
      " &  & UOB & 0.851 & 0.846 & 0.759 & 0.848 & 0.777 & 0.847 \\\\\n",
      "\\cline{2-9}\n",
      " & \\multirow[t]{5}{*}{CDI2} & OB & 0.826 & 0.829 & 0.864 & 0.828 & 0.839 & 0.813 \\\\\n",
      " &  & ONSBoost & 0.814 & 0.808 & 0.821 & 0.811 & 0.813 & 0.798 \\\\\n",
      " &  & OOB & 0.858 & 0.854 & 0.811 & 0.856 & 0.826 & 0.854 \\\\\n",
      " &  & OnlineBoosting & 0.804 & 0.803 & 0.814 & 0.804 & 0.804 & 0.791 \\\\\n",
      " &  & UOB & 0.861 & 0.858 & 0.792 & 0.859 & 0.810 & 0.858 \\\\\n",
      "\\cline{2-9}\n",
      " & \\multirow[t]{5}{*}{DISCO1} & OB & 0.831 & 0.820 & 0.891 & 0.826 & 0.852 & 0.803 \\\\\n",
      " &  & ONSBoost & 0.810 & 0.802 & 0.839 & 0.806 & 0.816 & 0.784 \\\\\n",
      " &  & OOB & 0.862 & 0.859 & 0.799 & 0.860 & 0.818 & 0.856 \\\\\n",
      " &  & OnlineBoosting & 0.802 & 0.797 & 0.834 & 0.799 & 0.808 & 0.776 \\\\\n",
      " &  & UOB & 0.865 & 0.860 & 0.759 & 0.862 & 0.780 & 0.861 \\\\\n",
      "\\cline{1-9} \\cline{2-9}\n",
      "\\bottomrule\n",
      "\\end{tabular}\n",
      "\n"
     ]
    }
   ],
   "source": [
    "p = all_data.drop('rst', axis=1).set_index('stream').rename(columns=METRICS_LATEX, index=STREAMS_NAMES).reset_index()\\\n",
    "    .groupby(by=['base', 'stream', 'ensemble']).mean().to_latex(float_format=\"%.3f\")\n",
    "print(p)"
   ],
   "metadata": {
    "collapsed": false,
    "ExecuteTime": {
     "end_time": "2023-06-23T01:59:40.390351700Z",
     "start_time": "2023-06-23T01:59:40.369816Z"
    }
   }
  },
  {
   "cell_type": "code",
   "execution_count": 394,
   "outputs": [],
   "source": [
    "def calc_table_comparison(df: pd.DataFrame, metric: str):\n",
    "    # q_alpha taken from: https://plos.figshare.com/articles/dataset/Critical_values_for_the_two-tailed_Nemenyi_test_after_the_Friedman_test_/5434030/1\n",
    "    _Q_ALPHA = 2.728\n",
    "    _cd_value = Q_ALPHA * np.sqrt(len(ENSEMBLES) * (len(ENSEMBLES) + 1) / 6 / len(RST))\n",
    "    _ALPHA = 0.05\n",
    "    a = []\n",
    "    for n, ens in enumerate(ENSEMBLES):\n",
    "        for i, stream in enumerate(STREAMS):\n",
    "            for k, base in enumerate(BASE):\n",
    "                tmp = dict(stream=STREAMS_LATEX[stream],\n",
    "                           base=base,\n",
    "                           ensemble=ENAME_RANKS[ens],\n",
    "                           metric=METRICS_LATEX[metric])\n",
    "                _means = calc_mean_scores(df, stream, metric, base)\n",
    "                ph = posthoc_nemenyi_friedman(_means).to_numpy()\n",
    "                ph_sig = ph <= _ALPHA\n",
    "                all_mean = _means.mean(axis=0)\n",
    "                better_than = []\n",
    "                for o in range(len(ENSEMBLES)):\n",
    "                    if ph_sig[n, o] and all_mean[n] > all_mean[o]:\n",
    "                        better_than.append(o+1)\n",
    "                if better_than:\n",
    "                    better_s = ', '.join([str(v) for v in np.unique(better_than)])\n",
    "                else:\n",
    "                    better_s = '-'\n",
    "                val = '-' if np.isnan(all_mean[n]) else f'{all_mean[n]:.3f}'\n",
    "                tmp['value'] = '$\\\\underset{' + better_s + '}{' + val + '}$'\n",
    "\n",
    "                a.append(tmp)\n",
    "    result = pd.DataFrame(a).set_index(keys=['metric', 'stream', 'base', 'ensemble'])\n",
    "    return result\n",
    "\n",
    "pdd = calc_table_comparison(all_data, METRICS[0])\n",
    "for metric in METRICS[1:]:\n",
    "    pdd = pd.concat([pdd, calc_table_comparison(all_data, metric)])\n"
   ],
   "metadata": {
    "collapsed": false,
    "ExecuteTime": {
     "end_time": "2023-06-23T02:05:31.179537700Z",
     "start_time": "2023-06-23T02:05:20.438650200Z"
    }
   }
  },
  {
   "cell_type": "code",
   "execution_count": 395,
   "outputs": [
    {
     "data": {
      "text/plain": "                   metric                  stream           base  \\\n0                     TPR    CDI\\textsubscript{1}     GaussianNB   \n1                     TPR    CDI\\textsubscript{1}  SGDClassifier   \n2                     TPR    CDI\\textsubscript{2}     GaussianNB   \n3                     TPR    CDI\\textsubscript{2}  SGDClassifier   \n4                     TPR  DISCO\\textsubscript{1}     GaussianNB   \n..                    ...                     ...            ...   \n175  G\\textsubscipt{mean}    CDI\\textsubscript{1}  SGDClassifier   \n176  G\\textsubscipt{mean}    CDI\\textsubscript{2}     GaussianNB   \n177  G\\textsubscipt{mean}    CDI\\textsubscript{2}  SGDClassifier   \n178  G\\textsubscipt{mean}  DISCO\\textsubscript{1}     GaussianNB   \n179  G\\textsubscipt{mean}  DISCO\\textsubscript{1}  SGDClassifier   \n\n                 ensemble                           value  \n0    ONS\\textsubscript{1}           $\\underset{-}{0.813}$  \n1    ONS\\textsubscript{1}           $\\underset{-}{0.790}$  \n2    ONS\\textsubscript{1}           $\\underset{-}{0.837}$  \n3    ONS\\textsubscript{1}           $\\underset{-}{0.814}$  \n4    ONS\\textsubscript{1}           $\\underset{2}{0.820}$  \n..                    ...                             ...  \n175  UOB\\textsubscript{5}     $\\underset{1, 2, 3}{0.847}$  \n176  UOB\\textsubscript{5}           $\\underset{1}{0.854}$  \n177  UOB\\textsubscript{5}     $\\underset{1, 2, 3}{0.858}$  \n178  UOB\\textsubscript{5}  $\\underset{1, 2, 3, 4}{0.828}$  \n179  UOB\\textsubscript{5}     $\\underset{1, 2, 3}{0.861}$  \n\n[180 rows x 5 columns]",
      "text/html": "<div>\n<style scoped>\n    .dataframe tbody tr th:only-of-type {\n        vertical-align: middle;\n    }\n\n    .dataframe tbody tr th {\n        vertical-align: top;\n    }\n\n    .dataframe thead th {\n        text-align: right;\n    }\n</style>\n<table border=\"1\" class=\"dataframe\">\n  <thead>\n    <tr style=\"text-align: right;\">\n      <th></th>\n      <th>metric</th>\n      <th>stream</th>\n      <th>base</th>\n      <th>ensemble</th>\n      <th>value</th>\n    </tr>\n  </thead>\n  <tbody>\n    <tr>\n      <th>0</th>\n      <td>TPR</td>\n      <td>CDI\\textsubscript{1}</td>\n      <td>GaussianNB</td>\n      <td>ONS\\textsubscript{1}</td>\n      <td>$\\underset{-}{0.813}$</td>\n    </tr>\n    <tr>\n      <th>1</th>\n      <td>TPR</td>\n      <td>CDI\\textsubscript{1}</td>\n      <td>SGDClassifier</td>\n      <td>ONS\\textsubscript{1}</td>\n      <td>$\\underset{-}{0.790}$</td>\n    </tr>\n    <tr>\n      <th>2</th>\n      <td>TPR</td>\n      <td>CDI\\textsubscript{2}</td>\n      <td>GaussianNB</td>\n      <td>ONS\\textsubscript{1}</td>\n      <td>$\\underset{-}{0.837}$</td>\n    </tr>\n    <tr>\n      <th>3</th>\n      <td>TPR</td>\n      <td>CDI\\textsubscript{2}</td>\n      <td>SGDClassifier</td>\n      <td>ONS\\textsubscript{1}</td>\n      <td>$\\underset{-}{0.814}$</td>\n    </tr>\n    <tr>\n      <th>4</th>\n      <td>TPR</td>\n      <td>DISCO\\textsubscript{1}</td>\n      <td>GaussianNB</td>\n      <td>ONS\\textsubscript{1}</td>\n      <td>$\\underset{2}{0.820}$</td>\n    </tr>\n    <tr>\n      <th>...</th>\n      <td>...</td>\n      <td>...</td>\n      <td>...</td>\n      <td>...</td>\n      <td>...</td>\n    </tr>\n    <tr>\n      <th>175</th>\n      <td>G\\textsubscipt{mean}</td>\n      <td>CDI\\textsubscript{1}</td>\n      <td>SGDClassifier</td>\n      <td>UOB\\textsubscript{5}</td>\n      <td>$\\underset{1, 2, 3}{0.847}$</td>\n    </tr>\n    <tr>\n      <th>176</th>\n      <td>G\\textsubscipt{mean}</td>\n      <td>CDI\\textsubscript{2}</td>\n      <td>GaussianNB</td>\n      <td>UOB\\textsubscript{5}</td>\n      <td>$\\underset{1}{0.854}$</td>\n    </tr>\n    <tr>\n      <th>177</th>\n      <td>G\\textsubscipt{mean}</td>\n      <td>CDI\\textsubscript{2}</td>\n      <td>SGDClassifier</td>\n      <td>UOB\\textsubscript{5}</td>\n      <td>$\\underset{1, 2, 3}{0.858}$</td>\n    </tr>\n    <tr>\n      <th>178</th>\n      <td>G\\textsubscipt{mean}</td>\n      <td>DISCO\\textsubscript{1}</td>\n      <td>GaussianNB</td>\n      <td>UOB\\textsubscript{5}</td>\n      <td>$\\underset{1, 2, 3, 4}{0.828}$</td>\n    </tr>\n    <tr>\n      <th>179</th>\n      <td>G\\textsubscipt{mean}</td>\n      <td>DISCO\\textsubscript{1}</td>\n      <td>SGDClassifier</td>\n      <td>UOB\\textsubscript{5}</td>\n      <td>$\\underset{1, 2, 3}{0.861}$</td>\n    </tr>\n  </tbody>\n</table>\n<p>180 rows × 5 columns</p>\n</div>"
     },
     "execution_count": 395,
     "metadata": {},
     "output_type": "execute_result"
    }
   ],
   "source": [
    "s = pdd.reset_index()\n",
    "s"
   ],
   "metadata": {
    "collapsed": false,
    "ExecuteTime": {
     "end_time": "2023-06-23T02:05:34.385807400Z",
     "start_time": "2023-06-23T02:05:34.358604100Z"
    }
   }
  },
  {
   "cell_type": "code",
   "execution_count": 398,
   "outputs": [
    {
     "name": "stdout",
     "output_type": "stream",
     "text": [
      "\\begin{tabular}{llllllllllll}\n",
      "\\toprule\n",
      " & base & \\multicolumn{5}{c}{GaussianNB} & \\multicolumn{5}{c}{SGDClassifier} \\\\\n",
      " & ensemble & ONS\\textsubscript{1} & OBa\\textsubscript{2} & OBo\\textsubscript{3} & OOB\\textsubscript{4} & UOB\\textsubscript{5} & ONS\\textsubscript{1} & OBa\\textsubscript{2} & OBo\\textsubscript{3} & OOB\\textsubscript{4} & UOB\\textsubscript{5} \\\\\n",
      "metric & stream &  &  &  &  &  &  &  &  &  &  \\\\\n",
      "\\midrule\n",
      "\\multirow[t]{3}{*}{TPR} & CDI\\textsubscript{1} & $\\underset{-}{0.813}$ & $\\underset{-}{0.776}$ & $\\underset{-}{0.803}$ & $\\underset{2}{0.843}$ & $\\underset{1, 2, 3}{0.866}$ & $\\underset{-}{0.790}$ & $\\underset{-}{0.801}$ & $\\underset{-}{0.783}$ & $\\underset{1, 3}{0.846}$ & $\\underset{1, 2, 3}{0.851}$ \\\\\n",
      " & CDI\\textsubscript{2} & $\\underset{-}{0.837}$ & $\\underset{-}{0.804}$ & $\\underset{-}{0.822}$ & $\\underset{-}{0.856}$ & $\\underset{2, 3}{0.872}$ & $\\underset{-}{0.814}$ & $\\underset{-}{0.826}$ & $\\underset{-}{0.804}$ & $\\underset{3}{0.858}$ & $\\underset{1, 2, 3}{0.861}$ \\\\\n",
      " & DISCO\\textsubscript{1} & $\\underset{2}{0.820}$ & $\\underset{-}{0.722}$ & $\\underset{-}{0.806}$ & $\\underset{-}{0.790}$ & $\\underset{2, 3, 4}{0.851}$ & $\\underset{-}{0.810}$ & $\\underset{3}{0.831}$ & $\\underset{-}{0.802}$ & $\\underset{1, 3}{0.862}$ & $\\underset{1, 3}{0.865}$ \\\\\n",
      "\\cline{1-12}\n",
      "\\multirow[t]{3}{*}{TNR} & CDI\\textsubscript{1} & $\\underset{-}{0.836}$ & $\\underset{1, 5}{0.890}$ & $\\underset{-}{0.852}$ & $\\underset{-}{0.853}$ & $\\underset{-}{0.829}$ & $\\underset{-}{0.794}$ & $\\underset{-}{0.809}$ & $\\underset{-}{0.784}$ & $\\underset{1, 3}{0.845}$ & $\\underset{1, 3}{0.846}$ \\\\\n",
      " & CDI\\textsubscript{2} & $\\underset{-}{0.850}$ & $\\underset{1, 5}{0.889}$ & $\\underset{5}{0.869}$ & $\\underset{-}{0.853}$ & $\\underset{-}{0.838}$ & $\\underset{-}{0.808}$ & $\\underset{-}{0.829}$ & $\\underset{-}{0.803}$ & $\\underset{1, 3}{0.854}$ & $\\underset{1, 2, 3}{0.858}$ \\\\\n",
      " & DISCO\\textsubscript{1} & $\\underset{-}{0.815}$ & $\\underset{1, 4, 5}{0.867}$ & $\\underset{-}{0.819}$ & $\\underset{-}{0.809}$ & $\\underset{-}{0.810}$ & $\\underset{-}{0.802}$ & $\\underset{-}{0.820}$ & $\\underset{-}{0.797}$ & $\\underset{1, 3}{0.859}$ & $\\underset{1, 3}{0.860}$ \\\\\n",
      "\\cline{1-12}\n",
      "\\multirow[t]{3}{*}{PPV} & CDI\\textsubscript{1} & $\\underset{-}{-}$ & $\\underset{-}{-}$ & $\\underset{4, 5}{0.850}$ & $\\underset{-}{0.777}$ & $\\underset{-}{0.748}$ & $\\underset{-}{-}$ & $\\underset{-}{-}$ & $\\underset{5}{0.805}$ & $\\underset{-}{0.788}$ & $\\underset{-}{0.759}$ \\\\\n",
      " & CDI\\textsubscript{2} & $\\underset{4, 5}{0.860}$ & $\\underset{5}{0.845}$ & $\\underset{4, 5}{0.864}$ & $\\underset{-}{0.797}$ & $\\underset{-}{0.780}$ & $\\underset{5}{0.821}$ & $\\underset{3, 4, 5}{0.864}$ & $\\underset{-}{0.814}$ & $\\underset{-}{0.811}$ & $\\underset{-}{0.792}$ \\\\\n",
      " & DISCO\\textsubscript{1} & $\\underset{4, 5}{0.839}$ & $\\underset{-}{0.802}$ & $\\underset{4, 5}{0.827}$ & $\\underset{-}{0.723}$ & $\\underset{-}{0.717}$ & $\\underset{5}{0.839}$ & $\\underset{-}{-}$ & $\\underset{5}{0.834}$ & $\\underset{-}{0.799}$ & $\\underset{-}{0.759}$ \\\\\n",
      "\\cline{1-12}\n",
      "\\multirow[t]{3}{*}{BAC} & CDI\\textsubscript{1} & $\\underset{-}{0.825}$ & $\\underset{-}{0.833}$ & $\\underset{-}{0.828}$ & $\\underset{1}{0.848}$ & $\\underset{1}{0.847}$ & $\\underset{-}{0.792}$ & $\\underset{-}{0.805}$ & $\\underset{-}{0.784}$ & $\\underset{1, 3}{0.846}$ & $\\underset{1, 3}{0.848}$ \\\\\n",
      " & CDI\\textsubscript{2} & $\\underset{-}{0.844}$ & $\\underset{-}{0.847}$ & $\\underset{-}{0.845}$ & $\\underset{-}{0.855}$ & $\\underset{-}{0.855}$ & $\\underset{-}{0.811}$ & $\\underset{-}{0.828}$ & $\\underset{-}{0.804}$ & $\\underset{1, 3}{0.856}$ & $\\underset{1, 3}{0.859}$ \\\\\n",
      " & DISCO\\textsubscript{1} & $\\underset{-}{0.817}$ & $\\underset{-}{0.795}$ & $\\underset{-}{0.813}$ & $\\underset{-}{0.799}$ & $\\underset{2, 4}{0.831}$ & $\\underset{-}{0.806}$ & $\\underset{-}{0.826}$ & $\\underset{-}{0.799}$ & $\\underset{1, 3}{0.860}$ & $\\underset{1, 3}{0.862}$ \\\\\n",
      "\\cline{1-12}\n",
      "\\multirow[t]{3}{*}{F\\textsubscript{1}} & CDI\\textsubscript{1} & $\\underset{5}{0.824}$ & $\\underset{-}{0.798}$ & $\\underset{5}{0.820}$ & $\\underset{-}{0.794}$ & $\\underset{-}{0.780}$ & $\\underset{-}{0.793}$ & $\\underset{3, 5}{0.819}$ & $\\underset{-}{0.786}$ & $\\underset{3, 5}{0.805}$ & $\\underset{-}{0.777}$ \\\\\n",
      " & CDI\\textsubscript{2} & $\\underset{5}{0.845}$ & $\\underset{-}{0.819}$ & $\\underset{5}{0.838}$ & $\\underset{-}{0.815}$ & $\\underset{-}{0.809}$ & $\\underset{-}{0.813}$ & $\\underset{1, 3, 5}{0.839}$ & $\\underset{-}{0.804}$ & $\\underset{3, 5}{0.826}$ & $\\underset{-}{0.810}$ \\\\\n",
      " & DISCO\\textsubscript{1} & $\\underset{2, 4, 5}{0.823}$ & $\\underset{-}{0.750}$ & $\\underset{4, 5}{0.811}$ & $\\underset{-}{0.736}$ & $\\underset{-}{0.752}$ & $\\underset{5}{0.816}$ & $\\underset{3, 5}{0.852}$ & $\\underset{-}{0.808}$ & $\\underset{5}{0.818}$ & $\\underset{-}{0.780}$ \\\\\n",
      "\\cline{1-12}\n",
      "\\multirow[t]{3}{*}{G\\textsubscipt{mean}} & CDI\\textsubscript{1} & $\\underset{-}{0.804}$ & $\\underset{-}{0.825}$ & $\\underset{-}{0.810}$ & $\\underset{1}{0.846}$ & $\\underset{1}{0.845}$ & $\\underset{-}{0.769}$ & $\\underset{-}{0.778}$ & $\\underset{-}{0.760}$ & $\\underset{1, 3}{0.842}$ & $\\underset{1, 2, 3}{0.847}$ \\\\\n",
      " & CDI\\textsubscript{2} & $\\underset{-}{0.833}$ & $\\underset{-}{0.842}$ & $\\underset{-}{0.835}$ & $\\underset{-}{0.853}$ & $\\underset{1}{0.854}$ & $\\underset{-}{0.798}$ & $\\underset{-}{0.813}$ & $\\underset{-}{0.791}$ & $\\underset{1, 3}{0.854}$ & $\\underset{1, 2, 3}{0.858}$ \\\\\n",
      " & DISCO\\textsubscript{1} & $\\underset{-}{0.795}$ & $\\underset{-}{0.782}$ & $\\underset{-}{0.791}$ & $\\underset{-}{0.796}$ & $\\underset{1, 2, 3, 4}{0.828}$ & $\\underset{-}{0.784}$ & $\\underset{-}{0.803}$ & $\\underset{-}{0.776}$ & $\\underset{1, 3}{0.856}$ & $\\underset{1, 2, 3}{0.861}$ \\\\\n",
      "\\cline{1-12}\n",
      "\\bottomrule\n",
      "\\end{tabular}\n",
      "\n"
     ]
    },
    {
     "data": {
      "text/plain": "'\\\\begin{tabular}{llllllllllll}\\n\\\\toprule\\n & base & \\\\multicolumn{5}{c}{GaussianNB} & \\\\multicolumn{5}{c}{SGDClassifier} \\\\\\\\\\n & ensemble & ONS\\\\textsubscript{1} & OBa\\\\textsubscript{2} & OBo\\\\textsubscript{3} & OOB\\\\textsubscript{4} & UOB\\\\textsubscript{5} & ONS\\\\textsubscript{1} & OBa\\\\textsubscript{2} & OBo\\\\textsubscript{3} & OOB\\\\textsubscript{4} & UOB\\\\textsubscript{5} \\\\\\\\\\nmetric & stream &  &  &  &  &  &  &  &  &  &  \\\\\\\\\\n\\\\midrule\\n\\\\multirow[t]{3}{*}{TPR} & CDI\\\\textsubscript{1} & $\\\\underset{-}{0.813}$ & $\\\\underset{-}{0.776}$ & $\\\\underset{-}{0.803}$ & $\\\\underset{2}{0.843}$ & $\\\\underset{1, 2, 3}{0.866}$ & $\\\\underset{-}{0.790}$ & $\\\\underset{-}{0.801}$ & $\\\\underset{-}{0.783}$ & $\\\\underset{1, 3}{0.846}$ & $\\\\underset{1, 2, 3}{0.851}$ \\\\\\\\\\n & CDI\\\\textsubscript{2} & $\\\\underset{-}{0.837}$ & $\\\\underset{-}{0.804}$ & $\\\\underset{-}{0.822}$ & $\\\\underset{-}{0.856}$ & $\\\\underset{2, 3}{0.872}$ & $\\\\underset{-}{0.814}$ & $\\\\underset{-}{0.826}$ & $\\\\underset{-}{0.804}$ & $\\\\underset{3}{0.858}$ & $\\\\underset{1, 2, 3}{0.861}$ \\\\\\\\\\n & DISCO\\\\textsubscript{1} & $\\\\underset{2}{0.820}$ & $\\\\underset{-}{0.722}$ & $\\\\underset{-}{0.806}$ & $\\\\underset{-}{0.790}$ & $\\\\underset{2, 3, 4}{0.851}$ & $\\\\underset{-}{0.810}$ & $\\\\underset{3}{0.831}$ & $\\\\underset{-}{0.802}$ & $\\\\underset{1, 3}{0.862}$ & $\\\\underset{1, 3}{0.865}$ \\\\\\\\\\n\\\\cline{1-12}\\n\\\\multirow[t]{3}{*}{TNR} & CDI\\\\textsubscript{1} & $\\\\underset{-}{0.836}$ & $\\\\underset{1, 5}{0.890}$ & $\\\\underset{-}{0.852}$ & $\\\\underset{-}{0.853}$ & $\\\\underset{-}{0.829}$ & $\\\\underset{-}{0.794}$ & $\\\\underset{-}{0.809}$ & $\\\\underset{-}{0.784}$ & $\\\\underset{1, 3}{0.845}$ & $\\\\underset{1, 3}{0.846}$ \\\\\\\\\\n & CDI\\\\textsubscript{2} & $\\\\underset{-}{0.850}$ & $\\\\underset{1, 5}{0.889}$ & $\\\\underset{5}{0.869}$ & $\\\\underset{-}{0.853}$ & $\\\\underset{-}{0.838}$ & $\\\\underset{-}{0.808}$ & $\\\\underset{-}{0.829}$ & $\\\\underset{-}{0.803}$ & $\\\\underset{1, 3}{0.854}$ & $\\\\underset{1, 2, 3}{0.858}$ \\\\\\\\\\n & DISCO\\\\textsubscript{1} & $\\\\underset{-}{0.815}$ & $\\\\underset{1, 4, 5}{0.867}$ & $\\\\underset{-}{0.819}$ & $\\\\underset{-}{0.809}$ & $\\\\underset{-}{0.810}$ & $\\\\underset{-}{0.802}$ & $\\\\underset{-}{0.820}$ & $\\\\underset{-}{0.797}$ & $\\\\underset{1, 3}{0.859}$ & $\\\\underset{1, 3}{0.860}$ \\\\\\\\\\n\\\\cline{1-12}\\n\\\\multirow[t]{3}{*}{PPV} & CDI\\\\textsubscript{1} & $\\\\underset{-}{-}$ & $\\\\underset{-}{-}$ & $\\\\underset{4, 5}{0.850}$ & $\\\\underset{-}{0.777}$ & $\\\\underset{-}{0.748}$ & $\\\\underset{-}{-}$ & $\\\\underset{-}{-}$ & $\\\\underset{5}{0.805}$ & $\\\\underset{-}{0.788}$ & $\\\\underset{-}{0.759}$ \\\\\\\\\\n & CDI\\\\textsubscript{2} & $\\\\underset{4, 5}{0.860}$ & $\\\\underset{5}{0.845}$ & $\\\\underset{4, 5}{0.864}$ & $\\\\underset{-}{0.797}$ & $\\\\underset{-}{0.780}$ & $\\\\underset{5}{0.821}$ & $\\\\underset{3, 4, 5}{0.864}$ & $\\\\underset{-}{0.814}$ & $\\\\underset{-}{0.811}$ & $\\\\underset{-}{0.792}$ \\\\\\\\\\n & DISCO\\\\textsubscript{1} & $\\\\underset{4, 5}{0.839}$ & $\\\\underset{-}{0.802}$ & $\\\\underset{4, 5}{0.827}$ & $\\\\underset{-}{0.723}$ & $\\\\underset{-}{0.717}$ & $\\\\underset{5}{0.839}$ & $\\\\underset{-}{-}$ & $\\\\underset{5}{0.834}$ & $\\\\underset{-}{0.799}$ & $\\\\underset{-}{0.759}$ \\\\\\\\\\n\\\\cline{1-12}\\n\\\\multirow[t]{3}{*}{BAC} & CDI\\\\textsubscript{1} & $\\\\underset{-}{0.825}$ & $\\\\underset{-}{0.833}$ & $\\\\underset{-}{0.828}$ & $\\\\underset{1}{0.848}$ & $\\\\underset{1}{0.847}$ & $\\\\underset{-}{0.792}$ & $\\\\underset{-}{0.805}$ & $\\\\underset{-}{0.784}$ & $\\\\underset{1, 3}{0.846}$ & $\\\\underset{1, 3}{0.848}$ \\\\\\\\\\n & CDI\\\\textsubscript{2} & $\\\\underset{-}{0.844}$ & $\\\\underset{-}{0.847}$ & $\\\\underset{-}{0.845}$ & $\\\\underset{-}{0.855}$ & $\\\\underset{-}{0.855}$ & $\\\\underset{-}{0.811}$ & $\\\\underset{-}{0.828}$ & $\\\\underset{-}{0.804}$ & $\\\\underset{1, 3}{0.856}$ & $\\\\underset{1, 3}{0.859}$ \\\\\\\\\\n & DISCO\\\\textsubscript{1} & $\\\\underset{-}{0.817}$ & $\\\\underset{-}{0.795}$ & $\\\\underset{-}{0.813}$ & $\\\\underset{-}{0.799}$ & $\\\\underset{2, 4}{0.831}$ & $\\\\underset{-}{0.806}$ & $\\\\underset{-}{0.826}$ & $\\\\underset{-}{0.799}$ & $\\\\underset{1, 3}{0.860}$ & $\\\\underset{1, 3}{0.862}$ \\\\\\\\\\n\\\\cline{1-12}\\n\\\\multirow[t]{3}{*}{F\\\\textsubscript{1}} & CDI\\\\textsubscript{1} & $\\\\underset{5}{0.824}$ & $\\\\underset{-}{0.798}$ & $\\\\underset{5}{0.820}$ & $\\\\underset{-}{0.794}$ & $\\\\underset{-}{0.780}$ & $\\\\underset{-}{0.793}$ & $\\\\underset{3, 5}{0.819}$ & $\\\\underset{-}{0.786}$ & $\\\\underset{3, 5}{0.805}$ & $\\\\underset{-}{0.777}$ \\\\\\\\\\n & CDI\\\\textsubscript{2} & $\\\\underset{5}{0.845}$ & $\\\\underset{-}{0.819}$ & $\\\\underset{5}{0.838}$ & $\\\\underset{-}{0.815}$ & $\\\\underset{-}{0.809}$ & $\\\\underset{-}{0.813}$ & $\\\\underset{1, 3, 5}{0.839}$ & $\\\\underset{-}{0.804}$ & $\\\\underset{3, 5}{0.826}$ & $\\\\underset{-}{0.810}$ \\\\\\\\\\n & DISCO\\\\textsubscript{1} & $\\\\underset{2, 4, 5}{0.823}$ & $\\\\underset{-}{0.750}$ & $\\\\underset{4, 5}{0.811}$ & $\\\\underset{-}{0.736}$ & $\\\\underset{-}{0.752}$ & $\\\\underset{5}{0.816}$ & $\\\\underset{3, 5}{0.852}$ & $\\\\underset{-}{0.808}$ & $\\\\underset{5}{0.818}$ & $\\\\underset{-}{0.780}$ \\\\\\\\\\n\\\\cline{1-12}\\n\\\\multirow[t]{3}{*}{G\\\\textsubscipt{mean}} & CDI\\\\textsubscript{1} & $\\\\underset{-}{0.804}$ & $\\\\underset{-}{0.825}$ & $\\\\underset{-}{0.810}$ & $\\\\underset{1}{0.846}$ & $\\\\underset{1}{0.845}$ & $\\\\underset{-}{0.769}$ & $\\\\underset{-}{0.778}$ & $\\\\underset{-}{0.760}$ & $\\\\underset{1, 3}{0.842}$ & $\\\\underset{1, 2, 3}{0.847}$ \\\\\\\\\\n & CDI\\\\textsubscript{2} & $\\\\underset{-}{0.833}$ & $\\\\underset{-}{0.842}$ & $\\\\underset{-}{0.835}$ & $\\\\underset{-}{0.853}$ & $\\\\underset{1}{0.854}$ & $\\\\underset{-}{0.798}$ & $\\\\underset{-}{0.813}$ & $\\\\underset{-}{0.791}$ & $\\\\underset{1, 3}{0.854}$ & $\\\\underset{1, 2, 3}{0.858}$ \\\\\\\\\\n & DISCO\\\\textsubscript{1} & $\\\\underset{-}{0.795}$ & $\\\\underset{-}{0.782}$ & $\\\\underset{-}{0.791}$ & $\\\\underset{-}{0.796}$ & $\\\\underset{1, 2, 3, 4}{0.828}$ & $\\\\underset{-}{0.784}$ & $\\\\underset{-}{0.803}$ & $\\\\underset{-}{0.776}$ & $\\\\underset{1, 3}{0.856}$ & $\\\\underset{1, 2, 3}{0.861}$ \\\\\\\\\\n\\\\cline{1-12}\\n\\\\bottomrule\\n\\\\end{tabular}\\n'"
     },
     "execution_count": 398,
     "metadata": {},
     "output_type": "execute_result"
    }
   ],
   "source": [
    "def method_name(_y):\n",
    "    if _y in list(STREAMS_LATEX.values()):\n",
    "        return list(STREAMS_LATEX.values()).index(_y)\n",
    "    elif _y in list(METRICS_LATEX.values()):\n",
    "        return list(METRICS_LATEX.values()).index(_y)\n",
    "    else:\n",
    "        return _y\n",
    "\n",
    "\n",
    "v = s.reset_index()\\\n",
    "    .set_index('stream')\\\n",
    "    .sort_values(by=['base', 'ensemble'])\\\n",
    "    .reset_index()\\\n",
    "    .pivot(index=['metric', 'stream'], columns=['base', 'ensemble'], values='value')\\\n",
    "    .sort_index(key=lambda _x: _x.map(lambda _y: method_name(_y)))\\\n",
    "    .sort_index(axis=1, key=lambda _x: _x.map(lambda _y: BASE.index(_y) if _y in BASE else ENAME_RANKS_ORDER.index(_y)))\\\n",
    "    .to_latex(multicolumn_format='c', )\n",
    "print(v)\n",
    "v"
   ],
   "metadata": {
    "collapsed": false,
    "ExecuteTime": {
     "end_time": "2023-06-23T02:07:02.496696800Z",
     "start_time": "2023-06-23T02:07:02.474618900Z"
    }
   }
  },
  {
   "cell_type": "code",
   "execution_count": 387,
   "outputs": [
    {
     "data": {
      "text/plain": "                                                                                                         value\nmetric               stream                 base          ensemble                                            \nTPR                  CDI\\textsubscript{1}   GaussianNB    ONS\\textsubscript{1}           $\\underset{-}{0.813}$\n                                            SGDClassifier ONS\\textsubscript{1}           $\\underset{-}{0.790}$\n                     CDI\\textsubscript{2}   GaussianNB    ONS\\textsubscript{1}           $\\underset{-}{0.837}$\n                                            SGDClassifier ONS\\textsubscript{1}           $\\underset{-}{0.814}$\n                     DISCO\\textsubscript{1} GaussianNB    ONS\\textsubscript{1}           $\\underset{2}{0.820}$\n...                                                                                                        ...\nG\\textsubscipt{mean} CDI\\textsubscript{1}   SGDClassifier UOB\\textsubscript{5}     $\\underset{1, 2, 3}{0.847}$\n                     CDI\\textsubscript{2}   GaussianNB    UOB\\textsubscript{5}           $\\underset{1}{0.854}$\n                                            SGDClassifier UOB\\textsubscript{5}     $\\underset{1, 2, 3}{0.858}$\n                     DISCO\\textsubscript{1} GaussianNB    UOB\\textsubscript{5}  $\\underset{1, 2, 3, 4}{0.828}$\n                                            SGDClassifier UOB\\textsubscript{5}     $\\underset{1, 2, 3}{0.861}$\n\n[180 rows x 1 columns]",
      "text/html": "<div>\n<style scoped>\n    .dataframe tbody tr th:only-of-type {\n        vertical-align: middle;\n    }\n\n    .dataframe tbody tr th {\n        vertical-align: top;\n    }\n\n    .dataframe thead th {\n        text-align: right;\n    }\n</style>\n<table border=\"1\" class=\"dataframe\">\n  <thead>\n    <tr style=\"text-align: right;\">\n      <th></th>\n      <th></th>\n      <th></th>\n      <th></th>\n      <th>value</th>\n    </tr>\n    <tr>\n      <th>metric</th>\n      <th>stream</th>\n      <th>base</th>\n      <th>ensemble</th>\n      <th></th>\n    </tr>\n  </thead>\n  <tbody>\n    <tr>\n      <th rowspan=\"5\" valign=\"top\">TPR</th>\n      <th rowspan=\"2\" valign=\"top\">CDI\\textsubscript{1}</th>\n      <th>GaussianNB</th>\n      <th>ONS\\textsubscript{1}</th>\n      <td>$\\underset{-}{0.813}$</td>\n    </tr>\n    <tr>\n      <th>SGDClassifier</th>\n      <th>ONS\\textsubscript{1}</th>\n      <td>$\\underset{-}{0.790}$</td>\n    </tr>\n    <tr>\n      <th rowspan=\"2\" valign=\"top\">CDI\\textsubscript{2}</th>\n      <th>GaussianNB</th>\n      <th>ONS\\textsubscript{1}</th>\n      <td>$\\underset{-}{0.837}$</td>\n    </tr>\n    <tr>\n      <th>SGDClassifier</th>\n      <th>ONS\\textsubscript{1}</th>\n      <td>$\\underset{-}{0.814}$</td>\n    </tr>\n    <tr>\n      <th>DISCO\\textsubscript{1}</th>\n      <th>GaussianNB</th>\n      <th>ONS\\textsubscript{1}</th>\n      <td>$\\underset{2}{0.820}$</td>\n    </tr>\n    <tr>\n      <th>...</th>\n      <th>...</th>\n      <th>...</th>\n      <th>...</th>\n      <td>...</td>\n    </tr>\n    <tr>\n      <th rowspan=\"5\" valign=\"top\">G\\textsubscipt{mean}</th>\n      <th>CDI\\textsubscript{1}</th>\n      <th>SGDClassifier</th>\n      <th>UOB\\textsubscript{5}</th>\n      <td>$\\underset{1, 2, 3}{0.847}$</td>\n    </tr>\n    <tr>\n      <th rowspan=\"2\" valign=\"top\">CDI\\textsubscript{2}</th>\n      <th>GaussianNB</th>\n      <th>UOB\\textsubscript{5}</th>\n      <td>$\\underset{1}{0.854}$</td>\n    </tr>\n    <tr>\n      <th>SGDClassifier</th>\n      <th>UOB\\textsubscript{5}</th>\n      <td>$\\underset{1, 2, 3}{0.858}$</td>\n    </tr>\n    <tr>\n      <th rowspan=\"2\" valign=\"top\">DISCO\\textsubscript{1}</th>\n      <th>GaussianNB</th>\n      <th>UOB\\textsubscript{5}</th>\n      <td>$\\underset{1, 2, 3, 4}{0.828}$</td>\n    </tr>\n    <tr>\n      <th>SGDClassifier</th>\n      <th>UOB\\textsubscript{5}</th>\n      <td>$\\underset{1, 2, 3}{0.861}$</td>\n    </tr>\n  </tbody>\n</table>\n<p>180 rows × 1 columns</p>\n</div>"
     },
     "execution_count": 387,
     "metadata": {},
     "output_type": "execute_result"
    }
   ],
   "source": [
    "pdd"
   ],
   "metadata": {
    "collapsed": false,
    "ExecuteTime": {
     "end_time": "2023-06-23T01:59:50.772904200Z",
     "start_time": "2023-06-23T01:59:50.717674400Z"
    }
   }
  },
  {
   "cell_type": "code",
   "execution_count": 388,
   "outputs": [
    {
     "ename": "ValueError",
     "evalue": "setting an array element with a sequence. The requested array has an inhomogeneous shape after 1 dimensions. The detected shape was (2,) + inhomogeneous part.",
     "output_type": "error",
     "traceback": [
      "\u001B[1;31m---------------------------------------------------------------------------\u001B[0m",
      "\u001B[1;31mValueError\u001B[0m                                Traceback (most recent call last)",
      "Cell \u001B[1;32mIn[388], line 6\u001B[0m\n\u001B[0;32m      1\u001B[0m x \u001B[38;5;241m=\u001B[39m np\u001B[38;5;241m.\u001B[39marray([\n\u001B[0;32m      2\u001B[0m     [\u001B[38;5;28;01mFalse\u001B[39;00m, \u001B[38;5;28;01mTrue\u001B[39;00m, \u001B[38;5;28;01mTrue\u001B[39;00m],\n\u001B[0;32m      3\u001B[0m     [\u001B[38;5;28;01mTrue\u001B[39;00m, \u001B[38;5;28;01mFalse\u001B[39;00m, \u001B[38;5;28;01mFalse\u001B[39;00m],\n\u001B[0;32m      4\u001B[0m     [\u001B[38;5;28;01mTrue\u001B[39;00m, \u001B[38;5;28;01mFalse\u001B[39;00m, \u001B[38;5;28;01mFalse\u001B[39;00m]\n\u001B[0;32m      5\u001B[0m ])\n\u001B[1;32m----> 6\u001B[0m sc \u001B[38;5;241m=\u001B[39m \u001B[43mnp\u001B[49m\u001B[38;5;241;43m.\u001B[39;49m\u001B[43marray\u001B[49m\u001B[43m(\u001B[49m\u001B[43m[\u001B[49m\n\u001B[0;32m      7\u001B[0m \u001B[43m    \u001B[49m\u001B[43m[\u001B[49m\u001B[38;5;241;43m0\u001B[39;49m\u001B[43m,\u001B[49m\u001B[43m \u001B[49m\u001B[38;5;241;43m.5\u001B[39;49m\u001B[43m,\u001B[49m\u001B[43m \u001B[49m\u001B[38;5;241;43m.3\u001B[39;49m\u001B[43m]\u001B[49m\u001B[43m,\u001B[49m\n\u001B[0;32m      8\u001B[0m \u001B[43m    \u001B[49m\u001B[43m[\u001B[49m\u001B[43m]\u001B[49m\n\u001B[0;32m      9\u001B[0m \u001B[43m]\u001B[49m\u001B[43m)\u001B[49m\n",
      "\u001B[1;31mValueError\u001B[0m: setting an array element with a sequence. The requested array has an inhomogeneous shape after 1 dimensions. The detected shape was (2,) + inhomogeneous part."
     ]
    }
   ],
   "source": [
    "x = np.array([\n",
    "    [False, True, True],\n",
    "    [True, False, False],\n",
    "    [True, False, False]\n",
    "])\n",
    "sc = np.array([\n",
    "    [0, .5, .3],\n",
    "    []\n",
    "])"
   ],
   "metadata": {
    "collapsed": false,
    "ExecuteTime": {
     "end_time": "2023-06-23T01:59:50.797867700Z",
     "start_time": "2023-06-23T01:59:50.730814300Z"
    }
   }
  }
 ],
 "metadata": {
  "kernelspec": {
   "display_name": "Python 3",
   "language": "python",
   "name": "python3"
  },
  "language_info": {
   "codemirror_mode": {
    "name": "ipython",
    "version": 2
   },
   "file_extension": ".py",
   "mimetype": "text/x-python",
   "name": "python",
   "nbconvert_exporter": "python",
   "pygments_lexer": "ipython2",
   "version": "2.7.6"
  }
 },
 "nbformat": 4,
 "nbformat_minor": 0
}
