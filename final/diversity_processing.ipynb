{
 "cells": [
  {
   "cell_type": "code",
   "execution_count": 20,
   "metadata": {
    "collapsed": true,
    "ExecuteTime": {
     "end_time": "2023-06-17T14:31:14.011729300Z",
     "start_time": "2023-06-17T14:31:13.978811800Z"
    }
   },
   "outputs": [],
   "source": [
    "import os\n",
    "import numpy as np\n",
    "import pandas as pd\n",
    "import matplotlib.pyplot as plt"
   ]
  },
  {
   "cell_type": "code",
   "execution_count": 21,
   "outputs": [],
   "source": [
    "RESULTS_PATH = os.path.join('./diversity_results/cdi')"
   ],
   "metadata": {
    "collapsed": false,
    "ExecuteTime": {
     "end_time": "2023-06-17T14:31:14.011729300Z",
     "start_time": "2023-06-17T14:31:13.989860Z"
    }
   }
  },
  {
   "cell_type": "code",
   "execution_count": 32,
   "outputs": [],
   "source": [
    "dir_content = os.listdir(RESULTS_PATH)\n",
    "abs_paths = [os.path.abspath(os.path.join(RESULTS_PATH, f)) for f in dir_content]\n",
    "div_metrics = ['e', 'k', 'kw', 'dis', 'q']"
   ],
   "metadata": {
    "collapsed": false,
    "ExecuteTime": {
     "end_time": "2023-06-17T14:41:54.239990800Z",
     "start_time": "2023-06-17T14:41:54.229704700Z"
    }
   }
  },
  {
   "cell_type": "code",
   "execution_count": 61,
   "outputs": [],
   "source": [
    "def process_all_files(files: list[str]) -> pd.DataFrame:\n",
    "    acc = {}\n",
    "    acc2 = []\n",
    "    for _file_path in files:\n",
    "        scores = np.load(_file_path)\n",
    "        n = int(_file_path.split('__n_')[1].split('_')[0])\n",
    "        rst = _file_path.split('__RST_')[1].split('.')[0]\n",
    "        base = _file_path.split('__base_')[1].split('++')[0]\n",
    "        scores_mean = scores[0].mean(axis=0)\n",
    "        ensemble_div = {\n",
    "            'n': n,\n",
    "            'rst': rst,\n",
    "            'base': base\n",
    "        }\n",
    "        for i, metric in enumerate(div_metrics):\n",
    "            ensemble_div[metric] = scores_mean[i]\n",
    "        acc2.append(ensemble_div)\n",
    "    return pd.DataFrame(acc2)\n",
    "\n",
    "s = process_all_files(abs_paths).sort_values(by=['base', 'n', 'rst'])\n",
    "grouped = s.groupby(by=['base', 'n']).describe()"
   ],
   "metadata": {
    "collapsed": false,
    "ExecuteTime": {
     "end_time": "2023-06-17T15:02:02.651026Z",
     "start_time": "2023-06-17T15:02:02.526324800Z"
    }
   }
  },
  {
   "cell_type": "code",
   "execution_count": 59,
   "outputs": [
    {
     "data": {
      "text/plain": "                   count      mean       std       min       25%       50%  \\\nbase          n                                                              \nGaussianNB    5     10.0  0.160954  0.028005  0.123919  0.142505  0.156010   \n              10    10.0  0.218976  0.031223  0.170563  0.196548  0.221750   \n              20    10.0  0.347759  0.037592  0.281508  0.323640  0.347902   \n              50    10.0  0.433454  0.017407  0.400752  0.423385  0.432550   \n              75    10.0  0.443615  0.016826  0.416028  0.431364  0.444858   \n              100   10.0  0.442838  0.018661  0.415336  0.429717  0.445374   \nMLPClassifier 5     10.0  0.131147  0.012321  0.111434  0.121813  0.130404   \n              10    10.0  0.125332  0.012641  0.107753  0.116949  0.124172   \n              20    10.0  0.136777  0.023513  0.109757  0.121073  0.129100   \n              50    10.0  0.143172  0.038786  0.088263  0.115461  0.139096   \n              75    10.0  0.129300  0.024761  0.098459  0.115707  0.122150   \n              100   10.0  0.135762  0.028902  0.095807  0.116471  0.134557   \n\n                        75%       max  \nbase          n                        \nGaussianNB    5    0.176051  0.211737  \n              10   0.238168  0.272348  \n              20   0.370923  0.410390  \n              50   0.444026  0.459087  \n              75   0.455560  0.465519  \n              100  0.457884  0.467486  \nMLPClassifier 5    0.143035  0.146101  \n              10   0.135158  0.146323  \n              20   0.147017  0.180024  \n              50   0.169997  0.204414  \n              75   0.145491  0.177426  \n              100  0.151644  0.185759  ",
      "text/html": "<div>\n<style scoped>\n    .dataframe tbody tr th:only-of-type {\n        vertical-align: middle;\n    }\n\n    .dataframe tbody tr th {\n        vertical-align: top;\n    }\n\n    .dataframe thead th {\n        text-align: right;\n    }\n</style>\n<table border=\"1\" class=\"dataframe\">\n  <thead>\n    <tr style=\"text-align: right;\">\n      <th></th>\n      <th></th>\n      <th>count</th>\n      <th>mean</th>\n      <th>std</th>\n      <th>min</th>\n      <th>25%</th>\n      <th>50%</th>\n      <th>75%</th>\n      <th>max</th>\n    </tr>\n    <tr>\n      <th>base</th>\n      <th>n</th>\n      <th></th>\n      <th></th>\n      <th></th>\n      <th></th>\n      <th></th>\n      <th></th>\n      <th></th>\n      <th></th>\n    </tr>\n  </thead>\n  <tbody>\n    <tr>\n      <th rowspan=\"6\" valign=\"top\">GaussianNB</th>\n      <th>5</th>\n      <td>10.0</td>\n      <td>0.160954</td>\n      <td>0.028005</td>\n      <td>0.123919</td>\n      <td>0.142505</td>\n      <td>0.156010</td>\n      <td>0.176051</td>\n      <td>0.211737</td>\n    </tr>\n    <tr>\n      <th>10</th>\n      <td>10.0</td>\n      <td>0.218976</td>\n      <td>0.031223</td>\n      <td>0.170563</td>\n      <td>0.196548</td>\n      <td>0.221750</td>\n      <td>0.238168</td>\n      <td>0.272348</td>\n    </tr>\n    <tr>\n      <th>20</th>\n      <td>10.0</td>\n      <td>0.347759</td>\n      <td>0.037592</td>\n      <td>0.281508</td>\n      <td>0.323640</td>\n      <td>0.347902</td>\n      <td>0.370923</td>\n      <td>0.410390</td>\n    </tr>\n    <tr>\n      <th>50</th>\n      <td>10.0</td>\n      <td>0.433454</td>\n      <td>0.017407</td>\n      <td>0.400752</td>\n      <td>0.423385</td>\n      <td>0.432550</td>\n      <td>0.444026</td>\n      <td>0.459087</td>\n    </tr>\n    <tr>\n      <th>75</th>\n      <td>10.0</td>\n      <td>0.443615</td>\n      <td>0.016826</td>\n      <td>0.416028</td>\n      <td>0.431364</td>\n      <td>0.444858</td>\n      <td>0.455560</td>\n      <td>0.465519</td>\n    </tr>\n    <tr>\n      <th>100</th>\n      <td>10.0</td>\n      <td>0.442838</td>\n      <td>0.018661</td>\n      <td>0.415336</td>\n      <td>0.429717</td>\n      <td>0.445374</td>\n      <td>0.457884</td>\n      <td>0.467486</td>\n    </tr>\n    <tr>\n      <th rowspan=\"6\" valign=\"top\">MLPClassifier</th>\n      <th>5</th>\n      <td>10.0</td>\n      <td>0.131147</td>\n      <td>0.012321</td>\n      <td>0.111434</td>\n      <td>0.121813</td>\n      <td>0.130404</td>\n      <td>0.143035</td>\n      <td>0.146101</td>\n    </tr>\n    <tr>\n      <th>10</th>\n      <td>10.0</td>\n      <td>0.125332</td>\n      <td>0.012641</td>\n      <td>0.107753</td>\n      <td>0.116949</td>\n      <td>0.124172</td>\n      <td>0.135158</td>\n      <td>0.146323</td>\n    </tr>\n    <tr>\n      <th>20</th>\n      <td>10.0</td>\n      <td>0.136777</td>\n      <td>0.023513</td>\n      <td>0.109757</td>\n      <td>0.121073</td>\n      <td>0.129100</td>\n      <td>0.147017</td>\n      <td>0.180024</td>\n    </tr>\n    <tr>\n      <th>50</th>\n      <td>10.0</td>\n      <td>0.143172</td>\n      <td>0.038786</td>\n      <td>0.088263</td>\n      <td>0.115461</td>\n      <td>0.139096</td>\n      <td>0.169997</td>\n      <td>0.204414</td>\n    </tr>\n    <tr>\n      <th>75</th>\n      <td>10.0</td>\n      <td>0.129300</td>\n      <td>0.024761</td>\n      <td>0.098459</td>\n      <td>0.115707</td>\n      <td>0.122150</td>\n      <td>0.145491</td>\n      <td>0.177426</td>\n    </tr>\n    <tr>\n      <th>100</th>\n      <td>10.0</td>\n      <td>0.135762</td>\n      <td>0.028902</td>\n      <td>0.095807</td>\n      <td>0.116471</td>\n      <td>0.134557</td>\n      <td>0.151644</td>\n      <td>0.185759</td>\n    </tr>\n  </tbody>\n</table>\n</div>"
     },
     "execution_count": 59,
     "metadata": {},
     "output_type": "execute_result"
    }
   ],
   "source": [
    "grouped['dis']"
   ],
   "metadata": {
    "collapsed": false,
    "ExecuteTime": {
     "end_time": "2023-06-17T15:00:53.247281700Z",
     "start_time": "2023-06-17T15:00:53.119473900Z"
    }
   }
  },
  {
   "cell_type": "code",
   "execution_count": 68,
   "outputs": [
    {
     "data": {
      "text/plain": "                   count      mean       std       min       25%       50%  \\\nbase          n                                                              \nGaussianNB    5     10.0  1.040238  0.007001  1.030980  1.035626  1.039003   \n              10    10.0  1.054744  0.007806  1.042641  1.049137  1.055437   \n              20    10.0  1.086940  0.009398  1.070377  1.080910  1.086975   \n              50    10.0  1.108364  0.004352  1.100188  1.105846  1.108138   \n              75    10.0  1.110904  0.004207  1.104007  1.107841  1.111215   \n              100   10.0  1.110710  0.004665  1.103834  1.107429  1.111343   \nMLPClassifier 5     10.0  1.032787  0.003080  1.027859  1.030453  1.032601   \n              10    10.0  1.031333  0.003160  1.026938  1.029237  1.031043   \n              20    10.0  1.034194  0.005878  1.027439  1.030268  1.032275   \n              50    10.0  1.035793  0.009696  1.022066  1.028865  1.034774   \n              75    10.0  1.032325  0.006190  1.024615  1.028927  1.030538   \n              100   10.0  1.033941  0.007226  1.023952  1.029118  1.033639   \n\n                        75%       max  \nbase          n                        \nGaussianNB    5    1.044013  1.052934  \n              10   1.059542  1.068087  \n              20   1.092731  1.102597  \n              50   1.111006  1.114772  \n              75   1.113890  1.116380  \n              100  1.114471  1.116872  \nMLPClassifier 5    1.035759  1.036525  \n              10   1.033789  1.036581  \n              20   1.036754  1.045006  \n              50   1.042499  1.051104  \n              75   1.036373  1.044357  \n              100  1.037911  1.046440  ",
      "text/html": "<div>\n<style scoped>\n    .dataframe tbody tr th:only-of-type {\n        vertical-align: middle;\n    }\n\n    .dataframe tbody tr th {\n        vertical-align: top;\n    }\n\n    .dataframe thead th {\n        text-align: right;\n    }\n</style>\n<table border=\"1\" class=\"dataframe\">\n  <thead>\n    <tr style=\"text-align: right;\">\n      <th></th>\n      <th></th>\n      <th>count</th>\n      <th>mean</th>\n      <th>std</th>\n      <th>min</th>\n      <th>25%</th>\n      <th>50%</th>\n      <th>75%</th>\n      <th>max</th>\n    </tr>\n    <tr>\n      <th>base</th>\n      <th>n</th>\n      <th></th>\n      <th></th>\n      <th></th>\n      <th></th>\n      <th></th>\n      <th></th>\n      <th></th>\n      <th></th>\n    </tr>\n  </thead>\n  <tbody>\n    <tr>\n      <th rowspan=\"6\" valign=\"top\">GaussianNB</th>\n      <th>5</th>\n      <td>10.0</td>\n      <td>1.040238</td>\n      <td>0.007001</td>\n      <td>1.030980</td>\n      <td>1.035626</td>\n      <td>1.039003</td>\n      <td>1.044013</td>\n      <td>1.052934</td>\n    </tr>\n    <tr>\n      <th>10</th>\n      <td>10.0</td>\n      <td>1.054744</td>\n      <td>0.007806</td>\n      <td>1.042641</td>\n      <td>1.049137</td>\n      <td>1.055437</td>\n      <td>1.059542</td>\n      <td>1.068087</td>\n    </tr>\n    <tr>\n      <th>20</th>\n      <td>10.0</td>\n      <td>1.086940</td>\n      <td>0.009398</td>\n      <td>1.070377</td>\n      <td>1.080910</td>\n      <td>1.086975</td>\n      <td>1.092731</td>\n      <td>1.102597</td>\n    </tr>\n    <tr>\n      <th>50</th>\n      <td>10.0</td>\n      <td>1.108364</td>\n      <td>0.004352</td>\n      <td>1.100188</td>\n      <td>1.105846</td>\n      <td>1.108138</td>\n      <td>1.111006</td>\n      <td>1.114772</td>\n    </tr>\n    <tr>\n      <th>75</th>\n      <td>10.0</td>\n      <td>1.110904</td>\n      <td>0.004207</td>\n      <td>1.104007</td>\n      <td>1.107841</td>\n      <td>1.111215</td>\n      <td>1.113890</td>\n      <td>1.116380</td>\n    </tr>\n    <tr>\n      <th>100</th>\n      <td>10.0</td>\n      <td>1.110710</td>\n      <td>0.004665</td>\n      <td>1.103834</td>\n      <td>1.107429</td>\n      <td>1.111343</td>\n      <td>1.114471</td>\n      <td>1.116872</td>\n    </tr>\n    <tr>\n      <th rowspan=\"6\" valign=\"top\">MLPClassifier</th>\n      <th>5</th>\n      <td>10.0</td>\n      <td>1.032787</td>\n      <td>0.003080</td>\n      <td>1.027859</td>\n      <td>1.030453</td>\n      <td>1.032601</td>\n      <td>1.035759</td>\n      <td>1.036525</td>\n    </tr>\n    <tr>\n      <th>10</th>\n      <td>10.0</td>\n      <td>1.031333</td>\n      <td>0.003160</td>\n      <td>1.026938</td>\n      <td>1.029237</td>\n      <td>1.031043</td>\n      <td>1.033789</td>\n      <td>1.036581</td>\n    </tr>\n    <tr>\n      <th>20</th>\n      <td>10.0</td>\n      <td>1.034194</td>\n      <td>0.005878</td>\n      <td>1.027439</td>\n      <td>1.030268</td>\n      <td>1.032275</td>\n      <td>1.036754</td>\n      <td>1.045006</td>\n    </tr>\n    <tr>\n      <th>50</th>\n      <td>10.0</td>\n      <td>1.035793</td>\n      <td>0.009696</td>\n      <td>1.022066</td>\n      <td>1.028865</td>\n      <td>1.034774</td>\n      <td>1.042499</td>\n      <td>1.051104</td>\n    </tr>\n    <tr>\n      <th>75</th>\n      <td>10.0</td>\n      <td>1.032325</td>\n      <td>0.006190</td>\n      <td>1.024615</td>\n      <td>1.028927</td>\n      <td>1.030538</td>\n      <td>1.036373</td>\n      <td>1.044357</td>\n    </tr>\n    <tr>\n      <th>100</th>\n      <td>10.0</td>\n      <td>1.033941</td>\n      <td>0.007226</td>\n      <td>1.023952</td>\n      <td>1.029118</td>\n      <td>1.033639</td>\n      <td>1.037911</td>\n      <td>1.046440</td>\n    </tr>\n  </tbody>\n</table>\n</div>"
     },
     "execution_count": 68,
     "metadata": {},
     "output_type": "execute_result"
    }
   ],
   "source": [
    "grouped['k']"
   ],
   "metadata": {
    "collapsed": false,
    "ExecuteTime": {
     "end_time": "2023-06-17T15:09:06.565102600Z",
     "start_time": "2023-06-17T15:09:06.525335500Z"
    }
   }
  },
  {
   "cell_type": "code",
   "execution_count": 78,
   "outputs": [
    {
     "data": {
      "text/plain": "                       mean       std       min       max\nn   base                                                 \n5   GaussianNB    -0.171055  0.037548 -0.227960 -0.095556\n    MLPClassifier -0.208743  0.022023 -0.242747 -0.182949\n10  GaussianNB     0.279331  0.044532  0.213495  0.360707\n    MLPClassifier  0.157277  0.017709  0.133576  0.187172\n20  GaussianNB     0.485040  0.067002  0.378303  0.600818\n    MLPClassifier  0.182297  0.033563  0.144111  0.244869\n50  GaussianNB     0.683302  0.042390  0.608384  0.751665\n    MLPClassifier  0.199063  0.056955  0.119887  0.293418\n75  GaussianNB     0.705901  0.042925  0.641040  0.767200\n    MLPClassifier  0.156860  0.035608  0.109867  0.219671\n100 GaussianNB     0.737809  0.050017  0.671301  0.815651\n    MLPClassifier  0.190583  0.041947  0.131681  0.256051",
      "text/html": "<div>\n<style scoped>\n    .dataframe tbody tr th:only-of-type {\n        vertical-align: middle;\n    }\n\n    .dataframe tbody tr th {\n        vertical-align: top;\n    }\n\n    .dataframe thead th {\n        text-align: right;\n    }\n</style>\n<table border=\"1\" class=\"dataframe\">\n  <thead>\n    <tr style=\"text-align: right;\">\n      <th></th>\n      <th></th>\n      <th>mean</th>\n      <th>std</th>\n      <th>min</th>\n      <th>max</th>\n    </tr>\n    <tr>\n      <th>n</th>\n      <th>base</th>\n      <th></th>\n      <th></th>\n      <th></th>\n      <th></th>\n    </tr>\n  </thead>\n  <tbody>\n    <tr>\n      <th rowspan=\"2\" valign=\"top\">5</th>\n      <th>GaussianNB</th>\n      <td>-0.171055</td>\n      <td>0.037548</td>\n      <td>-0.227960</td>\n      <td>-0.095556</td>\n    </tr>\n    <tr>\n      <th>MLPClassifier</th>\n      <td>-0.208743</td>\n      <td>0.022023</td>\n      <td>-0.242747</td>\n      <td>-0.182949</td>\n    </tr>\n    <tr>\n      <th rowspan=\"2\" valign=\"top\">10</th>\n      <th>GaussianNB</th>\n      <td>0.279331</td>\n      <td>0.044532</td>\n      <td>0.213495</td>\n      <td>0.360707</td>\n    </tr>\n    <tr>\n      <th>MLPClassifier</th>\n      <td>0.157277</td>\n      <td>0.017709</td>\n      <td>0.133576</td>\n      <td>0.187172</td>\n    </tr>\n    <tr>\n      <th rowspan=\"2\" valign=\"top\">20</th>\n      <th>GaussianNB</th>\n      <td>0.485040</td>\n      <td>0.067002</td>\n      <td>0.378303</td>\n      <td>0.600818</td>\n    </tr>\n    <tr>\n      <th>MLPClassifier</th>\n      <td>0.182297</td>\n      <td>0.033563</td>\n      <td>0.144111</td>\n      <td>0.244869</td>\n    </tr>\n    <tr>\n      <th rowspan=\"2\" valign=\"top\">50</th>\n      <th>GaussianNB</th>\n      <td>0.683302</td>\n      <td>0.042390</td>\n      <td>0.608384</td>\n      <td>0.751665</td>\n    </tr>\n    <tr>\n      <th>MLPClassifier</th>\n      <td>0.199063</td>\n      <td>0.056955</td>\n      <td>0.119887</td>\n      <td>0.293418</td>\n    </tr>\n    <tr>\n      <th rowspan=\"2\" valign=\"top\">75</th>\n      <th>GaussianNB</th>\n      <td>0.705901</td>\n      <td>0.042925</td>\n      <td>0.641040</td>\n      <td>0.767200</td>\n    </tr>\n    <tr>\n      <th>MLPClassifier</th>\n      <td>0.156860</td>\n      <td>0.035608</td>\n      <td>0.109867</td>\n      <td>0.219671</td>\n    </tr>\n    <tr>\n      <th rowspan=\"2\" valign=\"top\">100</th>\n      <th>GaussianNB</th>\n      <td>0.737809</td>\n      <td>0.050017</td>\n      <td>0.671301</td>\n      <td>0.815651</td>\n    </tr>\n    <tr>\n      <th>MLPClassifier</th>\n      <td>0.190583</td>\n      <td>0.041947</td>\n      <td>0.131681</td>\n      <td>0.256051</td>\n    </tr>\n  </tbody>\n</table>\n</div>"
     },
     "execution_count": 78,
     "metadata": {},
     "output_type": "execute_result"
    }
   ],
   "source": [
    "grouped2 = s.groupby(by=['n', 'base']).describe()\n",
    "grouped2['e'][['mean', 'std', 'min', 'max']]"
   ],
   "metadata": {
    "collapsed": false,
    "ExecuteTime": {
     "end_time": "2023-06-17T15:12:22.837840300Z",
     "start_time": "2023-06-17T15:12:22.744594200Z"
    }
   }
  }
 ],
 "metadata": {
  "kernelspec": {
   "display_name": "Python 3",
   "language": "python",
   "name": "python3"
  },
  "language_info": {
   "codemirror_mode": {
    "name": "ipython",
    "version": 2
   },
   "file_extension": ".py",
   "mimetype": "text/x-python",
   "name": "python",
   "nbconvert_exporter": "python",
   "pygments_lexer": "ipython2",
   "version": "2.7.6"
  }
 },
 "nbformat": 4,
 "nbformat_minor": 0
}
