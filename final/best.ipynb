{
 "cells": [
  {
   "cell_type": "markdown",
   "source": [
    "|  | n | p | w | k | base | stream | avg |\n",
    "| :--- | :--- | :--- | :--- | :--- | :--- | :--- | :--- |\n",
    "| 4 | 10 | 100 | 10 | 200 | GaussianNB | cdi\\_\\_w2\\_4\\_0,9\\_\\_NC\\_250\\_\\_CS\\_200 | 0.827560 |\n",
    "| 77 | 10 | 50 | 10 | 200 | GaussianNB | cdi\\_\\_w2\\_5\\_0,75\\_\\_NC\\_250\\_\\_CS\\_200 | 0.846555 |\n",
    "| 470 | 5 | 50 | 10 | 200 | GaussianNB | disco\\_\\_w2\\_5\\_0,9\\_\\_NC\\_250\\_\\_CS\\_200 | 0.816362 |\n",
    "| 114 | 30 | 100 | 10 | 200 | MLPClassifier | cdi\\_\\_w2\\_4\\_0,9\\_\\_NC\\_250\\_\\_CS\\_200 | 0.835806 |\n",
    "| 187 | 30 | 50 | 10 | 200 | MLPClassifier | cdi\\_\\_w2\\_5\\_0,75\\_\\_NC\\_250\\_\\_CS\\_200 | 0.855569 |\n",
    "| 423 | 30 | 50 | 20 | 200 | MLPClassifier | disco\\_\\_w2\\_5\\_0,9\\_\\_NC\\_250\\_\\_CS\\_200 | 0.824697 |"
   ],
   "metadata": {
    "collapsed": false
   }
  },
  {
   "cell_type": "code",
   "execution_count": null,
   "outputs": [],
   "source": [
    "{\n",
    "    \"GaussianNB\": [\n",
    "\n",
    "    ],\n",
    "    \"MLPClassifier\": []\n",
    "}"
   ],
   "metadata": {
    "collapsed": false
   }
  }
 ],
 "metadata": {
  "kernelspec": {
   "display_name": "Python 3",
   "language": "python",
   "name": "python3"
  },
  "language_info": {
   "codemirror_mode": {
    "name": "ipython",
    "version": 2
   },
   "file_extension": ".py",
   "mimetype": "text/x-python",
   "name": "python",
   "nbconvert_exporter": "python",
   "pygments_lexer": "ipython2",
   "version": "2.7.6"
  }
 },
 "nbformat": 4,
 "nbformat_minor": 0
}
